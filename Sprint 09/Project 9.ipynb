{
 "cells": [
  {
   "cell_type": "markdown",
   "metadata": {},
   "source": [
    "# FINAL PROJECT - 9"
   ]
  },
  {
   "cell_type": "markdown",
   "metadata": {},
   "source": [
    "## 1. DESCRIPCIÓN DEL PROYECTO\n",
    "\n",
    "**Los clientes de Beta Bank se están yendo**, cada mes, poco a poco. Los banqueros descubrieron que es más barato salvar a los clientes existentes que atraer nuevos.\n"
   ]
  },
  {
   "cell_type": "markdown",
   "metadata": {},
   "source": [
    "### 1.1 Objetivos\n",
    "\n",
    "- Necesitamos predecir si un cliente dejará el banco pronto. Tenemos los datos sobre el comportamiento pasado de los clientes y la terminación de contratos con el banco.\n",
    "\n",
    "- Crear un modelo con el máximo valor F1 posible. Necesitamos un valor F1 de al menos 0.59. Verificar F1 para el conjunto de prueba. \n",
    "\n",
    "- Además, debemos medir la métrica AUC-ROC y compararla con el valor F1."
   ]
  },
  {
   "cell_type": "markdown",
   "metadata": {},
   "source": [
    "### 1.2 Descripción de los Datos\n",
    "\n",
    "Características\n",
    "\n",
    "- RowNumber: índice de cadena de datos\n",
    "- CustomerId: identificador de cliente único\n",
    "- Surname: apellido\n",
    "- CreditScore: valor de crédito\n",
    "- Geography: país de residencia\n",
    "- Gender: sexo\n",
    "- Age: edad\n",
    "- Tenure: período durante el cual ha madurado el depósito a plazo fijo de un cliente (años)\n",
    "- Balance: saldo de la cuenta\n",
    "- NumOfProducts: número de productos bancarios utilizados por el cliente\n",
    "- HasCrCard: el cliente tiene una tarjeta de crédito (1 - sí; 0 - no)\n",
    "- IsActiveMember: actividad del cliente (1 - sí; 0 - no)\n",
    "- EstimatedSalary: salario estimado\n",
    "\n",
    "Objetivo\n",
    "\n",
    "- Exited: El cliente se ha ido (1 - sí; 0 - no)"
   ]
  },
  {
   "cell_type": "markdown",
   "metadata": {},
   "source": [
    "## 2. ABRIR Y LEER LOS DATOS\n",
    "\n",
    "file name. Churn"
   ]
  },
  {
   "cell_type": "markdown",
   "metadata": {},
   "source": [
    "### 2.1 Importar las Librerias"
   ]
  },
  {
   "cell_type": "code",
   "execution_count": 1,
   "metadata": {},
   "outputs": [],
   "source": [
    "# Importar todas las librerias\n",
    "import pandas as pd\n",
    "import numpy as np\n",
    "import matplotlib.pyplot as plt\n",
    "\n",
    "from sklearn.tree import DecisionTreeClassifier\n",
    "from sklearn.ensemble import RandomForestClassifier \n",
    "from sklearn.linear_model import LogisticRegression\n",
    "from sklearn.preprocessing import StandardScaler\n",
    "from sklearn.utils import shuffle \n",
    "from sklearn.metrics import roc_auc_score, f1_score \n",
    "\n",
    "import warnings\n",
    "warnings.filterwarnings(\"ignore\")"
   ]
  },
  {
   "cell_type": "markdown",
   "metadata": {},
   "source": [
    "### 2.2 Abrir y Leer los Datos"
   ]
  },
  {
   "cell_type": "code",
   "execution_count": 2,
   "metadata": {},
   "outputs": [
    {
     "data": {
      "text/html": [
       "<div>\n",
       "<style scoped>\n",
       "    .dataframe tbody tr th:only-of-type {\n",
       "        vertical-align: middle;\n",
       "    }\n",
       "\n",
       "    .dataframe tbody tr th {\n",
       "        vertical-align: top;\n",
       "    }\n",
       "\n",
       "    .dataframe thead th {\n",
       "        text-align: right;\n",
       "    }\n",
       "</style>\n",
       "<table border=\"1\" class=\"dataframe\">\n",
       "  <thead>\n",
       "    <tr style=\"text-align: right;\">\n",
       "      <th></th>\n",
       "      <th>RowNumber</th>\n",
       "      <th>CustomerId</th>\n",
       "      <th>Surname</th>\n",
       "      <th>CreditScore</th>\n",
       "      <th>Geography</th>\n",
       "      <th>Gender</th>\n",
       "      <th>Age</th>\n",
       "      <th>Tenure</th>\n",
       "      <th>Balance</th>\n",
       "      <th>NumOfProducts</th>\n",
       "      <th>HasCrCard</th>\n",
       "      <th>IsActiveMember</th>\n",
       "      <th>EstimatedSalary</th>\n",
       "      <th>Exited</th>\n",
       "    </tr>\n",
       "  </thead>\n",
       "  <tbody>\n",
       "    <tr>\n",
       "      <th>0</th>\n",
       "      <td>1</td>\n",
       "      <td>15634602</td>\n",
       "      <td>Hargrave</td>\n",
       "      <td>619</td>\n",
       "      <td>France</td>\n",
       "      <td>Female</td>\n",
       "      <td>42</td>\n",
       "      <td>2.0</td>\n",
       "      <td>0.00</td>\n",
       "      <td>1</td>\n",
       "      <td>1</td>\n",
       "      <td>1</td>\n",
       "      <td>101348.88</td>\n",
       "      <td>1</td>\n",
       "    </tr>\n",
       "    <tr>\n",
       "      <th>1</th>\n",
       "      <td>2</td>\n",
       "      <td>15647311</td>\n",
       "      <td>Hill</td>\n",
       "      <td>608</td>\n",
       "      <td>Spain</td>\n",
       "      <td>Female</td>\n",
       "      <td>41</td>\n",
       "      <td>1.0</td>\n",
       "      <td>83807.86</td>\n",
       "      <td>1</td>\n",
       "      <td>0</td>\n",
       "      <td>1</td>\n",
       "      <td>112542.58</td>\n",
       "      <td>0</td>\n",
       "    </tr>\n",
       "    <tr>\n",
       "      <th>2</th>\n",
       "      <td>3</td>\n",
       "      <td>15619304</td>\n",
       "      <td>Onio</td>\n",
       "      <td>502</td>\n",
       "      <td>France</td>\n",
       "      <td>Female</td>\n",
       "      <td>42</td>\n",
       "      <td>8.0</td>\n",
       "      <td>159660.80</td>\n",
       "      <td>3</td>\n",
       "      <td>1</td>\n",
       "      <td>0</td>\n",
       "      <td>113931.57</td>\n",
       "      <td>1</td>\n",
       "    </tr>\n",
       "    <tr>\n",
       "      <th>3</th>\n",
       "      <td>4</td>\n",
       "      <td>15701354</td>\n",
       "      <td>Boni</td>\n",
       "      <td>699</td>\n",
       "      <td>France</td>\n",
       "      <td>Female</td>\n",
       "      <td>39</td>\n",
       "      <td>1.0</td>\n",
       "      <td>0.00</td>\n",
       "      <td>2</td>\n",
       "      <td>0</td>\n",
       "      <td>0</td>\n",
       "      <td>93826.63</td>\n",
       "      <td>0</td>\n",
       "    </tr>\n",
       "    <tr>\n",
       "      <th>4</th>\n",
       "      <td>5</td>\n",
       "      <td>15737888</td>\n",
       "      <td>Mitchell</td>\n",
       "      <td>850</td>\n",
       "      <td>Spain</td>\n",
       "      <td>Female</td>\n",
       "      <td>43</td>\n",
       "      <td>2.0</td>\n",
       "      <td>125510.82</td>\n",
       "      <td>1</td>\n",
       "      <td>1</td>\n",
       "      <td>1</td>\n",
       "      <td>79084.10</td>\n",
       "      <td>0</td>\n",
       "    </tr>\n",
       "  </tbody>\n",
       "</table>\n",
       "</div>"
      ],
      "text/plain": [
       "   RowNumber  CustomerId   Surname  CreditScore Geography  Gender  Age  \\\n",
       "0          1    15634602  Hargrave          619    France  Female   42   \n",
       "1          2    15647311      Hill          608     Spain  Female   41   \n",
       "2          3    15619304      Onio          502    France  Female   42   \n",
       "3          4    15701354      Boni          699    France  Female   39   \n",
       "4          5    15737888  Mitchell          850     Spain  Female   43   \n",
       "\n",
       "   Tenure    Balance  NumOfProducts  HasCrCard  IsActiveMember  \\\n",
       "0     2.0       0.00              1          1               1   \n",
       "1     1.0   83807.86              1          0               1   \n",
       "2     8.0  159660.80              3          1               0   \n",
       "3     1.0       0.00              2          0               0   \n",
       "4     2.0  125510.82              1          1               1   \n",
       "\n",
       "   EstimatedSalary  Exited  \n",
       "0        101348.88       1  \n",
       "1        112542.58       0  \n",
       "2        113931.57       1  \n",
       "3         93826.63       0  \n",
       "4         79084.10       0  "
      ]
     },
     "execution_count": 2,
     "metadata": {},
     "output_type": "execute_result"
    }
   ],
   "source": [
    "# Abrir el archivo y guardarlo en la variable 'df'\n",
    "df = pd.read_csv('Churn.csv')\n",
    "df.head()"
   ]
  },
  {
   "cell_type": "code",
   "execution_count": 3,
   "metadata": {},
   "outputs": [
    {
     "name": "stdout",
     "output_type": "stream",
     "text": [
      "<class 'pandas.core.frame.DataFrame'>\n",
      "RangeIndex: 10000 entries, 0 to 9999\n",
      "Data columns (total 14 columns):\n",
      " #   Column           Non-Null Count  Dtype  \n",
      "---  ------           --------------  -----  \n",
      " 0   RowNumber        10000 non-null  int64  \n",
      " 1   CustomerId       10000 non-null  int64  \n",
      " 2   Surname          10000 non-null  object \n",
      " 3   CreditScore      10000 non-null  int64  \n",
      " 4   Geography        10000 non-null  object \n",
      " 5   Gender           10000 non-null  object \n",
      " 6   Age              10000 non-null  int64  \n",
      " 7   Tenure           9091 non-null   float64\n",
      " 8   Balance          10000 non-null  float64\n",
      " 9   NumOfProducts    10000 non-null  int64  \n",
      " 10  HasCrCard        10000 non-null  int64  \n",
      " 11  IsActiveMember   10000 non-null  int64  \n",
      " 12  EstimatedSalary  10000 non-null  float64\n",
      " 13  Exited           10000 non-null  int64  \n",
      "dtypes: float64(3), int64(8), object(3)\n",
      "memory usage: 1.1+ MB\n"
     ]
    }
   ],
   "source": [
    "# Comprobar la informacion general\n",
    "df.info()"
   ]
  },
  {
   "cell_type": "code",
   "execution_count": 4,
   "metadata": {},
   "outputs": [
    {
     "data": {
      "text/plain": [
       "(10000, 14)"
      ]
     },
     "execution_count": 4,
     "metadata": {},
     "output_type": "execute_result"
    }
   ],
   "source": [
    "# Verificar numero de filas y columnas\n",
    "df.shape"
   ]
  },
  {
   "cell_type": "markdown",
   "metadata": {},
   "source": [
    "**COMENTARIO**\n",
    "\n",
    "- El conjunto de datos contiene 10,000 filas u observaciones.\n",
    "- La columna tenure tiene un número significativo de valores faltantes que necesitan ser corregidos.\n",
    "- Algunas características, como RowNumber, CustomerId y Surname, no son relevantes para el proceso de aprendizaje automático y pueden ser eliminadas.\n",
    "- La presencia de características categóricas, como Geography y Gender, puede presentar desafíos para entrenar modelos usando regresión logística. Se aplicará Codificación One-Hot para convertir estas características categóricas en representaciones numéricas.\n"
   ]
  },
  {
   "cell_type": "markdown",
   "metadata": {},
   "source": [
    "## 3. PRE PROCESAMIENTO DE DATOS"
   ]
  },
  {
   "cell_type": "markdown",
   "metadata": {},
   "source": [
    "### 3.1 Manipular los Valores Ausentes\n",
    "\n",
    "Se enontraron 909 valores ausentes en la columna (feature) **Tenure**"
   ]
  },
  {
   "cell_type": "code",
   "execution_count": 5,
   "metadata": {},
   "outputs": [
    {
     "data": {
      "text/plain": [
       "array([ 2.,  1.,  8.,  7.,  4.,  6.,  3., 10.,  5.,  9.,  0., nan])"
      ]
     },
     "execution_count": 5,
     "metadata": {},
     "output_type": "execute_result"
    }
   ],
   "source": [
    "# Visualizar los valores unicos en 'Tenure'\n",
    "df['Tenure'].unique()"
   ]
  },
  {
   "cell_type": "markdown",
   "metadata": {},
   "source": [
    "**COMENTARIO**\n",
    "\n",
    "Ya que los valores en 'Tenure' van del 0 al 10, vamos a rellenar los valores ausentes con el promedio de los demas valores."
   ]
  },
  {
   "cell_type": "code",
   "execution_count": 6,
   "metadata": {},
   "outputs": [],
   "source": [
    "# Rellenar los valores ausentes con 'median' (promedio)\n",
    "median = df['Tenure'].median()\n",
    "df['Tenure'] = df['Tenure'].fillna(median).astype(int)"
   ]
  },
  {
   "cell_type": "code",
   "execution_count": 7,
   "metadata": {},
   "outputs": [
    {
     "data": {
      "text/plain": [
       "array([ 2,  1,  8,  7,  4,  6,  3, 10,  5,  9,  0])"
      ]
     },
     "execution_count": 7,
     "metadata": {},
     "output_type": "execute_result"
    }
   ],
   "source": [
    "# Comprobar el resultado de los valores unicos\n",
    "df['Tenure'].unique() "
   ]
  },
  {
   "cell_type": "markdown",
   "metadata": {},
   "source": [
    "### 3.2 Eliminar Filas Inecesarias\n",
    "\n",
    "Las caracteristicas inecesarias son: \n",
    "\n",
    "- RowNumber\n",
    "\n",
    "- CustomerId\n",
    "\n",
    "- Surname"
   ]
  },
  {
   "cell_type": "code",
   "execution_count": 8,
   "metadata": {},
   "outputs": [
    {
     "data": {
      "text/html": [
       "<div>\n",
       "<style scoped>\n",
       "    .dataframe tbody tr th:only-of-type {\n",
       "        vertical-align: middle;\n",
       "    }\n",
       "\n",
       "    .dataframe tbody tr th {\n",
       "        vertical-align: top;\n",
       "    }\n",
       "\n",
       "    .dataframe thead th {\n",
       "        text-align: right;\n",
       "    }\n",
       "</style>\n",
       "<table border=\"1\" class=\"dataframe\">\n",
       "  <thead>\n",
       "    <tr style=\"text-align: right;\">\n",
       "      <th></th>\n",
       "      <th>CreditScore</th>\n",
       "      <th>Geography</th>\n",
       "      <th>Gender</th>\n",
       "      <th>Age</th>\n",
       "      <th>Tenure</th>\n",
       "      <th>Balance</th>\n",
       "      <th>NumOfProducts</th>\n",
       "      <th>HasCrCard</th>\n",
       "      <th>IsActiveMember</th>\n",
       "      <th>EstimatedSalary</th>\n",
       "      <th>Exited</th>\n",
       "    </tr>\n",
       "  </thead>\n",
       "  <tbody>\n",
       "    <tr>\n",
       "      <th>0</th>\n",
       "      <td>619</td>\n",
       "      <td>France</td>\n",
       "      <td>Female</td>\n",
       "      <td>42</td>\n",
       "      <td>2</td>\n",
       "      <td>0.00</td>\n",
       "      <td>1</td>\n",
       "      <td>1</td>\n",
       "      <td>1</td>\n",
       "      <td>101348.88</td>\n",
       "      <td>1</td>\n",
       "    </tr>\n",
       "    <tr>\n",
       "      <th>1</th>\n",
       "      <td>608</td>\n",
       "      <td>Spain</td>\n",
       "      <td>Female</td>\n",
       "      <td>41</td>\n",
       "      <td>1</td>\n",
       "      <td>83807.86</td>\n",
       "      <td>1</td>\n",
       "      <td>0</td>\n",
       "      <td>1</td>\n",
       "      <td>112542.58</td>\n",
       "      <td>0</td>\n",
       "    </tr>\n",
       "    <tr>\n",
       "      <th>2</th>\n",
       "      <td>502</td>\n",
       "      <td>France</td>\n",
       "      <td>Female</td>\n",
       "      <td>42</td>\n",
       "      <td>8</td>\n",
       "      <td>159660.80</td>\n",
       "      <td>3</td>\n",
       "      <td>1</td>\n",
       "      <td>0</td>\n",
       "      <td>113931.57</td>\n",
       "      <td>1</td>\n",
       "    </tr>\n",
       "    <tr>\n",
       "      <th>3</th>\n",
       "      <td>699</td>\n",
       "      <td>France</td>\n",
       "      <td>Female</td>\n",
       "      <td>39</td>\n",
       "      <td>1</td>\n",
       "      <td>0.00</td>\n",
       "      <td>2</td>\n",
       "      <td>0</td>\n",
       "      <td>0</td>\n",
       "      <td>93826.63</td>\n",
       "      <td>0</td>\n",
       "    </tr>\n",
       "    <tr>\n",
       "      <th>4</th>\n",
       "      <td>850</td>\n",
       "      <td>Spain</td>\n",
       "      <td>Female</td>\n",
       "      <td>43</td>\n",
       "      <td>2</td>\n",
       "      <td>125510.82</td>\n",
       "      <td>1</td>\n",
       "      <td>1</td>\n",
       "      <td>1</td>\n",
       "      <td>79084.10</td>\n",
       "      <td>0</td>\n",
       "    </tr>\n",
       "  </tbody>\n",
       "</table>\n",
       "</div>"
      ],
      "text/plain": [
       "   CreditScore Geography  Gender  Age  Tenure    Balance  NumOfProducts  \\\n",
       "0          619    France  Female   42       2       0.00              1   \n",
       "1          608     Spain  Female   41       1   83807.86              1   \n",
       "2          502    France  Female   42       8  159660.80              3   \n",
       "3          699    France  Female   39       1       0.00              2   \n",
       "4          850     Spain  Female   43       2  125510.82              1   \n",
       "\n",
       "   HasCrCard  IsActiveMember  EstimatedSalary  Exited  \n",
       "0          1               1        101348.88       1  \n",
       "1          0               1        112542.58       0  \n",
       "2          1               0        113931.57       1  \n",
       "3          0               0         93826.63       0  \n",
       "4          1               1         79084.10       0  "
      ]
     },
     "execution_count": 8,
     "metadata": {},
     "output_type": "execute_result"
    }
   ],
   "source": [
    "# Eliminar features inecesarias\n",
    "df = df.drop(['RowNumber', 'CustomerId', 'Surname'], axis=1)\n",
    "df.head()"
   ]
  },
  {
   "cell_type": "markdown",
   "metadata": {},
   "source": [
    "### 3.3 Manipular las Características Categóricas\n",
    "\n",
    "Las caracteristicas categoricas que necesitan ser cambiadas estan en 'Geography' y 'Gender'"
   ]
  },
  {
   "cell_type": "code",
   "execution_count": 9,
   "metadata": {},
   "outputs": [
    {
     "data": {
      "text/plain": [
       "array(['Female', 'Male'], dtype=object)"
      ]
     },
     "execution_count": 9,
     "metadata": {},
     "output_type": "execute_result"
    }
   ],
   "source": [
    "# Comprobar los valores unicos en 'Gender'\n",
    "df['Gender'].unique()"
   ]
  },
  {
   "cell_type": "code",
   "execution_count": 10,
   "metadata": {},
   "outputs": [
    {
     "data": {
      "text/plain": [
       "array(['France', 'Spain', 'Germany'], dtype=object)"
      ]
     },
     "execution_count": 10,
     "metadata": {},
     "output_type": "execute_result"
    }
   ],
   "source": [
    "# Comprobar los valores unicos en 'Geography'\n",
    "df['Geography'].unique()"
   ]
  },
  {
   "cell_type": "code",
   "execution_count": 11,
   "metadata": {},
   "outputs": [
    {
     "data": {
      "text/html": [
       "<div>\n",
       "<style scoped>\n",
       "    .dataframe tbody tr th:only-of-type {\n",
       "        vertical-align: middle;\n",
       "    }\n",
       "\n",
       "    .dataframe tbody tr th {\n",
       "        vertical-align: top;\n",
       "    }\n",
       "\n",
       "    .dataframe thead th {\n",
       "        text-align: right;\n",
       "    }\n",
       "</style>\n",
       "<table border=\"1\" class=\"dataframe\">\n",
       "  <thead>\n",
       "    <tr style=\"text-align: right;\">\n",
       "      <th></th>\n",
       "      <th>CreditScore</th>\n",
       "      <th>Age</th>\n",
       "      <th>Tenure</th>\n",
       "      <th>Balance</th>\n",
       "      <th>NumOfProducts</th>\n",
       "      <th>HasCrCard</th>\n",
       "      <th>IsActiveMember</th>\n",
       "      <th>EstimatedSalary</th>\n",
       "      <th>Exited</th>\n",
       "      <th>Geography_Germany</th>\n",
       "      <th>Geography_Spain</th>\n",
       "      <th>Gender_Male</th>\n",
       "    </tr>\n",
       "  </thead>\n",
       "  <tbody>\n",
       "    <tr>\n",
       "      <th>0</th>\n",
       "      <td>619</td>\n",
       "      <td>42</td>\n",
       "      <td>2</td>\n",
       "      <td>0</td>\n",
       "      <td>1</td>\n",
       "      <td>1</td>\n",
       "      <td>1</td>\n",
       "      <td>101348</td>\n",
       "      <td>1</td>\n",
       "      <td>0</td>\n",
       "      <td>0</td>\n",
       "      <td>0</td>\n",
       "    </tr>\n",
       "    <tr>\n",
       "      <th>1</th>\n",
       "      <td>608</td>\n",
       "      <td>41</td>\n",
       "      <td>1</td>\n",
       "      <td>83807</td>\n",
       "      <td>1</td>\n",
       "      <td>0</td>\n",
       "      <td>1</td>\n",
       "      <td>112542</td>\n",
       "      <td>0</td>\n",
       "      <td>0</td>\n",
       "      <td>1</td>\n",
       "      <td>0</td>\n",
       "    </tr>\n",
       "    <tr>\n",
       "      <th>2</th>\n",
       "      <td>502</td>\n",
       "      <td>42</td>\n",
       "      <td>8</td>\n",
       "      <td>159660</td>\n",
       "      <td>3</td>\n",
       "      <td>1</td>\n",
       "      <td>0</td>\n",
       "      <td>113931</td>\n",
       "      <td>1</td>\n",
       "      <td>0</td>\n",
       "      <td>0</td>\n",
       "      <td>0</td>\n",
       "    </tr>\n",
       "    <tr>\n",
       "      <th>3</th>\n",
       "      <td>699</td>\n",
       "      <td>39</td>\n",
       "      <td>1</td>\n",
       "      <td>0</td>\n",
       "      <td>2</td>\n",
       "      <td>0</td>\n",
       "      <td>0</td>\n",
       "      <td>93826</td>\n",
       "      <td>0</td>\n",
       "      <td>0</td>\n",
       "      <td>0</td>\n",
       "      <td>0</td>\n",
       "    </tr>\n",
       "    <tr>\n",
       "      <th>4</th>\n",
       "      <td>850</td>\n",
       "      <td>43</td>\n",
       "      <td>2</td>\n",
       "      <td>125510</td>\n",
       "      <td>1</td>\n",
       "      <td>1</td>\n",
       "      <td>1</td>\n",
       "      <td>79084</td>\n",
       "      <td>0</td>\n",
       "      <td>0</td>\n",
       "      <td>1</td>\n",
       "      <td>0</td>\n",
       "    </tr>\n",
       "  </tbody>\n",
       "</table>\n",
       "</div>"
      ],
      "text/plain": [
       "   CreditScore  Age  Tenure  Balance  NumOfProducts  HasCrCard  \\\n",
       "0          619   42       2        0              1          1   \n",
       "1          608   41       1    83807              1          0   \n",
       "2          502   42       8   159660              3          1   \n",
       "3          699   39       1        0              2          0   \n",
       "4          850   43       2   125510              1          1   \n",
       "\n",
       "   IsActiveMember  EstimatedSalary  Exited  Geography_Germany  \\\n",
       "0               1           101348       1                  0   \n",
       "1               1           112542       0                  0   \n",
       "2               0           113931       1                  0   \n",
       "3               0            93826       0                  0   \n",
       "4               1            79084       0                  0   \n",
       "\n",
       "   Geography_Spain  Gender_Male  \n",
       "0                0            0  \n",
       "1                1            0  \n",
       "2                0            0  \n",
       "3                0            0  \n",
       "4                1            0  "
      ]
     },
     "execution_count": 11,
     "metadata": {},
     "output_type": "execute_result"
    }
   ],
   "source": [
    "# Crear dummy features utilizando one-hot encoding\n",
    "data = pd.get_dummies(df, drop_first = True)\n",
    "data = data.astype(int)\n",
    "data.head()"
   ]
  },
  {
   "cell_type": "markdown",
   "metadata": {},
   "source": [
    "### 3.4 Split Dataset\n",
    "\n",
    "Para crear conjuntos de datos separados para entrenamiento, prueba y validación, dividiremos el conjunto de datos existente. Asignaremos el 70% de los datos para fines de entrenamiento, mientras que el 15% restante se asignará para validación y prueba respectivamente."
   ]
  },
  {
   "cell_type": "code",
   "execution_count": 12,
   "metadata": {},
   "outputs": [],
   "source": [
    "# Dividir el dataset\n",
    "train, validate, test = \\\n",
    "              np.split(data.sample(frac=1, random_state=12345), \n",
    "                       [int(.7*len(df)), int(.85*len(df))])"
   ]
  },
  {
   "cell_type": "code",
   "execution_count": 13,
   "metadata": {},
   "outputs": [
    {
     "name": "stdout",
     "output_type": "stream",
     "text": [
      "(7000, 12)\n",
      "(1500, 12)\n",
      "(1500, 12)\n"
     ]
    }
   ],
   "source": [
    "# Comprobar el resultado\n",
    "print(train.shape)\n",
    "print(validate.shape)\n",
    "print(test.shape)"
   ]
  },
  {
   "cell_type": "markdown",
   "metadata": {},
   "source": [
    "**COMENTARIO**\n",
    "\n",
    "Ahora que tenemos nuestros conjuntos de datos listos, los separaremos en características y variables objetivo. La variable objetivo en este caso es la columna Exited, mientras que las columnas restantes se tratarán como las características."
   ]
  },
  {
   "cell_type": "code",
   "execution_count": 14,
   "metadata": {},
   "outputs": [],
   "source": [
    "# Split 'train' dataset\n",
    "features_train = train.drop(['Exited'], axis=1)\n",
    "target_train = train['Exited']"
   ]
  },
  {
   "cell_type": "code",
   "execution_count": 15,
   "metadata": {},
   "outputs": [],
   "source": [
    "# Split 'validate' dataset\n",
    "features_valid = validate.drop(['Exited'], axis=1)\n",
    "target_valid = validate['Exited']"
   ]
  },
  {
   "cell_type": "code",
   "execution_count": 16,
   "metadata": {},
   "outputs": [],
   "source": [
    "# Split 'test' dataset\n",
    "features_test = test.drop(['Exited'], axis=1)\n",
    "target_test = test['Exited']"
   ]
  },
  {
   "cell_type": "markdown",
   "metadata": {},
   "source": [
    "### 3.5 Estandarización de Características Numéricas - Alta Variación"
   ]
  },
  {
   "cell_type": "code",
   "execution_count": 17,
   "metadata": {},
   "outputs": [],
   "source": [
    "# Estandarizacion de datos\n",
    "numeric = ['CreditScore', 'Age', 'Tenure', 'Balance', 'NumOfProducts', 'EstimatedSalary']\n",
    "scaler = StandardScaler()\n",
    "scaler.fit(features_train[numeric])\n",
    "features_train[numeric] = scaler.transform(features_train[numeric])\n",
    "features_valid[numeric] = scaler.transform(features_valid[numeric])\n",
    "features_test[numeric] = scaler.transform(features_test[numeric])"
   ]
  },
  {
   "cell_type": "code",
   "execution_count": 18,
   "metadata": {},
   "outputs": [
    {
     "data": {
      "text/html": [
       "<div>\n",
       "<style scoped>\n",
       "    .dataframe tbody tr th:only-of-type {\n",
       "        vertical-align: middle;\n",
       "    }\n",
       "\n",
       "    .dataframe tbody tr th {\n",
       "        vertical-align: top;\n",
       "    }\n",
       "\n",
       "    .dataframe thead th {\n",
       "        text-align: right;\n",
       "    }\n",
       "</style>\n",
       "<table border=\"1\" class=\"dataframe\">\n",
       "  <thead>\n",
       "    <tr style=\"text-align: right;\">\n",
       "      <th></th>\n",
       "      <th>CreditScore</th>\n",
       "      <th>Age</th>\n",
       "      <th>Tenure</th>\n",
       "      <th>Balance</th>\n",
       "      <th>NumOfProducts</th>\n",
       "      <th>HasCrCard</th>\n",
       "      <th>IsActiveMember</th>\n",
       "      <th>EstimatedSalary</th>\n",
       "      <th>Geography_Germany</th>\n",
       "      <th>Geography_Spain</th>\n",
       "      <th>Gender_Male</th>\n",
       "    </tr>\n",
       "  </thead>\n",
       "  <tbody>\n",
       "    <tr>\n",
       "      <th>7867</th>\n",
       "      <td>-0.104183</td>\n",
       "      <td>0.684058</td>\n",
       "      <td>-0.715697</td>\n",
       "      <td>-1.217598</td>\n",
       "      <td>-0.922862</td>\n",
       "      <td>1</td>\n",
       "      <td>1</td>\n",
       "      <td>0.964061</td>\n",
       "      <td>0</td>\n",
       "      <td>1</td>\n",
       "      <td>0</td>\n",
       "    </tr>\n",
       "    <tr>\n",
       "      <th>1402</th>\n",
       "      <td>1.102215</td>\n",
       "      <td>-0.944912</td>\n",
       "      <td>1.089145</td>\n",
       "      <td>0.867112</td>\n",
       "      <td>-0.922862</td>\n",
       "      <td>1</td>\n",
       "      <td>0</td>\n",
       "      <td>-0.408273</td>\n",
       "      <td>0</td>\n",
       "      <td>0</td>\n",
       "      <td>1</td>\n",
       "    </tr>\n",
       "    <tr>\n",
       "      <th>8606</th>\n",
       "      <td>1.617769</td>\n",
       "      <td>0.300771</td>\n",
       "      <td>0.006240</td>\n",
       "      <td>-1.217598</td>\n",
       "      <td>0.810910</td>\n",
       "      <td>1</td>\n",
       "      <td>1</td>\n",
       "      <td>-0.453018</td>\n",
       "      <td>0</td>\n",
       "      <td>1</td>\n",
       "      <td>1</td>\n",
       "    </tr>\n",
       "    <tr>\n",
       "      <th>8885</th>\n",
       "      <td>0.184527</td>\n",
       "      <td>0.588236</td>\n",
       "      <td>-0.354729</td>\n",
       "      <td>0.422031</td>\n",
       "      <td>0.810910</td>\n",
       "      <td>1</td>\n",
       "      <td>1</td>\n",
       "      <td>1.000968</td>\n",
       "      <td>0</td>\n",
       "      <td>1</td>\n",
       "      <td>1</td>\n",
       "    </tr>\n",
       "    <tr>\n",
       "      <th>6494</th>\n",
       "      <td>0.504171</td>\n",
       "      <td>-1.040734</td>\n",
       "      <td>0.728177</td>\n",
       "      <td>-1.217598</td>\n",
       "      <td>0.810910</td>\n",
       "      <td>1</td>\n",
       "      <td>1</td>\n",
       "      <td>-1.362485</td>\n",
       "      <td>0</td>\n",
       "      <td>0</td>\n",
       "      <td>1</td>\n",
       "    </tr>\n",
       "  </tbody>\n",
       "</table>\n",
       "</div>"
      ],
      "text/plain": [
       "      CreditScore       Age    Tenure   Balance  NumOfProducts  HasCrCard  \\\n",
       "7867    -0.104183  0.684058 -0.715697 -1.217598      -0.922862          1   \n",
       "1402     1.102215 -0.944912  1.089145  0.867112      -0.922862          1   \n",
       "8606     1.617769  0.300771  0.006240 -1.217598       0.810910          1   \n",
       "8885     0.184527  0.588236 -0.354729  0.422031       0.810910          1   \n",
       "6494     0.504171 -1.040734  0.728177 -1.217598       0.810910          1   \n",
       "\n",
       "      IsActiveMember  EstimatedSalary  Geography_Germany  Geography_Spain  \\\n",
       "7867               1         0.964061                  0                1   \n",
       "1402               0        -0.408273                  0                0   \n",
       "8606               1        -0.453018                  0                1   \n",
       "8885               1         1.000968                  0                1   \n",
       "6494               1        -1.362485                  0                0   \n",
       "\n",
       "      Gender_Male  \n",
       "7867            0  \n",
       "1402            1  \n",
       "8606            1  \n",
       "8885            1  \n",
       "6494            1  "
      ]
     },
     "execution_count": 18,
     "metadata": {},
     "output_type": "execute_result"
    }
   ],
   "source": [
    "# Comprobar los resultados\n",
    "features_train.head()"
   ]
  },
  {
   "cell_type": "markdown",
   "metadata": {},
   "source": [
    "**COMENTARIO** \n",
    "\n",
    "Los datos están listos para el modelo"
   ]
  },
  {
   "cell_type": "markdown",
   "metadata": {},
   "source": [
    "## 4. COMPROBAR EL EQUILIBRIO DE CLASE"
   ]
  },
  {
   "cell_type": "markdown",
   "metadata": {},
   "source": [
    "Antes de continuar con el proceso de modelado, es importante realizar una verificación de coherencia examinando el balance de clases de la característica objetivo. Analizaremos la frecuencia de las clases \"1\" y \"0\" en la característica objetivo usando el método value_counts(), que cuenta las ocurrencias de cada valor único en la característica. Esto proporcionará información sobre la distribución de clases y ayudará a asegurar la coherencia de nuestro modelo."
   ]
  },
  {
   "cell_type": "code",
   "execution_count": 19,
   "metadata": {},
   "outputs": [
    {
     "name": "stdout",
     "output_type": "stream",
     "text": [
      "Exited\n",
      "0    0.7963\n",
      "1    0.2037\n",
      "Name: proportion, dtype: float64\n"
     ]
    },
    {
     "data": {
      "image/png": "[encoded data removed]",
      "text/plain": [
       "<Figure size 640x480 with 1 Axes>"
      ]
     },
     "metadata": {},
     "output_type": "display_data"
    }
   ],
   "source": [
    "# Comprobar 'class balance'\n",
    "class_frequency = data['Exited'].value_counts(normalize=True)\n",
    "print(class_frequency)\n",
    "class_frequency.plot(kind='bar', color = 'black')\n",
    "\n",
    "plt.show()"
   ]
  },
  {
   "cell_type": "markdown",
   "metadata": {},
   "source": [
    "**COMENTARIO**\n",
    "\n",
    "El conjunto de datos que tenemos está relativamente desequilibrado, con la clase mayoritaria (valor '0') representando casi el 80 por ciento de los datos objetivo. Por lo tanto, para evaluar el rendimiento de nuestro modelo, necesitamos considerar métricas más allá de la precisión tradicional. En este caso, utilizaremos el F1 score y las métricas de precisión AUC-ROC, que son más adecuadas para manejar el desequilibrio de clases. Al usar estas métricas, podemos evaluar la capacidad del modelo para clasificar con precisión tanto las clases mayoritarias como las minoritarias."
   ]
  },
  {
   "cell_type": "markdown",
   "metadata": {},
   "source": [
    "## 5. ENTRENAR EL MODELO SIN CONSIDERAR EL DESEQUILIBRIO"
   ]
  },
  {
   "cell_type": "markdown",
   "metadata": {},
   "source": [
    "Ahora es momento de crear el modelo. Para el modelado inicial, procederemos sin abordar el desequilibrio de clases para evaluar el rendimiento del modelo. Si el modelo demuestra una precisión satisfactoria y cumple con el nivel deseado de rendimiento, se puede considerar confiable. Sin embargo, si la precisión no cumple con las expectativas, abordaremos el problema del desequilibrio de clases para mejorar el rendimiento del modelo.\n",
    "\n",
    "En este análisis, emplearemos tres modelos de aprendizaje automático de clasificación para determinar el mejor ajuste para nuestro conjunto de datos: árbol de decisión, bosque aleatorio y regresión logística. Al evaluar el rendimiento de estos modelos, podemos identificar el enfoque más adecuado para nuestra tarea de clasificación."
   ]
  },
  {
   "cell_type": "markdown",
   "metadata": {},
   "source": [
    "### 5.1 Arbol de Decision\n",
    "\n",
    "Ajustaremos los hiperparámetros del modelo de árbol de decisión para prevenir el sobreajuste. Específicamente, nos enfocaremos en dos hiperparámetros: \n",
    "- max_depth, que determina la profundidad del árbol de decisión, y \n",
    "- random_state, que asegura la reproducibilidad al establecer una semilla aleatoria fija (12345).\n",
    "\n",
    "Para evaluar la calidad del modelo, evaluaremos tanto el puntaje F1 como el puntaje AUC-ROC. El puntaje F1 compara los resultados predichos con los valores reales de la variable objetivo del conjunto de datos de validación. Además, la función roc_auc_score mide el área bajo la curva característica de operación del receptor (ROC), que ilustra el equilibrio entre la tasa de verdaderos positivos y la tasa de falsos positivos. Para calcular este puntaje, utilizaremos la función predict_proba() para obtener la probabilidad de la clase positiva para cada observación en el conjunto de datos de validación."
   ]
  },
  {
   "cell_type": "code",
   "execution_count": 20,
   "metadata": {},
   "outputs": [
    {
     "name": "stdout",
     "output_type": "stream",
     "text": [
      "Max depth 1, F1 score data train = 0.00 | F1 score data valid = 0.00 | AUC-ROC score = 0.67\n"
     ]
    },
    {
     "name": "stdout",
     "output_type": "stream",
     "text": [
      "Max depth 2, F1 score data train = 0.51 | F1 score data valid = 0.50 | AUC-ROC score = 0.73\n",
      "Max depth 3, F1 score data train = 0.40 | F1 score data valid = 0.37 | AUC-ROC score = 0.77\n",
      "Max depth 4, F1 score data train = 0.52 | F1 score data valid = 0.52 | AUC-ROC score = 0.80\n",
      "Max depth 5, F1 score data train = 0.50 | F1 score data valid = 0.51 | AUC-ROC score = 0.83\n",
      "Max depth 6, F1 score data train = 0.57 | F1 score data valid = 0.55 | AUC-ROC score = 0.84\n",
      "Max depth 7, F1 score data train = 0.62 | F1 score data valid = 0.58 | AUC-ROC score = 0.84\n",
      "Max depth 8, F1 score data train = 0.67 | F1 score data valid = 0.59 | AUC-ROC score = 0.83\n",
      "Max depth 9, F1 score data train = 0.69 | F1 score data valid = 0.59 | AUC-ROC score = 0.82\n",
      "Max depth 10, F1 score data train = 0.74 | F1 score data valid = 0.57 | AUC-ROC score = 0.78\n"
     ]
    }
   ],
   "source": [
    "# Crear el modelo de arbol de decision\n",
    "for i in range(1, 11):     \n",
    "    dt_model = DecisionTreeClassifier(random_state=12345, max_depth=i)\n",
    "    dt_model.fit(features_train, target_train)\n",
    "    dt_pred_train=dt_model.predict(features_train)\n",
    "    dt_pred_valid=dt_model.predict(features_valid)\n",
    "    probabilities_valid = dt_model.predict_proba(features_valid)\n",
    "    probabilities_one_valid = probabilities_valid[:, 1]\n",
    "    f1_train = f1_score(target_train, dt_pred_train).round(2)\n",
    "    f1_valid = f1_score(target_valid, dt_pred_valid).round(2)\n",
    "    roc_auc = roc_auc_score(target_valid, probabilities_one_valid).round(2)\n",
    "    print('Max depth {}, F1 score data train = {:.2f} | F1 score data valid = {:.2f} | AUC-ROC score = {:.2f}'\\\n",
    "          .format(i, f1_train, f1_valid, roc_auc))"
   ]
  },
  {
   "cell_type": "markdown",
   "metadata": {},
   "source": [
    "**COMENTARIO**\n",
    "\n",
    "La mejor configuración de rendimiento para el modelo de árbol de decisión se logra con una max_depth de 8. Esta configuración resulta en el puntaje F1 más alto (0.59) en los datos de validación, así como un puntaje AUC-ROC relativamente alto de 0.83 (el tercero más alto entre las configuraciones probadas). Aunque hay una diferencia notable en el puntaje F1 entre los datos de entrenamiento y validación, sigue dentro de un rango razonable, lo que sugiere que el modelo no está sobreajustado."
   ]
  },
  {
   "cell_type": "markdown",
   "metadata": {},
   "source": [
    "### 5.2 Bosque Aleatorio\n",
    "\n",
    "Procederemos a probar el segundo modelo, que es el bosque aleatorio. En este modelo, ajustaremos el parámetro n_estimators, que representa el número de árboles en el bosque. Probaremos valores que van desde 10 hasta 100 árboles. Además, también exploraremos el parámetro max_depth dentro del rango de 1 a 10, manteniendo el parámetro random_state fijo en 12345."
   ]
  },
  {
   "cell_type": "code",
   "execution_count": 21,
   "metadata": {},
   "outputs": [
    {
     "name": "stdout",
     "output_type": "stream",
     "text": [
      "RandomForestClassifier(max_depth=9, n_estimators=40, random_state=12345)\n"
     ]
    }
   ],
   "source": [
    "# Crear el modelo random forest\n",
    "rf = []\n",
    "for i in range(1, 11):\n",
    "    for j in range(10, 101, 10):\n",
    "        rf_model = RandomForestClassifier(random_state=12345, max_depth=i, n_estimators=j)\n",
    "        rf_model.fit(features_train, target_train)\n",
    "        rf.append(rf_model)\n",
    "    \n",
    "print(max(rf, key=lambda rf_model: f1_score(rf_model.predict(features_valid), target_valid)))"
   ]
  },
  {
   "cell_type": "markdown",
   "metadata": {},
   "source": [
    "**COMENTARIO**\n",
    "\n",
    "El modelo de mejor rendimiento para el clasificador de bosques aleatorios se logra con los hiperparámetros max_depth = 9, n_estimators = 40 y random_state = 12345.\n",
    "\n",
    "Ahora evaluaremos el puntaje F1 y el puntaje AUC-ROC para este modelo. Estas métricas proporcionarán información sobre el rendimiento y la calidad de nuestro modelo."
   ]
  },
  {
   "cell_type": "code",
   "execution_count": 22,
   "metadata": {},
   "outputs": [
    {
     "name": "stdout",
     "output_type": "stream",
     "text": [
      "F1 score train = 0.65     F1 score valid = 0.58     AUC-ROC = 0.85\n"
     ]
    }
   ],
   "source": [
    "# Comprobar el mejor modelo\n",
    "best_rf_model = RandomForestClassifier(random_state=12345, max_depth=9, n_estimators=40)\n",
    "best_rf_model.fit(features_train, target_train)\n",
    "best_rf_train = best_rf_model.predict(features_train) \n",
    "best_rf_pred = best_rf_model.predict(features_valid)\n",
    "probabilities_rf_valid=best_rf_model.predict_proba(features_valid)\n",
    "probabilities_rf_one_valid=probabilities_rf_valid[:, 1]\n",
    "print('F1 score train =', f1_score(target_train, best_rf_train).round(2), '   ',\\\n",
    "      'F1 score valid =', f1_score(target_valid, best_rf_pred).round(2), '   ', \\\n",
    "      'AUC-ROC =', roc_auc_score(target_valid, probabilities_rf_one_valid).round(2))"
   ]
  },
  {
   "cell_type": "markdown",
   "metadata": {},
   "source": [
    "**COMENTARIO**\n",
    "\n",
    "Con el modelo de bosque aleatorio, logramos los mejores puntajes con un puntaje F1 de validación de 0.58 y un puntaje AUC-ROC de 0.85. Aunque hay una diferencia notable entre los puntajes F1 de los conjuntos de entrenamiento y validación, el rendimiento del modelo sigue siendo aceptable."
   ]
  },
  {
   "cell_type": "markdown",
   "metadata": {},
   "source": [
    "### 5.3 Regresión Logística\n",
    "\n",
    "Ahora procederemos con el tercer modelo, que es la regresión logística. A diferencia de los dos modelos anteriores, la regresión logística no implica hiperparámetros relacionados con la profundidad del árbol o el número de árboles. En su lugar, especificaremos el parámetro solver, y en este caso, usaremos liblinear. Mantendremos el parámetro random_state establecido en 12345."
   ]
  },
  {
   "cell_type": "code",
   "execution_count": 23,
   "metadata": {},
   "outputs": [
    {
     "name": "stdout",
     "output_type": "stream",
     "text": [
      "F1 score train = 0.31     F1 score valid = 0.34     AUC-ROC = 0.77\n"
     ]
    }
   ],
   "source": [
    "# Crear el modelo de logistic regression\n",
    "lr_model = LogisticRegression(random_state=12345, solver='liblinear')\n",
    "lr_model.fit(features_train, target_train)\n",
    "lr_valid_train=lr_model.predict(features_train)\n",
    "lr_valid_pred=lr_model.predict(features_valid)\n",
    "probabilities_lr_valid=lr_model.predict_proba(features_valid)\n",
    "probabilities_lr_one_valid=probabilities_lr_valid[:, 1]\n",
    "print('F1 score train =', f1_score(target_train, lr_valid_train).round(2), '   ', \\\n",
    "      'F1 score valid =', f1_score(target_valid, lr_valid_pred).round(2), '   ',\\\n",
    "      'AUC-ROC =', roc_auc_score(target_valid, probabilities_lr_one_valid).round(2))"
   ]
  },
  {
   "cell_type": "markdown",
   "metadata": {},
   "source": [
    "**COMENTARIO**\n",
    "\n",
    "El modelo de regresión logística parece tener un rendimiento peor que los dos modelos anteriores. El puntaje F1 de validación es solo 0.34 y el AUC-ROC es 0.77. Aunque el rango entre los puntajes F1 para los conjuntos de entrenamiento y validación no es significativo, lo que sugiere que el modelo no está sobreajustado, el rendimiento general es relativamente más bajo en comparación con los modelos de árbol de decisión y bosque aleatorio."
   ]
  },
  {
   "cell_type": "markdown",
   "metadata": {},
   "source": [
    "## 6. ENTRENAR MODELOS CORRIGIENDO EL DESEQUILIBRIO DE CLASES"
   ]
  },
  {
   "cell_type": "markdown",
   "metadata": {},
   "source": [
    "Después de entrenar el modelo sin mejorar la calidad del conjunto de datos, obtuvimos resultados decentes. El mejor modelo logró un puntaje F1 de 0.58 y un AUC-ROC de 0.85 utilizando el algoritmo de bosque aleatorio con hiperparámetros (random_state=12345, max_depth=9, n_estimators=40). Por lo tanto, hemos decidido proceder con el modelo de bosque aleatorio.\n",
    "\n",
    "Sin embargo, considerando el desequilibrio en nuestro conjunto de datos, necesitamos explorar métodos para mejorar la calidad de los datos abordando el problema del desequilibrio de clases. Los puntajes F1 obtenidos del modelo sin mejorar la calidad no son lo suficientemente altos. Intentaremos mejorar la calidad del conjunto de datos ajustando el equilibrio de clases y empleando técnicas de sobremuestreo y submuestreo."
   ]
  },
  {
   "cell_type": "markdown",
   "metadata": {},
   "source": [
    "### 6.1 Ajuste de Equilibrio de Clase"
   ]
  },
  {
   "cell_type": "code",
   "execution_count": 24,
   "metadata": {},
   "outputs": [
    {
     "name": "stdout",
     "output_type": "stream",
     "text": [
      "F1 score train = 0.74     F1 score valid = 0.61     AUC-ROC = 0.85\n"
     ]
    }
   ],
   "source": [
    "# Aplicar el mejor modelo (random forest) y balancear el equilibrio de clases\n",
    "best_rf_model = RandomForestClassifier(random_state=12345, max_depth=9, n_estimators=40, class_weight='balanced')\n",
    "best_rf_model.fit(features_train, target_train)\n",
    "best_rf_train = best_rf_model.predict(features_train) \n",
    "best_rf_pred = best_rf_model.predict(features_valid)\n",
    "probabilities_rf_valid=best_rf_model.predict_proba(features_valid)\n",
    "probabilities_rf_one_valid=probabilities_rf_valid[:, 1]\n",
    "print('F1 score train =', f1_score(target_train, best_rf_train).round(2), '   ', \\\n",
    "      'F1 score valid =', f1_score(target_valid, best_rf_pred).round(2), '   ', \\\n",
    "      'AUC-ROC =', roc_auc_score(target_valid, probabilities_rf_one_valid).round(2))"
   ]
  },
  {
   "cell_type": "markdown",
   "metadata": {},
   "source": [
    "**COMENTARIO**\n",
    "\n",
    "Obtuvimos puntajes satisfactorios de F1 y AUC-ROC para nuestros modelos, aunque hay una diferencia notable entre los puntajes F1 de los conjuntos de datos de entrenamiento y validación."
   ]
  },
  {
   "cell_type": "markdown",
   "metadata": {},
   "source": [
    "### 6.2 Sobremuestreo\n",
    "\n",
    "Abordaremos el problema del desequilibrio de clases aumentando el número de muestras con un valor objetivo de '1', que actualmente representa solo el 20 por ciento de los datos. Intentaremos aumentar la clase minoritaria mediante un proceso de sobremuestreo para aumentar su representación en un factor de tres."
   ]
  },
  {
   "cell_type": "code",
   "execution_count": 25,
   "metadata": {},
   "outputs": [],
   "source": [
    "# Sobremuestreo\n",
    "def upsample(features, target, repeat):\n",
    "    features_zeros = features_train[target_train == 0]\n",
    "    features_ones = features_train[target_train == 1] \n",
    "    target_zeros = target_train[target_train == 0]\n",
    "    target_ones = target_train[target_train == 1]\n",
    "    features_upsampled = pd.concat([features_zeros] + [features_ones] * repeat)\n",
    "    target_upsampled = pd.concat([target_zeros] + [target_ones] * repeat)\n",
    "    features_upsampled, target_upsampled = shuffle(features_upsampled, target_upsampled, random_state=12345)\n",
    "    return features_upsampled, target_upsampled \n",
    "\n",
    "features_upsampled, target_upsampled = upsample(features_train, target_train, 3)"
   ]
  },
  {
   "cell_type": "code",
   "execution_count": 26,
   "metadata": {},
   "outputs": [
    {
     "data": {
      "text/plain": [
       "Exited\n",
       "0    5605\n",
       "1    4185\n",
       "Name: count, dtype: int64"
      ]
     },
     "execution_count": 26,
     "metadata": {},
     "output_type": "execute_result"
    }
   ],
   "source": [
    "# Checking the result\n",
    "target_upsampled.value_counts()"
   ]
  },
  {
   "cell_type": "markdown",
   "metadata": {},
   "source": [
    "**COMENTARIO**\n",
    "\n",
    "El dataset está relativamente balanceado, ahora podemos hacer un test del modelo"
   ]
  },
  {
   "cell_type": "code",
   "execution_count": 27,
   "metadata": {},
   "outputs": [
    {
     "name": "stdout",
     "output_type": "stream",
     "text": [
      "F1 score train = 0.83     F1 score valid = 0.62     AUC-ROC = 0.86\n"
     ]
    }
   ],
   "source": [
    "# Entrenamiento del modelo con sobremuestreo\n",
    "best_rf_model = RandomForestClassifier(random_state=12345, max_depth=9, n_estimators=40)\n",
    "best_rf_model.fit(features_upsampled, target_upsampled)\n",
    "best_rf_train = best_rf_model.predict(features_upsampled) \n",
    "best_rf_pred = best_rf_model.predict(features_valid)\n",
    "probabilities_rf_valid=best_rf_model.predict_proba(features_valid)\n",
    "probabilities_rf_one_valid=probabilities_rf_valid[:, 1]\n",
    "print('F1 score train =', f1_score(target_upsampled, best_rf_train).round(2), '   ', \\\n",
    "      'F1 score valid =', f1_score(target_valid, best_rf_pred).round(2), '   ', \\\n",
    "      'AUC-ROC =', roc_auc_score(target_valid, probabilities_rf_one_valid).round(2))"
   ]
  },
  {
   "cell_type": "markdown",
   "metadata": {},
   "source": [
    "**COMENTARIO**\n",
    "\n",
    "El método de sobremuestreo produjo puntajes de F1 y AUC-ROC relativamente mejorados en comparación con el método de ajuste de pesos de clase. Sin embargo, vale la pena señalar que la diferencia entre los puntajes de entrenamiento y validación de F1 es bastante significativa."
   ]
  },
  {
   "cell_type": "markdown",
   "metadata": {},
   "source": [
    "### 6.3 Submuestreo\n",
    "\n",
    "Disminuiremos el número de muestras con un valor objetivo de '0', ya que representa el 80 por ciento de los datos. Eliminaremos aleatoriamente algunas muestras de las observaciones con un valor objetivo de '0' para reequilibrar el conjunto de datos."
   ]
  },
  {
   "cell_type": "code",
   "execution_count": 28,
   "metadata": {},
   "outputs": [],
   "source": [
    "# Aplicacion de funcion para submuestreo\n",
    "def downsample(features, target, fraction):\n",
    "    features_zeros = features_train[target_train == 0]\n",
    "    features_ones = features_train[target_train == 1] \n",
    "    target_zeros = target_train[target_train == 0]\n",
    "    target_ones = target_train[target_train == 1]\n",
    "    \n",
    "    features_downsampled = pd.concat(\n",
    "        [features_zeros.sample(frac=fraction, random_state=12345)]\n",
    "        + [features_ones]\n",
    "    )\n",
    "    target_downsampled = pd.concat(\n",
    "        [target_zeros.sample(frac=fraction, random_state=12345)]\n",
    "        + [target_ones]\n",
    "    )\n",
    "\n",
    "    features_downsampled, target_downsampled = shuffle(\n",
    "        features_downsampled, target_downsampled, random_state=12345\n",
    "    )\n",
    "\n",
    "    return features_downsampled, target_downsampled\n",
    "\n",
    "\n",
    "features_downsampled, target_downsampled = downsample(\n",
    "    features_train, target_train, 0.3\n",
    ")"
   ]
  },
  {
   "cell_type": "code",
   "execution_count": 29,
   "metadata": {},
   "outputs": [
    {
     "data": {
      "text/plain": [
       "Exited\n",
       "0    1682\n",
       "1    1395\n",
       "Name: count, dtype: int64"
      ]
     },
     "execution_count": 29,
     "metadata": {},
     "output_type": "execute_result"
    }
   ],
   "source": [
    "# Comprobar los resultados\n",
    "target_downsampled.value_counts()"
   ]
  },
  {
   "cell_type": "code",
   "execution_count": 30,
   "metadata": {},
   "outputs": [
    {
     "name": "stdout",
     "output_type": "stream",
     "text": [
      "F1 score train = 0.86     F1 score valid = 0.58     AUC-ROC = 0.84\n"
     ]
    }
   ],
   "source": [
    "# Entrenar el modelo con el dataset de submuestreo\n",
    "best_rf_model = RandomForestClassifier(random_state=12345, max_depth=9, n_estimators=40)\n",
    "best_rf_model.fit(features_downsampled, target_downsampled)\n",
    "best_rf_train = best_rf_model.predict(features_downsampled) \n",
    "best_rf_pred = best_rf_model.predict(features_valid)\n",
    "probabilities_rf_valid=best_rf_model.predict_proba(features_valid)\n",
    "probabilities_rf_one_valid=probabilities_rf_valid[:, 1]\n",
    "print('F1 score train =', f1_score(target_downsampled, best_rf_train).round(2), '   ', \\\n",
    "      'F1 score valid =', f1_score(target_valid, best_rf_pred).round(2), '   ', \\\n",
    "      'AUC-ROC =', roc_auc_score(target_valid, probabilities_rf_one_valid).round(2))"
   ]
  },
  {
   "cell_type": "markdown",
   "metadata": {},
   "source": [
    "**COMENTARIO**\n",
    "\n",
    "Obtenemos puntajes de F1 y AUC-ROC más bajos que con el método de sobremuestreo.\n",
    "\n",
    "Observamos que el modelo de bosque aleatorio con el método de sobremuestreo produjo el puntaje más alto. Sin embargo, hay una diferencia notable entre el puntaje de F1 de entrenamiento y el puntaje de validación. Aun así, el puntaje de F1 de validación superó el umbral mínimo de 0.59 requerido para esta tarea."
   ]
  },
  {
   "cell_type": "markdown",
   "metadata": {},
   "source": [
    "## 7. PRUEBA FINAL"
   ]
  },
  {
   "cell_type": "markdown",
   "metadata": {},
   "source": [
    "Es hora de evaluar el rendimiento de nuestro modelo en el conjunto de datos de prueba, que consta de características de prueba (features_test) y objetivo de prueba (target_test)."
   ]
  },
  {
   "cell_type": "code",
   "execution_count": 31,
   "metadata": {},
   "outputs": [
    {
     "name": "stdout",
     "output_type": "stream",
     "text": [
      "F1 score train = 0.83     F1 score test = 0.65     AUC-ROC = 0.87\n"
     ]
    }
   ],
   "source": [
    "# Prueba del modelo\n",
    "best_rf_model = RandomForestClassifier(random_state=12345, max_depth=9, n_estimators=40)\n",
    "best_rf_model.fit(features_upsampled, target_upsampled)\n",
    "best_rf_train = best_rf_model.predict(features_upsampled) \n",
    "best_rf_test = best_rf_model.predict(features_test)\n",
    "probabilities_rf_test = best_rf_model.predict_proba(features_test)\n",
    "probabilities_rf_one_test = probabilities_rf_test[:, 1]\n",
    "print('F1 score train =', f1_score(target_upsampled, best_rf_train).round(2), '   ', \\\n",
    "      'F1 score test =', f1_score(target_test, best_rf_test).round(2), '   ', \\\n",
    "      'AUC-ROC =', roc_auc_score(target_test, probabilities_rf_one_test).round(2))"
   ]
  },
  {
   "cell_type": "markdown",
   "metadata": {},
   "source": [
    "**COMENTARIO**\n",
    "\n",
    "Obtuvimos un puntaje F1 de 0.65 en el conjunto de datos de prueba, superando el umbral mínimo de 0.59 requerido para esta tarea. Esto indica que nuestro modelo se desempeña bien en predecir si un cliente dejará pronto el banco o no."
   ]
  },
  {
   "cell_type": "markdown",
   "metadata": {},
   "source": [
    "## 8. CONCLUSION FINAL"
   ]
  },
  {
   "cell_type": "markdown",
   "metadata": {},
   "source": [
    "\n",
    "Según nuestra evaluación, hemos logrado crear un modelo sólido que puede anticipar la probabilidad de que los clientes cambien de banco. \n",
    "\n",
    "Utilizamos el modelo `bosque aleatorio`, ajustando cuidadosamente ciertos parámetros que nos llevaron a identificarlo como el mejor modelo para esta tarea en particular, algunos de los parámetros utilizados fueron: \n",
    "- random_state a 12345, \n",
    "- max_depth a 9 y \n",
    "- n_estimators a 40, \n",
    "\n",
    "Al poner a prueba este modelo en un conjunto de datos independiente, obtuvimos resultados prometedores: \n",
    "- un puntaje F1 de 0.656 y, \n",
    "- un AUC-ROC de 0.87. \n",
    "\n",
    "Estos resultados **superan por mucho el umbral mínimo requerido de 0.59** para este proyecto, indicando claramente la capacidad del modelo para prever con precisión la rotación de clientes.\n",
    "\n",
    "La información obtenida a través de este análisis permite a los bancos ahora detectar de manera proactiva a los clientes que podrían estar considerando cambiar de entidad y tomar medidas preventivas para retenerlos. Este enfoque predictivo tiene el potencial de ser una herramienta invaluable para mejorar las estrategias de retención de clientes y, en última instancia, el rendimiento general de las instituciones bancarias."
   ]
  },
  {
   "cell_type": "markdown",
   "metadata": {},
   "source": [
    "Ahora, para expresar en términos más simples lo que representa y las capacidades del modelo que se ha creado lo explicaré de la siguiente manera: \n",
    "\n",
    "1. `F1 score train = 0.83:`  Esto significa que cuando el modelo mira los datos que ya ha visto durante el entrenamiento, puede predecir correctamente si un cliente se irá del banco el 83% de las veces. En pocas palabras, cuando le enseñamos al modelo cómo funcionan los datos, lo hace bastante bien en esta tarea.\n",
    "\n",
    "2. `F1 score test = 0.65:`  Ahora, cuando el modelo se enfrenta a nuevos datos que nunca antes ha visto, su rendimiento baja un poco. Aquí, solo puede predecir correctamente si un cliente se irá del banco el 65% de las veces. No es tan alto como en el entrenamiento, pero sigue siendo decente.\n",
    "\n",
    "3. `AUC-ROC = 0.87:`  Esta métrica mide qué tan bien el modelo puede distinguir entre los clientes que se irán del banco y aquellos que no lo harán, utilizando la probabilidad de sus predicciones. Un valor de 0.87 es muy bueno, indica que el modelo puede predecir correctamente si un cliente se irá del banco o no el 87% de las veces."
   ]
  }
 ],
 "metadata": {
  "kernelspec": {
   "display_name": "base",
   "language": "python",
   "name": "python3"
  },
  "language_info": {
   "codemirror_mode": {
    "name": "ipython",
    "version": 3
   },
   "file_extension": ".py",
   "mimetype": "text/x-python",
   "name": "python",
   "nbconvert_exporter": "python",
   "pygments_lexer": "ipython3",
   "version": "3.11.5"
  }
 },
 "nbformat": 4,
 "nbformat_minor": 2
}
