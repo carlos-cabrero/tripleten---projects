{
  "nbformat": 4,
  "nbformat_minor": 0,
  "metadata": {
    "colab": {
      "provenance": []
    },
    "kernelspec": {
      "name": "python3",
      "display_name": "Python 3"
    },
    "language_info": {
      "name": "python"
    }
  },
  "cells": [
    {
      "cell_type": "markdown",
      "source": [
        "# **Ejercicio 1**\n",
        "\n",
        "1. Escribe un código para analizar los datos sobre el clima en Chicago en noviembre de 2017 desde el sitio web:\n",
        "\n",
        "https://practicum-content.s3.us-west-1.amazonaws.com/data-analyst-eng/moved_chicago_weather_2017.html\n",
        "\n",
        "2. El nombre del DataFrame debe ser **weather_records** y tienes que especificarlo cuando buscas: **attrs={\"id\": \"weather_records\"}** .\n",
        "\n",
        "3. Imprime el DataFrame completo."
      ],
      "metadata": {
        "id": "qv36MSVYYjdV"
      }
    },
    {
      "cell_type": "code",
      "execution_count": null,
      "metadata": {
        "id": "lA6dl7eKYeD_"
      },
      "outputs": [],
      "source": [
        "import pandas as pd\n",
        "import requests\n",
        "from bs4 import BeautifulSoup\n",
        "\n",
        "# Descargar la página web\n",
        "url = \"https://practicum-content.s3.us-west-1.amazonaws.com/data-analyst-eng/moved_chicago_weather_2017.html\"\n",
        "response = requests.get(url)\n",
        "\n",
        "# Parsear el HTML\n",
        "soup = BeautifulSoup(response.text, 'html.parser')\n",
        "\n",
        "# Encontrar la tabla de datos\n",
        "table = soup.find(\"table\", attrs={\"id\": \"weather_records\"})\n",
        "\n",
        "# Extraer los encabezados de la tabla\n",
        "headers = [header.text for header in table.find_all('th')]\n",
        "\n",
        "# Extraer los datos de la tabla\n",
        "data = []\n",
        "for row in table.find_all('tr')[1:]:\n",
        "    data.append([cell.text for cell in row.find_all('td')])\n",
        "\n",
        "# Crear el DataFrame\n",
        "weather_records = pd.DataFrame(data, columns=headers)\n",
        "\n",
        "# Imprimir el DataFrame completo\n",
        "print(weather_records)"
      ]
    },
    {
      "cell_type": "markdown",
      "source": [
        "# **Ejercicio 2**\n",
        "\n",
        "1. Encuentra la **cantidad de viajes** para cada empresa de taxis cuyo nombre contenga las palabras **\"Yellow\" o \"Blue\"** del **1 al 7 de noviembre de 2017**.\n",
        "\n",
        "2. **Nombra** la variable resultante **trips_amount**.\n",
        "\n",
        "3. **Agrupa** los resultados por el campo **company_name**."
      ],
      "metadata": {
        "id": "s0O-GE90ZAH-"
      }
    },
    {
      "cell_type": "code",
      "source": [
        "SELECT company_name, COUNT(trip_id) AS trips_amount\n",
        "FROM trips\n",
        "LEFT JOIN cabs ON cabs.cab_id = trips.cab_id\n",
        "WHERE start_ts >= '2017-11-01'\n",
        "    AND start_ts < '2017-11-08'\n",
        "    AND (company_name LIKE '%Yellow%' OR company_name LIKE '%Blue%')\n",
        "GROUP BY company_name\n",
        "ORDER BY trips_amount DESC;"
      ],
      "metadata": {
        "id": "CszgmIATZOro"
      },
      "execution_count": null,
      "outputs": []
    },
    {
      "cell_type": "markdown",
      "source": [
        "# **Ejercicio 3**\n",
        "\n",
        "- Del **1 al 7 de noviembre de 2017**, las empresas de taxis más populares fueron **Flash Cab y Taxi Affiliation Services**.\n",
        "\n",
        "1. Encuentra el **número de viajes** de estas dos empresas y asigna a la variable resultante el nombre **trips_amount**.\n",
        "\n",
        "2. Junta los viajes de todas las demás empresas en el grupo **\"Other\"**.\n",
        "\n",
        "3. Agrupa los datos por **nombres de empresas de taxis**. Asigna el nombre **company** al campo con nombres de empresas de taxis.\n",
        "\n",
        "4. **Ordena el resultado en orden **descendente** por **trips_amount**."
      ],
      "metadata": {
        "id": "bVgjItnvZWX9"
      }
    },
    {
      "cell_type": "code",
      "source": [
        "SELECT\n",
        "    CASE\n",
        "        WHEN company_name = 'Flash Cab' THEN 'Flash Cab'\n",
        "        WHEN company_name = 'Taxi Affiliation Services' THEN 'Taxi Affiliation Services'\n",
        "        ELSE 'Other'\n",
        "    END AS company,\n",
        "    COUNT(trip_id) AS trips_amount\n",
        "FROM trips\n",
        "LEFT JOIN cabs ON cabs.cab_id = trips.cab_id\n",
        "WHERE start_ts >= '2017-11-01'\n",
        "    AND start_ts < '2017-11-08'\n",
        "GROUP BY\n",
        "    CASE\n",
        "        WHEN company_name = 'Flash Cab' THEN 'Flash Cab'\n",
        "        WHEN company_name = 'Taxi Affiliation Services' THEN 'Taxi Affiliation Services'\n",
        "        ELSE 'Other'\n",
        "    END\n",
        "ORDER BY trips_amount DESC;"
      ],
      "metadata": {
        "id": "n1uI-I3GZv4P"
      },
      "execution_count": null,
      "outputs": []
    },
    {
      "cell_type": "markdown",
      "source": [
        "# **Ejercicio 4**\n",
        "\n",
        "1. Recupera los identificadores de los barrios de **O'Hare y Loop** de la tabla **neighborhoods**."
      ],
      "metadata": {
        "id": "5NT9bPHMZ2pA"
      }
    },
    {
      "cell_type": "code",
      "source": [
        "SELECT neighborhood_id, name\n",
        "FROM neighborhoods\n",
        "WHERE name LIKE '%Hare' OR name = 'Loop';"
      ],
      "metadata": {
        "id": "5CaQSdUEZ_o5"
      },
      "execution_count": null,
      "outputs": []
    },
    {
      "cell_type": "markdown",
      "source": [
        "# **Ejercicio 5**\n",
        "\n",
        "- Para cada hora recupera los **registros de condiciones meteorológicas** de la tabla **weather_records**.\n",
        "1. Usando el operador **CASE**, divide todas las horas en dos grupos: **Bad** si el campo description contiene las palabras rain o storm, y **Good** para los demás.\n",
        "2. Nombra el campo resultante **weather_conditions**.\n",
        "\n",
        "- La tabla final debe incluir dos campos: **fecha y hora** (ts) y **weather_conditions**."
      ],
      "metadata": {
        "id": "T4zLtl0OaDMD"
      }
    },
    {
      "cell_type": "code",
      "source": [
        "SELECT\n",
        "    ts AS fecha_y_hora,\n",
        "    CASE\n",
        "        WHEN description LIKE '%rain%' OR description LIKE '%storm%' THEN 'Bad'\n",
        "        ELSE 'Good'\n",
        "    END AS weather_conditions\n",
        "FROM weather_records;"
      ],
      "metadata": {
        "id": "0Je0QS5Rabpw"
      },
      "execution_count": null,
      "outputs": []
    },
    {
      "cell_type": "markdown",
      "source": [
        "# **Ejercicio 6**\n",
        "\n",
        "1. Recupera de la tabla de trips todos los **viajes que comenzaron en el Loop** (pickup_location_id: 50) **el sábado y terminaron en O'Hare** (dropoff_location_id: 63).\n",
        "2. Obtén las **condiciones climáticas** para cada viaje.\n",
        "3. Utiliza el método que aplicaste en la tarea anterior.\n",
        "4. Recupera también la **duración de cada viaje**.\n",
        "5. **Ignora** los viajes para los que **no hay datos disponibles** sobre las condiciones climáticas.\n",
        "\n",
        "- Las columnas de la tabla deben estar en el **siguiente orden**:\n",
        "  - start_ts\n",
        "  - weather_conditions\n",
        "  - duration_seconds\n",
        "\n",
        "6. Ordena por **trip_id.**"
      ],
      "metadata": {
        "id": "dWaPUqRvagoW"
      }
    },
    {
      "cell_type": "code",
      "source": [
        "SELECT\n",
        "    start_ts,\n",
        "    T.weather_conditions,\n",
        "    duration_seconds\n",
        "FROM\n",
        "    trips\n",
        "INNER JOIN (\n",
        "    SELECT\n",
        "        ts,\n",
        "        CASE\n",
        "            WHEN description LIKE '%rain%' OR description LIKE '%storm%' THEN 'Bad'\n",
        "            ELSE 'Good'\n",
        "        END AS weather_conditions\n",
        "    FROM\n",
        "        weather_records\n",
        ") T on T.ts = trips.start_ts\n",
        "WHERE\n",
        "    pickup_location_id = 50 AND dropoff_location_id = 63 AND EXTRACT (DOW from trips.start_ts) = 6\n",
        "ORDER BY trip_id"
      ],
      "metadata": {
        "id": "pUl9CELCbBIw"
      },
      "execution_count": null,
      "outputs": []
    }
  ]
}