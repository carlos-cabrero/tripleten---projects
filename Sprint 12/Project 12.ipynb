{
 "cells": [
  {
   "cell_type": "markdown",
   "metadata": {
    "lang": "en"
   },
   "source": [
    "# PROJECT SPRINT 12 - MÉTODOS NUMÉRICOS"
   ]
  },
  {
   "cell_type": "markdown",
   "metadata": {
    "lang": "en"
   },
   "source": [
    "## 1 Introducción"
   ]
  },
  {
   "cell_type": "markdown",
   "metadata": {},
   "source": [
    "### 1.1 Descripción del Proyecto\n",
    "\n",
    "Rusty Bargain es un servicio de venta de coches de segunda mano que está desarrollando una app para atraer a nuevos clientes. Gracias a esa app, puedes averiguar rápidamente el valor de mercado de tu coche. Tienes acceso al historial, especificaciones técnicas, versiones de equipamiento y precios. Tienes que crear un modelo que determine el valor de mercado.\n",
    "\n",
    "A Rusty Bargain le interesa:\n",
    "\n",
    "- la calidad de la predicción\n",
    "- la velocidad de la predicción\n",
    "- el tiempo requerido para el entrenamiento"
   ]
  },
  {
   "cell_type": "markdown",
   "metadata": {},
   "source": [
    "### 1.2 Descripción de los Datos\n",
    "\n",
    "El dataset está almacenado en el archivo `car_data.csv`.\n",
    "\n",
    "**Características**\n",
    "- `DateCrawled` — fecha en la que se descargó el perfil de la base de datos\n",
    "- `VehicleType` — tipo de carrocería del vehículo\n",
    "- `RegistrationYear` — año de matriculación del vehículo\n",
    "- `Gearbox` — tipo de caja de cambios\n",
    "- `Power` — potencia (CV)\n",
    "- `Model` — modelo del vehículo\n",
    "- `Mileage` — kilometraje (medido en km de acuerdo con las especificidades regionales del conjunto de datos)\n",
    "- `RegistrationMonth` — mes de matriculación del vehículo\n",
    "- `FuelType` — tipo de combustible\n",
    "- `Brand` — marca del vehículo\n",
    "- `NotRepaired` — vehículo con o sin reparación\n",
    "- `DateCreated` — fecha de creación del perfil\n",
    "- `NumberOfPictures` — número de fotos del vehículo\n",
    "- `PostalCode` — código postal del propietario del perfil (usuario)\n",
    "- `LastSeen` — fecha de la última vez que el usuario estuvo activo\n",
    "\n",
    "**Objetivo**\n",
    "- `Price`: Precio (en Euros)."
   ]
  },
  {
   "cell_type": "markdown",
   "metadata": {
    "lang": "en"
   },
   "source": [
    "## 2 Análisis de Datos"
   ]
  },
  {
   "cell_type": "markdown",
   "metadata": {
    "lang": "en"
   },
   "source": [
    "### 2.1 Importar las Librerías"
   ]
  },
  {
   "cell_type": "code",
   "execution_count": 190,
   "metadata": {},
   "outputs": [],
   "source": [
    "# Importar todas las librerias\n",
    "import pandas as pd\n",
    "import numpy as np\n",
    "import matplotlib.pyplot as plt\n",
    "import seaborn as sns\n",
    "\n",
    "from sklearn.linear_model import LinearRegression\n",
    "from sklearn.tree import DecisionTreeRegressor\n",
    "from sklearn.ensemble import RandomForestRegressor\n",
    "from sklearn.model_selection import RandomizedSearchCV\n",
    "from sklearn.model_selection import train_test_split\n",
    "from sklearn.model_selection import cross_val_score\n",
    "from sklearn.model_selection import KFold\n",
    "from sklearn.preprocessing import StandardScaler\n",
    "from sklearn.preprocessing import OneHotEncoder\n",
    "from sklearn.model_selection import GridSearchCV\n",
    "from sklearn.metrics import make_scorer, mean_squared_error\n",
    "from scipy.stats import randint as sp_randInt\n",
    "from scipy.stats import uniform as sp_randFloat\n",
    "from sklearn.pipeline import Pipeline\n",
    "\n",
    "\n",
    "from catboost import CatBoostRegressor, Pool\n",
    "from lightgbm import LGBMRegressor\n",
    "from xgboost import XGBRegressor\n",
    "\n",
    "import warnings\n",
    "warnings.filterwarnings('ignore')\n"
   ]
  },
  {
   "cell_type": "markdown",
   "metadata": {
    "lang": "en"
   },
   "source": [
    "### 2.2 Cargar y Leer los Datos"
   ]
  },
  {
   "cell_type": "code",
   "execution_count": 191,
   "metadata": {},
   "outputs": [],
   "source": [
    "# Cargar los datos\n",
    "try:\n",
    "    df = pd.read_csv('car_data.csv')\n",
    "except:\n",
    "    df = pd.read_csv('car_data.csv')"
   ]
  },
  {
   "cell_type": "code",
   "execution_count": 192,
   "metadata": {
    "lang": "in"
   },
   "outputs": [],
   "source": [
    "# Crear una función para leer los datos\n",
    "# Obtener las características de head(), shape, info(), describe(), duplicated(), and isna().sum() de los datos\n",
    "def data_info(df):\n",
    "    print('Data Head')\n",
    "    display(df.head())\n",
    "    print('='*100)\n",
    "    print()\n",
    "    \n",
    "    print('Column Names')\n",
    "    display(df.columns)\n",
    "    \n",
    "    print('Data Shape')\n",
    "    display(df.shape)\n",
    "    print('='*100)\n",
    "    print()\n",
    "    \n",
    "    print('Data Info')\n",
    "    display(df.info())\n",
    "    print('='*100)\n",
    "    print()\n",
    "    \n",
    "    print('Data Describe')\n",
    "    display(df.describe())\n",
    "    print('='*100)\n",
    "    print()\n",
    "    \n",
    "    print('Data Duplicated')\n",
    "    display(df.duplicated().sum())\n",
    "    print('='*100)\n",
    "    print()\n",
    "    \n",
    "    print('Missing Values')\n",
    "    display(df.isna().sum())\n",
    "    print('*'*100)"
   ]
  },
  {
   "cell_type": "code",
   "execution_count": 193,
   "metadata": {
    "lang": "in",
    "scrolled": false
   },
   "outputs": [
    {
     "name": "stdout",
     "output_type": "stream",
     "text": [
      "Data Head\n"
     ]
    },
    {
     "data": {
      "text/html": [
       "<div>\n",
       "<style scoped>\n",
       "    .dataframe tbody tr th:only-of-type {\n",
       "        vertical-align: middle;\n",
       "    }\n",
       "\n",
       "    .dataframe tbody tr th {\n",
       "        vertical-align: top;\n",
       "    }\n",
       "\n",
       "    .dataframe thead th {\n",
       "        text-align: right;\n",
       "    }\n",
       "</style>\n",
       "<table border=\"1\" class=\"dataframe\">\n",
       "  <thead>\n",
       "    <tr style=\"text-align: right;\">\n",
       "      <th></th>\n",
       "      <th>DateCrawled</th>\n",
       "      <th>Price</th>\n",
       "      <th>VehicleType</th>\n",
       "      <th>RegistrationYear</th>\n",
       "      <th>Gearbox</th>\n",
       "      <th>Power</th>\n",
       "      <th>Model</th>\n",
       "      <th>Mileage</th>\n",
       "      <th>RegistrationMonth</th>\n",
       "      <th>FuelType</th>\n",
       "      <th>Brand</th>\n",
       "      <th>NotRepaired</th>\n",
       "      <th>DateCreated</th>\n",
       "      <th>NumberOfPictures</th>\n",
       "      <th>PostalCode</th>\n",
       "      <th>LastSeen</th>\n",
       "    </tr>\n",
       "  </thead>\n",
       "  <tbody>\n",
       "    <tr>\n",
       "      <th>0</th>\n",
       "      <td>24/03/2016 11:52</td>\n",
       "      <td>480</td>\n",
       "      <td>NaN</td>\n",
       "      <td>1993</td>\n",
       "      <td>manual</td>\n",
       "      <td>0</td>\n",
       "      <td>golf</td>\n",
       "      <td>150000</td>\n",
       "      <td>0</td>\n",
       "      <td>petrol</td>\n",
       "      <td>volkswagen</td>\n",
       "      <td>NaN</td>\n",
       "      <td>24/03/2016 00:00</td>\n",
       "      <td>0</td>\n",
       "      <td>70435</td>\n",
       "      <td>07/04/2016 03:16</td>\n",
       "    </tr>\n",
       "    <tr>\n",
       "      <th>1</th>\n",
       "      <td>24/03/2016 10:58</td>\n",
       "      <td>18300</td>\n",
       "      <td>coupe</td>\n",
       "      <td>2011</td>\n",
       "      <td>manual</td>\n",
       "      <td>190</td>\n",
       "      <td>NaN</td>\n",
       "      <td>125000</td>\n",
       "      <td>5</td>\n",
       "      <td>gasoline</td>\n",
       "      <td>audi</td>\n",
       "      <td>yes</td>\n",
       "      <td>24/03/2016 00:00</td>\n",
       "      <td>0</td>\n",
       "      <td>66954</td>\n",
       "      <td>07/04/2016 01:46</td>\n",
       "    </tr>\n",
       "    <tr>\n",
       "      <th>2</th>\n",
       "      <td>14/03/2016 12:52</td>\n",
       "      <td>9800</td>\n",
       "      <td>suv</td>\n",
       "      <td>2004</td>\n",
       "      <td>auto</td>\n",
       "      <td>163</td>\n",
       "      <td>grand</td>\n",
       "      <td>125000</td>\n",
       "      <td>8</td>\n",
       "      <td>gasoline</td>\n",
       "      <td>jeep</td>\n",
       "      <td>NaN</td>\n",
       "      <td>14/03/2016 00:00</td>\n",
       "      <td>0</td>\n",
       "      <td>90480</td>\n",
       "      <td>05/04/2016 12:47</td>\n",
       "    </tr>\n",
       "    <tr>\n",
       "      <th>3</th>\n",
       "      <td>17/03/2016 16:54</td>\n",
       "      <td>1500</td>\n",
       "      <td>small</td>\n",
       "      <td>2001</td>\n",
       "      <td>manual</td>\n",
       "      <td>75</td>\n",
       "      <td>golf</td>\n",
       "      <td>150000</td>\n",
       "      <td>6</td>\n",
       "      <td>petrol</td>\n",
       "      <td>volkswagen</td>\n",
       "      <td>no</td>\n",
       "      <td>17/03/2016 00:00</td>\n",
       "      <td>0</td>\n",
       "      <td>91074</td>\n",
       "      <td>17/03/2016 17:40</td>\n",
       "    </tr>\n",
       "    <tr>\n",
       "      <th>4</th>\n",
       "      <td>31/03/2016 17:25</td>\n",
       "      <td>3600</td>\n",
       "      <td>small</td>\n",
       "      <td>2008</td>\n",
       "      <td>manual</td>\n",
       "      <td>69</td>\n",
       "      <td>fabia</td>\n",
       "      <td>90000</td>\n",
       "      <td>7</td>\n",
       "      <td>gasoline</td>\n",
       "      <td>skoda</td>\n",
       "      <td>no</td>\n",
       "      <td>31/03/2016 00:00</td>\n",
       "      <td>0</td>\n",
       "      <td>60437</td>\n",
       "      <td>06/04/2016 10:17</td>\n",
       "    </tr>\n",
       "  </tbody>\n",
       "</table>\n",
       "</div>"
      ],
      "text/plain": [
       "        DateCrawled  Price VehicleType  RegistrationYear Gearbox  Power  \\\n",
       "0  24/03/2016 11:52    480         NaN              1993  manual      0   \n",
       "1  24/03/2016 10:58  18300       coupe              2011  manual    190   \n",
       "2  14/03/2016 12:52   9800         suv              2004    auto    163   \n",
       "3  17/03/2016 16:54   1500       small              2001  manual     75   \n",
       "4  31/03/2016 17:25   3600       small              2008  manual     69   \n",
       "\n",
       "   Model  Mileage  RegistrationMonth  FuelType       Brand NotRepaired  \\\n",
       "0   golf   150000                  0    petrol  volkswagen         NaN   \n",
       "1    NaN   125000                  5  gasoline        audi         yes   \n",
       "2  grand   125000                  8  gasoline        jeep         NaN   \n",
       "3   golf   150000                  6    petrol  volkswagen          no   \n",
       "4  fabia    90000                  7  gasoline       skoda          no   \n",
       "\n",
       "        DateCreated  NumberOfPictures  PostalCode          LastSeen  \n",
       "0  24/03/2016 00:00                 0       70435  07/04/2016 03:16  \n",
       "1  24/03/2016 00:00                 0       66954  07/04/2016 01:46  \n",
       "2  14/03/2016 00:00                 0       90480  05/04/2016 12:47  \n",
       "3  17/03/2016 00:00                 0       91074  17/03/2016 17:40  \n",
       "4  31/03/2016 00:00                 0       60437  06/04/2016 10:17  "
      ]
     },
     "metadata": {},
     "output_type": "display_data"
    },
    {
     "name": "stdout",
     "output_type": "stream",
     "text": [
      "====================================================================================================\n",
      "\n",
      "Column Names\n"
     ]
    },
    {
     "data": {
      "text/plain": [
       "Index(['DateCrawled', 'Price', 'VehicleType', 'RegistrationYear', 'Gearbox',\n",
       "       'Power', 'Model', 'Mileage', 'RegistrationMonth', 'FuelType', 'Brand',\n",
       "       'NotRepaired', 'DateCreated', 'NumberOfPictures', 'PostalCode',\n",
       "       'LastSeen'],\n",
       "      dtype='object')"
      ]
     },
     "metadata": {},
     "output_type": "display_data"
    },
    {
     "name": "stdout",
     "output_type": "stream",
     "text": [
      "Data Shape\n"
     ]
    },
    {
     "data": {
      "text/plain": [
       "(354369, 16)"
      ]
     },
     "metadata": {},
     "output_type": "display_data"
    },
    {
     "name": "stdout",
     "output_type": "stream",
     "text": [
      "====================================================================================================\n",
      "\n",
      "Data Info\n",
      "<class 'pandas.core.frame.DataFrame'>\n",
      "RangeIndex: 354369 entries, 0 to 354368\n",
      "Data columns (total 16 columns):\n",
      " #   Column             Non-Null Count   Dtype \n",
      "---  ------             --------------   ----- \n",
      " 0   DateCrawled        354369 non-null  object\n",
      " 1   Price              354369 non-null  int64 \n",
      " 2   VehicleType        316879 non-null  object\n",
      " 3   RegistrationYear   354369 non-null  int64 \n",
      " 4   Gearbox            334536 non-null  object\n",
      " 5   Power              354369 non-null  int64 \n",
      " 6   Model              334664 non-null  object\n",
      " 7   Mileage            354369 non-null  int64 \n",
      " 8   RegistrationMonth  354369 non-null  int64 \n",
      " 9   FuelType           321474 non-null  object\n",
      " 10  Brand              354369 non-null  object\n",
      " 11  NotRepaired        283215 non-null  object\n",
      " 12  DateCreated        354369 non-null  object\n",
      " 13  NumberOfPictures   354369 non-null  int64 \n",
      " 14  PostalCode         354369 non-null  int64 \n",
      " 15  LastSeen           354369 non-null  object\n",
      "dtypes: int64(7), object(9)\n",
      "memory usage: 43.3+ MB\n"
     ]
    },
    {
     "data": {
      "text/plain": [
       "None"
      ]
     },
     "metadata": {},
     "output_type": "display_data"
    },
    {
     "name": "stdout",
     "output_type": "stream",
     "text": [
      "====================================================================================================\n",
      "\n",
      "Data Describe\n"
     ]
    },
    {
     "data": {
      "text/html": [
       "<div>\n",
       "<style scoped>\n",
       "    .dataframe tbody tr th:only-of-type {\n",
       "        vertical-align: middle;\n",
       "    }\n",
       "\n",
       "    .dataframe tbody tr th {\n",
       "        vertical-align: top;\n",
       "    }\n",
       "\n",
       "    .dataframe thead th {\n",
       "        text-align: right;\n",
       "    }\n",
       "</style>\n",
       "<table border=\"1\" class=\"dataframe\">\n",
       "  <thead>\n",
       "    <tr style=\"text-align: right;\">\n",
       "      <th></th>\n",
       "      <th>Price</th>\n",
       "      <th>RegistrationYear</th>\n",
       "      <th>Power</th>\n",
       "      <th>Mileage</th>\n",
       "      <th>RegistrationMonth</th>\n",
       "      <th>NumberOfPictures</th>\n",
       "      <th>PostalCode</th>\n",
       "    </tr>\n",
       "  </thead>\n",
       "  <tbody>\n",
       "    <tr>\n",
       "      <th>count</th>\n",
       "      <td>354369.000000</td>\n",
       "      <td>354369.000000</td>\n",
       "      <td>354369.000000</td>\n",
       "      <td>354369.000000</td>\n",
       "      <td>354369.000000</td>\n",
       "      <td>354369.0</td>\n",
       "      <td>354369.000000</td>\n",
       "    </tr>\n",
       "    <tr>\n",
       "      <th>mean</th>\n",
       "      <td>4416.656776</td>\n",
       "      <td>2004.234448</td>\n",
       "      <td>110.094337</td>\n",
       "      <td>128211.172535</td>\n",
       "      <td>5.714645</td>\n",
       "      <td>0.0</td>\n",
       "      <td>50508.689087</td>\n",
       "    </tr>\n",
       "    <tr>\n",
       "      <th>std</th>\n",
       "      <td>4514.158514</td>\n",
       "      <td>90.227958</td>\n",
       "      <td>189.850405</td>\n",
       "      <td>37905.341530</td>\n",
       "      <td>3.726421</td>\n",
       "      <td>0.0</td>\n",
       "      <td>25783.096248</td>\n",
       "    </tr>\n",
       "    <tr>\n",
       "      <th>min</th>\n",
       "      <td>0.000000</td>\n",
       "      <td>1000.000000</td>\n",
       "      <td>0.000000</td>\n",
       "      <td>5000.000000</td>\n",
       "      <td>0.000000</td>\n",
       "      <td>0.0</td>\n",
       "      <td>1067.000000</td>\n",
       "    </tr>\n",
       "    <tr>\n",
       "      <th>25%</th>\n",
       "      <td>1050.000000</td>\n",
       "      <td>1999.000000</td>\n",
       "      <td>69.000000</td>\n",
       "      <td>125000.000000</td>\n",
       "      <td>3.000000</td>\n",
       "      <td>0.0</td>\n",
       "      <td>30165.000000</td>\n",
       "    </tr>\n",
       "    <tr>\n",
       "      <th>50%</th>\n",
       "      <td>2700.000000</td>\n",
       "      <td>2003.000000</td>\n",
       "      <td>105.000000</td>\n",
       "      <td>150000.000000</td>\n",
       "      <td>6.000000</td>\n",
       "      <td>0.0</td>\n",
       "      <td>49413.000000</td>\n",
       "    </tr>\n",
       "    <tr>\n",
       "      <th>75%</th>\n",
       "      <td>6400.000000</td>\n",
       "      <td>2008.000000</td>\n",
       "      <td>143.000000</td>\n",
       "      <td>150000.000000</td>\n",
       "      <td>9.000000</td>\n",
       "      <td>0.0</td>\n",
       "      <td>71083.000000</td>\n",
       "    </tr>\n",
       "    <tr>\n",
       "      <th>max</th>\n",
       "      <td>20000.000000</td>\n",
       "      <td>9999.000000</td>\n",
       "      <td>20000.000000</td>\n",
       "      <td>150000.000000</td>\n",
       "      <td>12.000000</td>\n",
       "      <td>0.0</td>\n",
       "      <td>99998.000000</td>\n",
       "    </tr>\n",
       "  </tbody>\n",
       "</table>\n",
       "</div>"
      ],
      "text/plain": [
       "               Price  RegistrationYear          Power        Mileage  \\\n",
       "count  354369.000000     354369.000000  354369.000000  354369.000000   \n",
       "mean     4416.656776       2004.234448     110.094337  128211.172535   \n",
       "std      4514.158514         90.227958     189.850405   37905.341530   \n",
       "min         0.000000       1000.000000       0.000000    5000.000000   \n",
       "25%      1050.000000       1999.000000      69.000000  125000.000000   \n",
       "50%      2700.000000       2003.000000     105.000000  150000.000000   \n",
       "75%      6400.000000       2008.000000     143.000000  150000.000000   \n",
       "max     20000.000000       9999.000000   20000.000000  150000.000000   \n",
       "\n",
       "       RegistrationMonth  NumberOfPictures     PostalCode  \n",
       "count      354369.000000          354369.0  354369.000000  \n",
       "mean            5.714645               0.0   50508.689087  \n",
       "std             3.726421               0.0   25783.096248  \n",
       "min             0.000000               0.0    1067.000000  \n",
       "25%             3.000000               0.0   30165.000000  \n",
       "50%             6.000000               0.0   49413.000000  \n",
       "75%             9.000000               0.0   71083.000000  \n",
       "max            12.000000               0.0   99998.000000  "
      ]
     },
     "metadata": {},
     "output_type": "display_data"
    },
    {
     "name": "stdout",
     "output_type": "stream",
     "text": [
      "====================================================================================================\n",
      "\n",
      "Data Duplicated\n"
     ]
    },
    {
     "data": {
      "text/plain": [
       "262"
      ]
     },
     "metadata": {},
     "output_type": "display_data"
    },
    {
     "name": "stdout",
     "output_type": "stream",
     "text": [
      "====================================================================================================\n",
      "\n",
      "Missing Values\n"
     ]
    },
    {
     "data": {
      "text/plain": [
       "DateCrawled              0\n",
       "Price                    0\n",
       "VehicleType          37490\n",
       "RegistrationYear         0\n",
       "Gearbox              19833\n",
       "Power                    0\n",
       "Model                19705\n",
       "Mileage                  0\n",
       "RegistrationMonth        0\n",
       "FuelType             32895\n",
       "Brand                    0\n",
       "NotRepaired          71154\n",
       "DateCreated              0\n",
       "NumberOfPictures         0\n",
       "PostalCode               0\n",
       "LastSeen                 0\n",
       "dtype: int64"
      ]
     },
     "metadata": {},
     "output_type": "display_data"
    },
    {
     "name": "stdout",
     "output_type": "stream",
     "text": [
      "****************************************************************************************************\n"
     ]
    }
   ],
   "source": [
    "# Aplicar la función y verificar el contenido y la calidad de los datos\n",
    "data_info(df)"
   ]
  },
  {
   "cell_type": "code",
   "execution_count": 194,
   "metadata": {
    "lang": "in"
   },
   "outputs": [
    {
     "name": "stdout",
     "output_type": "stream",
     "text": [
      "features VehicleType 8\n",
      "features Gearbox 2\n",
      "features Model 250\n",
      "features FuelType 7\n",
      "features Brand 40\n",
      "features NotRepaired 2\n"
     ]
    }
   ],
   "source": [
    "# Verificando el valor único en la columna categórica \n",
    "categorical_features = [\n",
    "    'VehicleType',\n",
    "    'Gearbox',\n",
    "    'Model',\n",
    "    'FuelType',\n",
    "    'Brand',\n",
    "    'NotRepaired',\n",
    "]\n",
    "\n",
    "for feature in categorical_features:\n",
    "    print(f'features {feature} {len(df[feature].value_counts())}')"
   ]
  },
  {
   "cell_type": "code",
   "execution_count": 195,
   "metadata": {
    "lang": "in"
   },
   "outputs": [
    {
     "name": "stdout",
     "output_type": "stream",
     "text": [
      "Model\n"
     ]
    },
    {
     "data": {
      "text/plain": [
       "array(['golf', nan, 'grand', 'fabia', '3er', '2_reihe', 'other', 'c_max',\n",
       "       '3_reihe', 'passat', 'navara', 'ka', 'polo', 'twingo', 'a_klasse',\n",
       "       'scirocco', '5er', 'meriva', 'arosa', 'c4', 'civic', 'transporter',\n",
       "       'punto', 'e_klasse', 'clio', 'kadett', 'kangoo', 'corsa', 'one',\n",
       "       'fortwo', '1er', 'b_klasse', 'signum', 'astra', 'a8', 'jetta',\n",
       "       'fiesta', 'c_klasse', 'micra', 'vito', 'sprinter', '156', 'escort',\n",
       "       'forester', 'xc_reihe', 'scenic', 'a4', 'a1', 'insignia', 'combo',\n",
       "       'focus', 'tt', 'a6', 'jazz', 'omega', 'slk', '7er', '80', '147',\n",
       "       '100', 'z_reihe', 'sportage', 'sorento', 'v40', 'ibiza', 'mustang',\n",
       "       'eos', 'touran', 'getz', 'a3', 'almera', 'megane', 'lupo', 'r19',\n",
       "       'zafira', 'caddy', 'mondeo', 'cordoba', 'colt', 'impreza',\n",
       "       'vectra', 'berlingo', 'tiguan', 'i_reihe', 'espace', 'sharan',\n",
       "       '6_reihe', 'panda', 'up', 'seicento', 'ceed', '5_reihe', 'yeti',\n",
       "       'octavia', 'mii', 'rx_reihe', '6er', 'modus', 'fox', 'matiz',\n",
       "       'beetle', 'c1', 'rio', 'touareg', 'logan', 'spider', 'cuore',\n",
       "       's_max', 'a2', 'galaxy', 'c3', 'viano', 's_klasse', '1_reihe',\n",
       "       'avensis', 'roomster', 'sl', 'kaefer', 'santa', 'cooper', 'leon',\n",
       "       '4_reihe', 'a5', '500', 'laguna', 'ptcruiser', 'clk', 'primera',\n",
       "       'x_reihe', 'exeo', '159', 'transit', 'juke', 'qashqai', 'carisma',\n",
       "       'accord', 'corolla', 'lanos', 'phaeton', 'verso', 'swift', 'rav',\n",
       "       'picanto', 'boxster', 'kalos', 'superb', 'stilo', 'alhambra',\n",
       "       'mx_reihe', 'roadster', 'ypsilon', 'cayenne', 'galant', 'justy',\n",
       "       '90', 'sirion', 'crossfire', 'agila', 'duster', 'cr_reihe', 'v50',\n",
       "       'c_reihe', 'v_klasse', 'm_klasse', 'yaris', 'c5', 'aygo', 'cc',\n",
       "       'carnival', 'fusion', '911', 'bora', 'forfour', 'm_reihe', 'cl',\n",
       "       'tigra', '300c', 'spark', 'v70', 'kuga', 'x_type', 'ducato',\n",
       "       's_type', 'x_trail', 'toledo', 'altea', 'voyager', 'calibra',\n",
       "       'bravo', 'antara', 'tucson', 'citigo', 'jimny', 'wrangler',\n",
       "       'lybra', 'q7', 'lancer', 'captiva', 'c2', 'discovery',\n",
       "       'freelander', 'sandero', 'note', '900', 'cherokee', 'clubman',\n",
       "       'samara', 'defender', '601', 'cx_reihe', 'legacy', 'pajero',\n",
       "       'auris', 'niva', 's60', 'nubira', 'vivaro', 'g_klasse', 'lodgy',\n",
       "       '850', 'range_rover', 'q3', 'serie_2', 'glk', 'charade', 'croma',\n",
       "       'outlander', 'doblo', 'musa', 'move', '9000', 'v60', '145', 'aveo',\n",
       "       '200', 'b_max', 'range_rover_sport', 'terios', 'rangerover', 'q5',\n",
       "       'range_rover_evoque', 'materia', 'delta', 'gl', 'kalina', 'amarok',\n",
       "       'elefantino', 'i3', 'kappa', 'serie_3', 'serie_1'], dtype=object)"
      ]
     },
     "metadata": {},
     "output_type": "display_data"
    },
    {
     "name": "stdout",
     "output_type": "stream",
     "text": [
      "==================================================\n",
      "Brand\n"
     ]
    },
    {
     "data": {
      "text/plain": [
       "array(['volkswagen', 'audi', 'jeep', 'skoda', 'bmw', 'peugeot', 'ford',\n",
       "       'mazda', 'nissan', 'renault', 'mercedes_benz', 'opel', 'seat',\n",
       "       'citroen', 'honda', 'fiat', 'mini', 'smart', 'hyundai',\n",
       "       'sonstige_autos', 'alfa_romeo', 'subaru', 'volvo', 'mitsubishi',\n",
       "       'kia', 'suzuki', 'lancia', 'toyota', 'chevrolet', 'dacia',\n",
       "       'daihatsu', 'trabant', 'saab', 'chrysler', 'jaguar', 'daewoo',\n",
       "       'porsche', 'rover', 'land_rover', 'lada'], dtype=object)"
      ]
     },
     "metadata": {},
     "output_type": "display_data"
    }
   ],
   "source": [
    "# Comprobar algunos datos en las dos columnas que tienen mas valores únicos. \n",
    "print('Model')\n",
    "display(df['Model'].unique())\n",
    "print('='*50)\n",
    "print('Brand')\n",
    "display(df['Brand'].unique())"
   ]
  },
  {
   "cell_type": "markdown",
   "metadata": {},
   "source": [
    "**Hallazgos:**\n",
    "\n",
    "- El conjunto de datos contiene 16 columnas y 354,369 filas de datos.\n",
    "- Las primeras 5 líneas de datos muestran algunos valores faltantes.\n",
    "- No hay errores en los nombres de las columnas, y el formato de escritura es consistente.\n",
    "- El conjunto de datos consume 43.4 MB de memoria, lo que potencialmente podría reducirse para mejorar la eficiencia del proceso de aprendizaje.\n",
    "- Los tipos de datos en las columnas que contienen fechas, como `DateCrawled`, `DateCreated` y `LastSeen`, no siempre coinciden con el contenido de los datos. Estas columnas no son relevantes para el aprendizaje automático y deben eliminarse.\n",
    "- La columna `Price` exhibe una diferencia significativa entre la media y la mediana, lo que sugiere la presencia de valores atípicos que deben ser abordados.\n",
    "- Algunos campos tienen valores tan bajos como 0, incluyendo `Price`, `Power` y `RegistrationMonth`. Las razones detrás de estos valores de 0 necesitan ser investigadas y resueltas.\n",
    "- El campo `RegistrationYear` tiene un valor máximo de 9999, lo que indica un error obvio de entrada que necesita corrección.\n",
    "- El campo `NumberOfPictures` contiene solo el valor 0, lo que lo hace irrelevante y puede ser eliminado.\n",
    "- Los campos categóricos `Model` y `Brand` contienen un gran número de valores únicos, lo que resultaría en un gran número de columnas después de la codificación one-hot (OHE). Se deben considerar enfoques alternativos para manejar estos datos categóricos sin OHE.\n",
    "- Hay 262 filas de datos duplicados, que pueden ser eliminadas sin problema.\n",
    "- Los valores faltantes son prevalentes en diferentes columnas y necesitan ser abordados.\n",
    "- Más del 10% de las filas tienen valores faltantes en la columna `VehicleType`, y más del 20% en la columna `NotRepaired`. Estos valores faltantes requieren métodos alternativos de manejo."
   ]
  },
  {
   "cell_type": "markdown",
   "metadata": {
    "lang": "in"
   },
   "source": [
    "### 2.3 Pre-procesamiento de los Datos"
   ]
  },
  {
   "cell_type": "markdown",
   "metadata": {
    "lang": "en"
   },
   "source": [
    "Vamos a comprobar y corregir los problemas encontrados en el dataset."
   ]
  },
  {
   "cell_type": "markdown",
   "metadata": {
    "lang": "en"
   },
   "source": [
    "#### 2.3.1 Eliminar Características Innecesarias"
   ]
  },
  {
   "cell_type": "markdown",
   "metadata": {},
   "source": [
    "Consideramos que algunas de las columnas o características son innecesarias para el proceso de aprendizaje automático, a saber, `DateCrawled`, `RegistrationMonth`, `DateCreated`, `NumberOfPictures`, `LastSeen` y `PostalCode`. Estas características pueden no tener una fuerte correlación con la característica objetivo (`Price`) o ya tienen sustituciones adecuadas, por lo tanto, pueden distraer potencialmente el proceso de aprendizaje automático."
   ]
  },
  {
   "cell_type": "code",
   "execution_count": 196,
   "metadata": {
    "lang": "in"
   },
   "outputs": [
    {
     "data": {
      "text/html": [
       "<div>\n",
       "<style scoped>\n",
       "    .dataframe tbody tr th:only-of-type {\n",
       "        vertical-align: middle;\n",
       "    }\n",
       "\n",
       "    .dataframe tbody tr th {\n",
       "        vertical-align: top;\n",
       "    }\n",
       "\n",
       "    .dataframe thead th {\n",
       "        text-align: right;\n",
       "    }\n",
       "</style>\n",
       "<table border=\"1\" class=\"dataframe\">\n",
       "  <thead>\n",
       "    <tr style=\"text-align: right;\">\n",
       "      <th></th>\n",
       "      <th>Price</th>\n",
       "      <th>VehicleType</th>\n",
       "      <th>RegistrationYear</th>\n",
       "      <th>Gearbox</th>\n",
       "      <th>Power</th>\n",
       "      <th>Model</th>\n",
       "      <th>Mileage</th>\n",
       "      <th>RegistrationMonth</th>\n",
       "      <th>FuelType</th>\n",
       "      <th>Brand</th>\n",
       "      <th>NotRepaired</th>\n",
       "    </tr>\n",
       "  </thead>\n",
       "  <tbody>\n",
       "    <tr>\n",
       "      <th>0</th>\n",
       "      <td>480</td>\n",
       "      <td>NaN</td>\n",
       "      <td>1993</td>\n",
       "      <td>manual</td>\n",
       "      <td>0</td>\n",
       "      <td>golf</td>\n",
       "      <td>150000</td>\n",
       "      <td>0</td>\n",
       "      <td>petrol</td>\n",
       "      <td>volkswagen</td>\n",
       "      <td>NaN</td>\n",
       "    </tr>\n",
       "    <tr>\n",
       "      <th>1</th>\n",
       "      <td>18300</td>\n",
       "      <td>coupe</td>\n",
       "      <td>2011</td>\n",
       "      <td>manual</td>\n",
       "      <td>190</td>\n",
       "      <td>NaN</td>\n",
       "      <td>125000</td>\n",
       "      <td>5</td>\n",
       "      <td>gasoline</td>\n",
       "      <td>audi</td>\n",
       "      <td>yes</td>\n",
       "    </tr>\n",
       "    <tr>\n",
       "      <th>2</th>\n",
       "      <td>9800</td>\n",
       "      <td>suv</td>\n",
       "      <td>2004</td>\n",
       "      <td>auto</td>\n",
       "      <td>163</td>\n",
       "      <td>grand</td>\n",
       "      <td>125000</td>\n",
       "      <td>8</td>\n",
       "      <td>gasoline</td>\n",
       "      <td>jeep</td>\n",
       "      <td>NaN</td>\n",
       "    </tr>\n",
       "    <tr>\n",
       "      <th>3</th>\n",
       "      <td>1500</td>\n",
       "      <td>small</td>\n",
       "      <td>2001</td>\n",
       "      <td>manual</td>\n",
       "      <td>75</td>\n",
       "      <td>golf</td>\n",
       "      <td>150000</td>\n",
       "      <td>6</td>\n",
       "      <td>petrol</td>\n",
       "      <td>volkswagen</td>\n",
       "      <td>no</td>\n",
       "    </tr>\n",
       "    <tr>\n",
       "      <th>4</th>\n",
       "      <td>3600</td>\n",
       "      <td>small</td>\n",
       "      <td>2008</td>\n",
       "      <td>manual</td>\n",
       "      <td>69</td>\n",
       "      <td>fabia</td>\n",
       "      <td>90000</td>\n",
       "      <td>7</td>\n",
       "      <td>gasoline</td>\n",
       "      <td>skoda</td>\n",
       "      <td>no</td>\n",
       "    </tr>\n",
       "  </tbody>\n",
       "</table>\n",
       "</div>"
      ],
      "text/plain": [
       "   Price VehicleType  RegistrationYear Gearbox  Power  Model  Mileage  \\\n",
       "0    480         NaN              1993  manual      0   golf   150000   \n",
       "1  18300       coupe              2011  manual    190    NaN   125000   \n",
       "2   9800         suv              2004    auto    163  grand   125000   \n",
       "3   1500       small              2001  manual     75   golf   150000   \n",
       "4   3600       small              2008  manual     69  fabia    90000   \n",
       "\n",
       "   RegistrationMonth  FuelType       Brand NotRepaired  \n",
       "0                  0    petrol  volkswagen         NaN  \n",
       "1                  5  gasoline        audi         yes  \n",
       "2                  8  gasoline        jeep         NaN  \n",
       "3                  6    petrol  volkswagen          no  \n",
       "4                  7  gasoline       skoda          no  "
      ]
     },
     "execution_count": 196,
     "metadata": {},
     "output_type": "execute_result"
    }
   ],
   "source": [
    "# Eliminar columnas innecesarias y comprobar el resultado\n",
    "df = df.drop(['DateCrawled', 'DateCreated', 'NumberOfPictures', 'LastSeen', 'PostalCode'], axis=1)\n",
    "df.head()"
   ]
  },
  {
   "cell_type": "code",
   "execution_count": 197,
   "metadata": {},
   "outputs": [
    {
     "name": "stdout",
     "output_type": "stream",
     "text": [
      "[0, 1, 2, 3, 4, 5, 6, 7, 8, 9, 10, 11, 12]\n"
     ]
    }
   ],
   "source": [
    "# Verificar valores únicos en Registration Month\n",
    "print(sorted(df['RegistrationMonth'].unique()))"
   ]
  },
  {
   "cell_type": "code",
   "execution_count": 198,
   "metadata": {},
   "outputs": [],
   "source": [
    "# Eliminar valores de Registration Month iguales a cero\n",
    "df = df[df['RegistrationMonth'] != 0]"
   ]
  },
  {
   "cell_type": "code",
   "execution_count": 199,
   "metadata": {},
   "outputs": [
    {
     "data": {
      "text/plain": [
       "RegistrationMonth\n",
       "1     23219\n",
       "2     21267\n",
       "3     34373\n",
       "4     29270\n",
       "5     29153\n",
       "6     31508\n",
       "7     27213\n",
       "8     22627\n",
       "9     23813\n",
       "10    26099\n",
       "11    24186\n",
       "12    24289\n",
       "Name: RegistrationMonth, dtype: int64"
      ]
     },
     "execution_count": 199,
     "metadata": {},
     "output_type": "execute_result"
    }
   ],
   "source": [
    "# Comprobar y contar que los valores de Registration Month sean congruentes\n",
    "df.groupby(by='RegistrationMonth')['RegistrationMonth'].count()"
   ]
  },
  {
   "cell_type": "code",
   "execution_count": 200,
   "metadata": {},
   "outputs": [
    {
     "data": {
      "text/html": [
       "<div>\n",
       "<style scoped>\n",
       "    .dataframe tbody tr th:only-of-type {\n",
       "        vertical-align: middle;\n",
       "    }\n",
       "\n",
       "    .dataframe tbody tr th {\n",
       "        vertical-align: top;\n",
       "    }\n",
       "\n",
       "    .dataframe thead th {\n",
       "        text-align: right;\n",
       "    }\n",
       "</style>\n",
       "<table border=\"1\" class=\"dataframe\">\n",
       "  <thead>\n",
       "    <tr style=\"text-align: right;\">\n",
       "      <th></th>\n",
       "      <th>Price</th>\n",
       "      <th>VehicleType</th>\n",
       "      <th>RegistrationYear</th>\n",
       "      <th>Gearbox</th>\n",
       "      <th>Power</th>\n",
       "      <th>Model</th>\n",
       "      <th>Mileage</th>\n",
       "      <th>RegistrationMonth</th>\n",
       "      <th>FuelType</th>\n",
       "      <th>Brand</th>\n",
       "      <th>NotRepaired</th>\n",
       "    </tr>\n",
       "  </thead>\n",
       "  <tbody>\n",
       "    <tr>\n",
       "      <th>1</th>\n",
       "      <td>18300</td>\n",
       "      <td>coupe</td>\n",
       "      <td>2011</td>\n",
       "      <td>manual</td>\n",
       "      <td>190</td>\n",
       "      <td>NaN</td>\n",
       "      <td>125000</td>\n",
       "      <td>5</td>\n",
       "      <td>gasoline</td>\n",
       "      <td>audi</td>\n",
       "      <td>yes</td>\n",
       "    </tr>\n",
       "    <tr>\n",
       "      <th>2</th>\n",
       "      <td>9800</td>\n",
       "      <td>suv</td>\n",
       "      <td>2004</td>\n",
       "      <td>auto</td>\n",
       "      <td>163</td>\n",
       "      <td>grand</td>\n",
       "      <td>125000</td>\n",
       "      <td>8</td>\n",
       "      <td>gasoline</td>\n",
       "      <td>jeep</td>\n",
       "      <td>NaN</td>\n",
       "    </tr>\n",
       "    <tr>\n",
       "      <th>3</th>\n",
       "      <td>1500</td>\n",
       "      <td>small</td>\n",
       "      <td>2001</td>\n",
       "      <td>manual</td>\n",
       "      <td>75</td>\n",
       "      <td>golf</td>\n",
       "      <td>150000</td>\n",
       "      <td>6</td>\n",
       "      <td>petrol</td>\n",
       "      <td>volkswagen</td>\n",
       "      <td>no</td>\n",
       "    </tr>\n",
       "    <tr>\n",
       "      <th>4</th>\n",
       "      <td>3600</td>\n",
       "      <td>small</td>\n",
       "      <td>2008</td>\n",
       "      <td>manual</td>\n",
       "      <td>69</td>\n",
       "      <td>fabia</td>\n",
       "      <td>90000</td>\n",
       "      <td>7</td>\n",
       "      <td>gasoline</td>\n",
       "      <td>skoda</td>\n",
       "      <td>no</td>\n",
       "    </tr>\n",
       "    <tr>\n",
       "      <th>5</th>\n",
       "      <td>650</td>\n",
       "      <td>sedan</td>\n",
       "      <td>1995</td>\n",
       "      <td>manual</td>\n",
       "      <td>102</td>\n",
       "      <td>3er</td>\n",
       "      <td>150000</td>\n",
       "      <td>10</td>\n",
       "      <td>petrol</td>\n",
       "      <td>bmw</td>\n",
       "      <td>yes</td>\n",
       "    </tr>\n",
       "  </tbody>\n",
       "</table>\n",
       "</div>"
      ],
      "text/plain": [
       "   Price VehicleType  RegistrationYear Gearbox  Power  Model  Mileage  \\\n",
       "1  18300       coupe              2011  manual    190    NaN   125000   \n",
       "2   9800         suv              2004    auto    163  grand   125000   \n",
       "3   1500       small              2001  manual     75   golf   150000   \n",
       "4   3600       small              2008  manual     69  fabia    90000   \n",
       "5    650       sedan              1995  manual    102    3er   150000   \n",
       "\n",
       "   RegistrationMonth  FuelType       Brand NotRepaired  \n",
       "1                  5  gasoline        audi         yes  \n",
       "2                  8  gasoline        jeep         NaN  \n",
       "3                  6    petrol  volkswagen          no  \n",
       "4                  7  gasoline       skoda          no  \n",
       "5                 10    petrol         bmw         yes  "
      ]
     },
     "execution_count": 200,
     "metadata": {},
     "output_type": "execute_result"
    }
   ],
   "source": [
    "df.head()"
   ]
  },
  {
   "cell_type": "markdown",
   "metadata": {
    "lang": "en"
   },
   "source": [
    "#### 2.3.2 Comprobar la Distribución de 'Price' "
   ]
  },
  {
   "cell_type": "code",
   "execution_count": 201,
   "metadata": {},
   "outputs": [
    {
     "data": {
      "image/png": "[encoded data removed]",
      "text/plain": [
       "<Figure size 2000x400 with 1 Axes>"
      ]
     },
     "metadata": {},
     "output_type": "display_data"
    }
   ],
   "source": [
    "plt.figure(figsize=(20, 4))\n",
    "\n",
    "plt.title('Price Distribution')\n",
    "sns.boxplot(x = df['Price'])\n",
    "\n",
    "plt.show()"
   ]
  },
  {
   "cell_type": "markdown",
   "metadata": {
    "lang": "en"
   },
   "source": [
    "Todos los valores atípicos están por encima del bigote superior. La cantidad de datos que cae en esta categoría puede determinarse calculando el número de puntos de datos que se encuentran por encima del bigote superior en el diagrama de caja."
   ]
  },
  {
   "cell_type": "code",
   "execution_count": 202,
   "metadata": {
    "lang": "in"
   },
   "outputs": [
    {
     "data": {
      "text/plain": [
       "15250.0"
      ]
     },
     "execution_count": 202,
     "metadata": {},
     "output_type": "execute_result"
    }
   ],
   "source": [
    "# Calcular los valores atípicos del bigote superior\n",
    "upper_whisker = df['Price'].quantile(0.75) + (1.5 * (df['Price'].quantile(0.75) - df['Price'].quantile(0.25)))\n",
    "upper_whisker"
   ]
  },
  {
   "cell_type": "code",
   "execution_count": 203,
   "metadata": {
    "lang": "in"
   },
   "outputs": [
    {
     "name": "stdout",
     "output_type": "stream",
     "text": [
      "5.86 %\n"
     ]
    }
   ],
   "source": [
    "# Calcular el porcentaje de valores atípicos\n",
    "print(round(len(df[df['Price'] > 14425]) / len(df['Price']) * 100, 2), '%')"
   ]
  },
  {
   "cell_type": "markdown",
   "metadata": {
    "lang": "en"
   },
   "source": [
    "Los datos atípicos representan solo el 5.36%, lo suficientemente pequeño como para que simplemente los eliminemos."
   ]
  },
  {
   "cell_type": "code",
   "execution_count": 204,
   "metadata": {
    "lang": "in"
   },
   "outputs": [
    {
     "data": {
      "text/plain": [
       "(298424, 11)"
      ]
     },
     "execution_count": 204,
     "metadata": {},
     "output_type": "execute_result"
    }
   ],
   "source": [
    "# Actualizar los datos sin los valores atípicos en la columna 'Price'\n",
    "df = df[df['Price'] < 14425].reset_index(drop=True)\n",
    "df.shape"
   ]
  },
  {
   "cell_type": "markdown",
   "metadata": {
    "lang": "en"
   },
   "source": [
    "#### 2.3.3 Verificando la Distribución de la Característica 'RegistrationYear'"
   ]
  },
  {
   "cell_type": "code",
   "execution_count": 205,
   "metadata": {
    "lang": "in"
   },
   "outputs": [
    {
     "name": "stdout",
     "output_type": "stream",
     "text": [
      "[1000, 1234, 1400, 1500, 1600, 1800, 1910, 1915, 1919, 1920, 1923, 1925, 1928, 1929, 1930, 1931, 1932, 1934, 1935, 1936, 1937, 1938, 1940, 1941, 1942, 1943, 1944, 1945, 1946, 1948, 1949, 1950, 1951, 1952, 1953, 1954, 1955, 1956, 1957, 1958, 1959, 1960, 1961, 1962, 1963, 1964, 1965, 1966, 1967, 1968, 1969, 1970, 1971, 1972, 1973, 1974, 1975, 1976, 1977, 1978, 1979, 1980, 1981, 1982, 1983, 1984, 1985, 1986, 1987, 1988, 1989, 1990, 1991, 1992, 1993, 1994, 1995, 1996, 1997, 1998, 1999, 2000, 2001, 2002, 2003, 2004, 2005, 2006, 2007, 2008, 2009, 2010, 2011, 2012, 2013, 2014, 2015, 2016, 2017, 2018, 2019, 2200, 2800, 2900, 3000, 3500, 4800, 5000, 6500, 7000, 7100, 8200, 8455, 9000, 9999]\n"
     ]
    }
   ],
   "source": [
    "# Comprobar por valores únicos en 'RegistrationYear'\n",
    "print(sorted(df['RegistrationYear'].unique()))"
   ]
  },
  {
   "cell_type": "code",
   "execution_count": 206,
   "metadata": {
    "lang": "in"
   },
   "outputs": [
    {
     "data": {
      "text/plain": [
       "RegistrationYear\n",
       "1000    8\n",
       "1234    1\n",
       "1400    1\n",
       "1500    2\n",
       "1600    1\n",
       "       ..\n",
       "7100    1\n",
       "8200    1\n",
       "8455    1\n",
       "9000    1\n",
       "9999    3\n",
       "Name: RegistrationYear, Length: 115, dtype: int64"
      ]
     },
     "execution_count": 206,
     "metadata": {},
     "output_type": "execute_result"
    }
   ],
   "source": [
    "# Comprobar la distribución\n",
    "df.groupby(by='RegistrationYear')['RegistrationYear'].count()"
   ]
  },
  {
   "cell_type": "code",
   "execution_count": 207,
   "metadata": {
    "lang": "in"
   },
   "outputs": [
    {
     "data": {
      "image/png": "[encoded data removed]",
      "text/plain": [
       "<Figure size 2000x400 with 1 Axes>"
      ]
     },
     "metadata": {},
     "output_type": "display_data"
    }
   ],
   "source": [
    "# Verificar la visualización de la distribución de los datos\n",
    "plt.figure(figsize=(20, 4))\n",
    "\n",
    "plt.title('Registration Year')\n",
    "sns.boxplot(x = df['RegistrationYear'])\n",
    "\n",
    "plt.show()"
   ]
  },
  {
   "cell_type": "markdown",
   "metadata": {
    "lang": "en"
   },
   "source": [
    "Esta característica contiene valores demasiado aleatorios y sin sentido. El diagrama de caja muestra que los datos están concentrados en el rango de años alrededor de 2000. Para estar seguros, solo consideraremos datos dentro del rango de años de 1900 a 2022."
   ]
  },
  {
   "cell_type": "code",
   "execution_count": 208,
   "metadata": {
    "lang": "in"
   },
   "outputs": [
    {
     "data": {
      "text/plain": [
       "(298387, 11)"
      ]
     },
     "execution_count": 208,
     "metadata": {},
     "output_type": "execute_result"
    }
   ],
   "source": [
    "# Seleccionar los datos de 'RegistrationYear' desde 1900 hasta 2022\n",
    "df =df[(1900 <= df['RegistrationYear']) & (df['RegistrationYear'] <= 2022)].reset_index(drop=True)\n",
    "df.shape"
   ]
  },
  {
   "cell_type": "markdown",
   "metadata": {
    "lang": "en"
   },
   "source": [
    "#### 2.3.4 Manejo de Valores Cero"
   ]
  },
  {
   "cell_type": "markdown",
   "metadata": {
    "lang": "en"
   },
   "source": [
    "**Columna 'Price'**"
   ]
  },
  {
   "cell_type": "code",
   "execution_count": 209,
   "metadata": {
    "lang": "in"
   },
   "outputs": [
    {
     "name": "stdout",
     "output_type": "stream",
     "text": [
      "[0, 1, 2, 3, 5, 7, 9, 10, 11, 12, 13, 15, 16, 17, 18, 19, 20, 24, 25, 26, 27, 29, 30, 33, 35, 38, 39, 40, 45, 47, 49, 50, 55, 59, 60, 65, 66, 70, 75, 79, 80, 85, 89, 90, 95, 98, 99, 100, 101, 106, 108, 110, 111, 112, 115, 117, 119, 120, 122, 123, 125, 126, 127, 128, 129, 130, 132, 133, 135, 139, 140, 142, 145, 149, 150, 155, 156, 157, 158, 159, 160, 162, 165, 166, 169, 170, 173, 175, 179, 180, 181, 185, 188, 189, 190, 192, 193, 195, 196, 198, 199, 200, 202, 205, 209, 210, 211, 215, 217, 219, 220, 222, 224, 225, 229, 230, 233, 235, 236, 238, 240, 243, 245, 248, 249, 250, 251, 252, 253, 255, 259, 260, 261, 263, 265, 266, 269, 270, 272, 273, 274, 275, 277, 279, 280, 284, 285, 289, 290, 295, 298, 299, 300, 301, 305, 308, 309, 310, 315, 316, 319, 320, 321, 323, 325, 329, 330, 331, 332, 333, 335, 338, 339, 340, 341, 344, 345, 348, 349, 350, 355, 356, 359, 360, 365, 366, 368, 369, 370, 373, 375, 377, 379, 380, 384, 385, 388, 389, 390, 393, 395, 397, 398, 399, 400, 408, 410, 414, 415, 418, 420, 422, 424, 425, 429, 430, 433, 435, 439, 440, 444, 445, 449, 450, 455, 456, 458, 459, 460, 465, 467, 469, 470, 475, 477, 479, 480, 485, 487, 489, 490, 495, 498, 499, 500, 501, 505, 510, 514, 515, 517, 519, 520, 522, 523, 525, 530, 531, 535, 536, 540, 543, 544, 545, 548, 549, 550, 554, 555, 559, 560, 565, 566, 569, 570, 574, 575, 576, 577, 579, 580, 585, 586, 588, 589, 590, 593, 595, 597, 598, 599, 600, 601, 605, 606, 610, 615, 619, 620, 622, 623, 625, 628, 629, 630, 632, 633, 634, 635, 639, 640, 644, 645, 647, 648, 649, 650, 655, 656, 658, 659, 660, 665, 666, 667, 669, 670, 675, 679, 680, 685, 686, 688, 689, 690, 691, 695, 696, 698, 699, 700, 701, 706, 709, 710, 715, 717, 719, 720, 722, 725, 728, 729, 730, 732, 735, 739, 740, 744, 745, 747, 749, 750, 755, 759, 760, 766, 768, 769, 770, 775, 776, 777, 780, 785, 788, 789, 790, 793, 795, 797, 798, 799, 800, 804, 810, 816, 820, 822, 823, 825, 828, 829, 830, 833, 834, 836, 837, 839, 840, 844, 845, 846, 849, 850, 851, 855, 859, 860, 865, 868, 869, 870, 875, 879, 880, 885, 888, 889, 890, 895, 897, 898, 899, 900, 901, 909, 910, 915, 919, 920, 923, 925, 929, 930, 934, 935, 940, 943, 944, 945, 948, 949, 950, 951, 955, 958, 959, 960, 965, 966, 968, 969, 970, 975, 976, 979, 980, 982, 985, 987, 988, 989, 990, 991, 993, 995, 996, 997, 998, 999, 1000, 1001, 1009, 1010, 1020, 1025, 1026, 1030, 1031, 1033, 1035, 1039, 1040, 1042, 1045, 1047, 1049, 1050, 1055, 1059, 1060, 1070, 1075, 1080, 1085, 1089, 1090, 1095, 1098, 1099, 1100, 1110, 1111, 1112, 1113, 1119, 1120, 1125, 1129, 1130, 1135, 1140, 1144, 1145, 1149, 1150, 1155, 1159, 1160, 1165, 1169, 1170, 1175, 1179, 1180, 1185, 1187, 1189, 1190, 1192, 1195, 1198, 1199, 1200, 1201, 1208, 1209, 1210, 1211, 1212, 1220, 1221, 1222, 1224, 1225, 1230, 1231, 1233, 1234, 1240, 1247, 1249, 1250, 1253, 1255, 1259, 1260, 1262, 1265, 1269, 1270, 1275, 1277, 1280, 1285, 1288, 1289, 1290, 1294, 1295, 1296, 1297, 1298, 1299, 1300, 1301, 1310, 1311, 1320, 1321, 1323, 1325, 1329, 1330, 1333, 1335, 1340, 1344, 1345, 1347, 1348, 1349, 1350, 1355, 1357, 1360, 1361, 1365, 1366, 1368, 1370, 1375, 1378, 1379, 1380, 1385, 1388, 1389, 1390, 1395, 1396, 1398, 1399, 1400, 1401, 1402, 1410, 1411, 1414, 1420, 1425, 1429, 1430, 1432, 1433, 1440, 1444, 1445, 1448, 1449, 1450, 1453, 1455, 1459, 1460, 1465, 1466, 1469, 1470, 1475, 1479, 1480, 1483, 1485, 1488, 1489, 1490, 1494, 1495, 1496, 1497, 1498, 1499, 1500, 1506, 1510, 1515, 1517, 1520, 1525, 1529, 1530, 1540, 1544, 1545, 1549, 1550, 1551, 1555, 1558, 1559, 1560, 1565, 1566, 1570, 1575, 1577, 1579, 1580, 1585, 1587, 1588, 1589, 1590, 1595, 1596, 1598, 1599, 1600, 1605, 1620, 1622, 1625, 1629, 1630, 1631, 1633, 1635, 1640, 1642, 1645, 1648, 1649, 1650, 1652, 1654, 1655, 1659, 1660, 1666, 1669, 1670, 1675, 1679, 1680, 1685, 1687, 1689, 1690, 1693, 1695, 1697, 1698, 1699, 1700, 1710, 1720, 1722, 1725, 1730, 1733, 1735, 1740, 1745, 1749, 1750, 1755, 1759, 1760, 1765, 1770, 1775, 1777, 1779, 1780, 1789, 1790, 1795, 1797, 1798, 1799, 1800, 1801, 1802, 1810, 1811, 1820, 1823, 1829, 1830, 1840, 1845, 1849, 1850, 1855, 1856, 1857, 1858, 1860, 1870, 1875, 1877, 1878, 1879, 1880, 1881, 1887, 1888, 1890, 1894, 1895, 1896, 1897, 1898, 1899, 1900, 1904, 1906, 1910, 1920, 1925, 1929, 1930, 1933, 1935, 1940, 1945, 1947, 1948, 1949, 1950, 1954, 1955, 1956, 1958, 1959, 1960, 1965, 1970, 1975, 1980, 1981, 1982, 1984, 1985, 1986, 1987, 1989, 1990, 1991, 1994, 1995, 1996, 1997, 1998, 1999, 2000, 2001, 2002, 2004, 2005, 2010, 2025, 2033, 2035, 2036, 2049, 2050, 2055, 2070, 2075, 2080, 2085, 2090, 2091, 2095, 2098, 2099, 2100, 2101, 2105, 2110, 2111, 2120, 2125, 2128, 2130, 2134, 2140, 2148, 2149, 2150, 2151, 2155, 2165, 2170, 2175, 2179, 2180, 2189, 2190, 2194, 2195, 2198, 2199, 2200, 2201, 2210, 2211, 2215, 2220, 2221, 2222, 2224, 2225, 2229, 2230, 2233, 2235, 2238, 2240, 2241, 2243, 2245, 2249, 2250, 2255, 2259, 2260, 2262, 2265, 2270, 2275, 2276, 2278, 2279, 2280, 2285, 2288, 2289, 2290, 2295, 2298, 2299, 2300, 2301, 2305, 2314, 2320, 2321, 2322, 2323, 2325, 2329, 2330, 2333, 2335, 2340, 2344, 2345, 2349, 2350, 2351, 2353, 2355, 2359, 2360, 2365, 2366, 2370, 2375, 2377, 2379, 2380, 2384, 2385, 2388, 2389, 2390, 2395, 2398, 2399, 2400, 2405, 2410, 2420, 2421, 2424, 2425, 2430, 2432, 2440, 2444, 2448, 2449, 2450, 2455, 2459, 2460, 2465, 2470, 2475, 2479, 2480, 2488, 2489, 2490, 2495, 2496, 2498, 2499, 2500, 2501, 2510, 2511, 2512, 2520, 2525, 2530, 2540, 2544, 2549, 2550, 2555, 2560, 2565, 2569, 2570, 2575, 2579, 2580, 2589, 2590, 2595, 2598, 2599, 2600, 2601, 2610, 2620, 2625, 2629, 2630, 2633, 2640, 2645, 2649, 2650, 2651, 2655, 2657, 2660, 2666, 2670, 2671, 2675, 2677, 2679, 2680, 2683, 2689, 2690, 2695, 2698, 2699, 2700, 2701, 2717, 2720, 2725, 2727, 2730, 2740, 2744, 2745, 2749, 2750, 2754, 2759, 2760, 2765, 2766, 2770, 2775, 2777, 2780, 2785, 2788, 2789, 2790, 2792, 2795, 2796, 2798, 2799, 2800, 2810, 2820, 2825, 2828, 2840, 2845, 2846, 2849, 2850, 2855, 2860, 2869, 2870, 2874, 2875, 2877, 2879, 2880, 2885, 2888, 2889, 2890, 2895, 2897, 2898, 2899, 2900, 2901, 2910, 2911, 2920, 2925, 2930, 2940, 2944, 2945, 2946, 2947, 2949, 2950, 2955, 2960, 2962, 2965, 2970, 2975, 2977, 2980, 2982, 2985, 2986, 2989, 2990, 2992, 2993, 2995, 2996, 2997, 2998, 2999, 3000, 3001, 3003, 3009, 3010, 3012, 3015, 3020, 3021, 3030, 3038, 3040, 3049, 3050, 3051, 3055, 3060, 3070, 3075, 3080, 3087, 3089, 3090, 3099, 3100, 3111, 3112, 3119, 3120, 3122, 3125, 3129, 3130, 3131, 3140, 3149, 3150, 3151, 3160, 3165, 3170, 3178, 3180, 3190, 3195, 3198, 3199, 3200, 3210, 3211, 3219, 3220, 3222, 3225, 3230, 3240, 3245, 3249, 3250, 3255, 3256, 3259, 3260, 3266, 3270, 3275, 3279, 3280, 3285, 3290, 3295, 3298, 3299, 3300, 3310, 3318, 3320, 3321, 3325, 3330, 3333, 3339, 3340, 3349, 3350, 3360, 3370, 3378, 3380, 3385, 3390, 3393, 3395, 3398, 3399, 3400, 3410, 3420, 3425, 3431, 3440, 3444, 3445, 3448, 3449, 3450, 3452, 3455, 3456, 3460, 3470, 3475, 3480, 3485, 3488, 3489, 3490, 3494, 3495, 3496, 3498, 3499, 3500, 3501, 3509, 3510, 3512, 3520, 3522, 3525, 3529, 3530, 3535, 3540, 3545, 3549, 3550, 3555, 3560, 3566, 3570, 3575, 3579, 3580, 3585, 3589, 3590, 3591, 3595, 3598, 3599, 3600, 3620, 3622, 3630, 3633, 3640, 3649, 3650, 3651, 3655, 3660, 3666, 3670, 3673, 3675, 3680, 3690, 3695, 3699, 3700, 3710, 3715, 3720, 3725, 3730, 3740, 3745, 3749, 3750, 3755, 3757, 3759, 3760, 3765, 3768, 3770, 3774, 3775, 3777, 3779, 3780, 3785, 3787, 3789, 3790, 3795, 3798, 3799, 3800, 3801, 3805, 3810, 3830, 3838, 3840, 3845, 3849, 3850, 3855, 3860, 3867, 3869, 3870, 3875, 3876, 3879, 3880, 3885, 3888, 3889, 3890, 3895, 3896, 3898, 3899, 3900, 3901, 3902, 3905, 3910, 3920, 3925, 3933, 3940, 3941, 3944, 3945, 3948, 3949, 3950, 3952, 3955, 3957, 3960, 3965, 3969, 3970, 3975, 3977, 3980, 3985, 3987, 3988, 3989, 3990, 3991, 3993, 3995, 3996, 3997, 3998, 3999, 4000, 4001, 4002, 4004, 4005, 4012, 4030, 4033, 4040, 4044, 4049, 4050, 4088, 4090, 4095, 4099, 4100, 4101, 4110, 4111, 4123, 4124, 4125, 4130, 4140, 4145, 4149, 4150, 4155, 4158, 4159, 4160, 4165, 4170, 4175, 4179, 4180, 4190, 4195, 4198, 4199, 4200, 4201, 4205, 4210, 4220, 4222, 4225, 4230, 4239, 4240, 4242, 4249, 4250, 4255, 4260, 4270, 4275, 4278, 4279, 4280, 4285, 4286, 4290, 4295, 4298, 4299, 4300, 4301, 4317, 4320, 4321, 4330, 4333, 4335, 4339, 4340, 4349, 4350, 4355, 4359, 4360, 4370, 4375, 4378, 4380, 4390, 4395, 4398, 4399, 4400, 4411, 4415, 4420, 4430, 4440, 4444, 4445, 4449, 4450, 4455, 4460, 4470, 4475, 4477, 4480, 4484, 4485, 4487, 4488, 4489, 4490, 4495, 4497, 4498, 4499, 4500, 4510, 4516, 4525, 4529, 4532, 4545, 4548, 4549, 4550, 4555, 4559, 4560, 4565, 4567, 4570, 4580, 4590, 4595, 4598, 4599, 4600, 4620, 4622, 4630, 4635, 4640, 4645, 4646, 4649, 4650, 4652, 4655, 4660, 4666, 4670, 4675, 4680, 4684, 4688, 4689, 4690, 4698, 4699, 4700, 4710, 4720, 4725, 4730, 4737, 4740, 4747, 4749, 4750, 4751, 4755, 4758, 4759, 4760, 4766, 4770, 4775, 4777, 4780, 4782, 4785, 4786, 4790, 4792, 4795, 4797, 4798, 4799, 4800, 4816, 4820, 4824, 4825, 4829, 4830, 4835, 4840, 4849, 4850, 4855, 4860, 4870, 4872, 4877, 4880, 4885, 4887, 4888, 4889, 4890, 4895, 4898, 4899, 4900, 4901, 4909, 4911, 4919, 4920, 4925, 4930, 4938, 4940, 4949, 4950, 4955, 4960, 4970, 4975, 4977, 4980, 4985, 4988, 4989, 4990, 4994, 4995, 4997, 4998, 4999, 5000, 5001, 5002, 5003, 5005, 5006, 5007, 5008, 5012, 5015, 5020, 5022, 5030, 5049, 5050, 5090, 5099, 5100, 5111, 5120, 5125, 5129, 5130, 5140, 5145, 5149, 5150, 5151, 5160, 5175, 5180, 5185, 5189, 5190, 5195, 5198, 5199, 5200, 5210, 5211, 5220, 5222, 5225, 5234, 5235, 5240, 5246, 5247, 5248, 5249, 5250, 5255, 5275, 5277, 5280, 5285, 5289, 5290, 5298, 5299, 5300, 5318, 5320, 5333, 5349, 5350, 5359, 5370, 5372, 5375, 5377, 5380, 5385, 5390, 5395, 5398, 5399, 5400, 5401, 5409, 5411, 5425, 5430, 5432, 5440, 5444, 5445, 5449, 5450, 5454, 5455, 5459, 5470, 5475, 5480, 5485, 5488, 5489, 5490, 5495, 5497, 5498, 5499, 5500, 5520, 5530, 5540, 5542, 5544, 5549, 5550, 5554, 5555, 5558, 5560, 5569, 5570, 5575, 5580, 5581, 5585, 5590, 5595, 5599, 5600, 5606, 5620, 5625, 5630, 5634, 5648, 5649, 5650, 5660, 5666, 5680, 5685, 5686, 5688, 5689, 5690, 5695, 5697, 5699, 5700, 5708, 5723, 5740, 5748, 5749, 5750, 5755, 5760, 5765, 5770, 5775, 5777, 5780, 5790, 5795, 5799, 5800, 5803, 5822, 5827, 5830, 5840, 5844, 5849, 5850, 5855, 5860, 5865, 5870, 5875, 5876, 5879, 5880, 5885, 5888, 5889, 5890, 5895, 5896, 5898, 5899, 5900, 5913, 5920, 5924, 5925, 5940, 5949, 5950, 5955, 5959, 5960, 5970, 5975, 5980, 5988, 5990, 5994, 5995, 5996, 5997, 5998, 5999, 6000, 6001, 6010, 6039, 6050, 6066, 6089, 6090, 6099, 6100, 6111, 6124, 6125, 6130, 6140, 6144, 6149, 6150, 6155, 6165, 6170, 6180, 6190, 6192, 6195, 6198, 6199, 6200, 6202, 6208, 6220, 6222, 6225, 6229, 6230, 6235, 6240, 6249, 6250, 6252, 6255, 6275, 6279, 6280, 6289, 6290, 6295, 6298, 6299, 6300, 6303, 6310, 6322, 6330, 6333, 6340, 6344, 6349, 6350, 6365, 6370, 6375, 6380, 6385, 6389, 6390, 6395, 6398, 6399, 6400, 6410, 6434, 6435, 6440, 6444, 6447, 6449, 6450, 6453, 6455, 6460, 6470, 6475, 6479, 6480, 6489, 6490, 6495, 6498, 6499, 6500, 6501, 6510, 6523, 6530, 6537, 6540, 6543, 6545, 6550, 6555, 6560, 6570, 6575, 6578, 6580, 6583, 6588, 6589, 6590, 6595, 6598, 6599, 6600, 6609, 6620, 6639, 6640, 6649, 6650, 6657, 6660, 6665, 6666, 6667, 6680, 6687, 6690, 6695, 6699, 6700, 6720, 6725, 6730, 6740, 6745, 6749, 6750, 6755, 6759, 6770, 6777, 6780, 6783, 6785, 6788, 6789, 6790, 6792, 6795, 6798, 6799, 6800, 6801, 6820, 6830, 6840, 6845, 6849, 6850, 6855, 6860, 6866, 6868, 6870, 6872, 6875, 6879, 6880, 6888, 6889, 6890, 6895, 6897, 6899, 6900, 6911, 6913, 6916, 6920, 6930, 6940, 6944, 6949, 6950, 6951, 6959, 6960, 6966, 6969, 6970, 6973, 6975, 6977, 6979, 6980, 6985, 6988, 6989, 6990, 6995, 6996, 6998, 6999, 7000, 7001, 7007, 7016, 7040, 7049, 7050, 7052, 7070, 7085, 7090, 7099, 7100, 7111, 7115, 7118, 7130, 7139, 7140, 7149, 7150, 7170, 7180, 7185, 7188, 7190, 7198, 7199, 7200, 7217, 7220, 7222, 7230, 7234, 7240, 7249, 7250, 7255, 7260, 7270, 7280, 7285, 7290, 7291, 7295, 7298, 7299, 7300, 7328, 7330, 7333, 7340, 7349, 7350, 7359, 7360, 7370, 7379, 7380, 7385, 7390, 7395, 7396, 7399, 7400, 7420, 7428, 7430, 7435, 7440, 7444, 7446, 7449, 7450, 7455, 7460, 7470, 7480, 7485, 7489, 7490, 7491, 7495, 7497, 7498, 7499, 7500, 7522, 7530, 7539, 7540, 7545, 7549, 7550, 7555, 7560, 7563, 7570, 7588, 7590, 7591, 7595, 7596, 7598, 7599, 7600, 7603, 7640, 7645, 7649, 7650, 7654, 7655, 7657, 7660, 7666, 7675, 7680, 7685, 7688, 7689, 7690, 7695, 7699, 7700, 7740, 7745, 7749, 7750, 7760, 7770, 7775, 7777, 7780, 7789, 7790, 7795, 7799, 7800, 7820, 7825, 7830, 7839, 7840, 7844, 7845, 7849, 7850, 7855, 7856, 7859, 7860, 7869, 7875, 7877, 7880, 7885, 7888, 7890, 7893, 7895, 7898, 7899, 7900, 7924, 7930, 7940, 7949, 7950, 7960, 7970, 7980, 7985, 7988, 7989, 7990, 7994, 7995, 7996, 7997, 7998, 7999, 8000, 8008, 8035, 8050, 8069, 8080, 8090, 8098, 8099, 8100, 8111, 8115, 8125, 8129, 8146, 8150, 8155, 8159, 8180, 8181, 8188, 8189, 8190, 8198, 8199, 8200, 8211, 8219, 8222, 8225, 8230, 8240, 8245, 8248, 8249, 8250, 8255, 8258, 8265, 8270, 8275, 8280, 8282, 8285, 8288, 8290, 8295, 8299, 8300, 8320, 8321, 8330, 8333, 8335, 8340, 8345, 8349, 8350, 8360, 8370, 8380, 8390, 8395, 8399, 8400, 8419, 8420, 8425, 8431, 8444, 8446, 8447, 8449, 8450, 8460, 8469, 8470, 8480, 8484, 8485, 8488, 8490, 8494, 8495, 8498, 8499, 8500, 8510, 8519, 8520, 8549, 8550, 8555, 8560, 8570, 8579, 8580, 8590, 8595, 8599, 8600, 8620, 8630, 8640, 8645, 8650, 8655, 8663, 8665, 8666, 8670, 8675, 8680, 8690, 8695, 8698, 8699, 8700, 8720, 8730, 8749, 8750, 8751, 8755, 8760, 8764, 8765, 8770, 8777, 8780, 8785, 8788, 8790, 8795, 8798, 8799, 8800, 8801, 8840, 8849, 8850, 8854, 8870, 8875, 8880, 8885, 8886, 8887, 8888, 8889, 8890, 8891, 8895, 8897, 8898, 8899, 8900, 8904, 8911, 8925, 8930, 8940, 8944, 8949, 8950, 8955, 8960, 8970, 8974, 8975, 8979, 8980, 8987, 8989, 8990, 8995, 8998, 8999, 9000, 9001, 9049, 9050, 9090, 9099, 9100, 9110, 9111, 9120, 9125, 9130, 9149, 9150, 9170, 9190, 9195, 9198, 9199, 9200, 9203, 9221, 9222, 9240, 9245, 9249, 9250, 9270, 9275, 9280, 9289, 9290, 9298, 9299, 9300, 9307, 9320, 9325, 9333, 9349, 9350, 9370, 9375, 9379, 9380, 9385, 9390, 9395, 9398, 9399, 9400, 9410, 9420, 9428, 9440, 9444, 9449, 9450, 9455, 9460, 9469, 9470, 9475, 9480, 9488, 9490, 9495, 9498, 9499, 9500, 9520, 9525, 9529, 9530, 9540, 9549, 9550, 9555, 9560, 9570, 9577, 9580, 9590, 9599, 9600, 9649, 9650, 9655, 9660, 9666, 9667, 9675, 9680, 9681, 9690, 9695, 9699, 9700, 9720, 9725, 9734, 9740, 9745, 9749, 9750, 9760, 9769, 9773, 9777, 9780, 9788, 9789, 9790, 9793, 9799, 9800, 9840, 9845, 9849, 9850, 9860, 9870, 9875, 9876, 9877, 9880, 9885, 9888, 9890, 9895, 9899, 9900, 9911, 9920, 9925, 9939, 9945, 9948, 9949, 9950, 9951, 9959, 9964, 9968, 9970, 9975, 9980, 9985, 9987, 9988, 9989, 9990, 9991, 9993, 9994, 9995, 9996, 9997, 9998, 9999, 10000, 10001, 10009, 10050, 10080, 10089, 10090, 10099, 10100, 10111, 10150, 10175, 10180, 10190, 10198, 10199, 10200, 10220, 10222, 10230, 10240, 10249, 10250, 10260, 10280, 10288, 10290, 10295, 10299, 10300, 10310, 10317, 10328, 10333, 10340, 10344, 10349, 10350, 10370, 10375, 10379, 10380, 10389, 10390, 10398, 10399, 10400, 10420, 10422, 10430, 10444, 10449, 10450, 10466, 10470, 10472, 10475, 10480, 10488, 10490, 10495, 10498, 10499, 10500, 10529, 10540, 10550, 10555, 10556, 10560, 10570, 10590, 10599, 10600, 10625, 10650, 10655, 10666, 10670, 10680, 10690, 10695, 10699, 10700, 10725, 10730, 10749, 10750, 10755, 10760, 10777, 10780, 10789, 10790, 10791, 10795, 10799, 10800, 10830, 10849, 10850, 10860, 10870, 10875, 10879, 10880, 10888, 10890, 10891, 10895, 10898, 10899, 10900, 10910, 10920, 10930, 10939, 10940, 10945, 10949, 10950, 10960, 10970, 10975, 10980, 10985, 10986, 10987, 10988, 10989, 10990, 10995, 10997, 10998, 10999, 11000, 11050, 11080, 11090, 11099, 11100, 11111, 11140, 11148, 11149, 11150, 11180, 11190, 11195, 11199, 11200, 11205, 11220, 11222, 11230, 11235, 11240, 11247, 11250, 11270, 11290, 11295, 11299, 11300, 11320, 11325, 11330, 11333, 11349, 11350, 11360, 11379, 11380, 11389, 11390, 11399, 11400, 11410, 11430, 11432, 11444, 11448, 11449, 11450, 11454, 11470, 11475, 11479, 11480, 11488, 11489, 11490, 11495, 11498, 11499, 11500, 11533, 11540, 11549, 11550, 11552, 11555, 11580, 11590, 11599, 11600, 11625, 11649, 11650, 11654, 11660, 11666, 11670, 11680, 11685, 11687, 11690, 11693, 11697, 11699, 11700, 11720, 11722, 11725, 11733, 11738, 11749, 11750, 11756, 11760, 11770, 11777, 11780, 11784, 11790, 11798, 11799, 11800, 11820, 11825, 11840, 11845, 11849, 11850, 11878, 11880, 11888, 11889, 11890, 11897, 11899, 11900, 11909, 11919, 11920, 11923, 11928, 11930, 11935, 11940, 11950, 11955, 11960, 11968, 11970, 11975, 11979, 11980, 11981, 11982, 11985, 11987, 11988, 11989, 11990, 11995, 11998, 11999, 12000, 12050, 12059, 12090, 12099, 12100, 12120, 12125, 12145, 12150, 12180, 12190, 12195, 12199, 12200, 12220, 12222, 12225, 12249, 12250, 12255, 12270, 12280, 12290, 12295, 12298, 12299, 12300, 12318, 12320, 12330, 12333, 12340, 12345, 12349, 12350, 12355, 12360, 12368, 12370, 12380, 12390, 12395, 12399, 12400, 12430, 12440, 12444, 12449, 12450, 12465, 12469, 12470, 12475, 12480, 12488, 12489, 12490, 12495, 12498, 12499, 12500, 12501, 12523, 12525, 12540, 12549, 12550, 12555, 12560, 12567, 12580, 12590, 12599, 12600, 12647, 12650, 12660, 12667, 12680, 12685, 12690, 12696, 12699, 12700, 12735, 12740, 12749, 12750, 12770, 12777, 12780, 12789, 12790, 12799, 12800, 12808, 12821, 12830, 12850, 12860, 12870, 12877, 12880, 12887, 12888, 12889, 12890, 12898, 12899, 12900, 12920, 12932, 12949, 12950, 12968, 12970, 12973, 12978, 12980, 12985, 12986, 12987, 12988, 12989, 12990, 12991, 12995, 12996, 12997, 12998, 12999, 13000, 13049, 13050, 13090, 13099, 13100, 13131, 13150, 13180, 13190, 13199, 13200, 13220, 13222, 13225, 13230, 13240, 13249, 13250, 13275, 13280, 13290, 13298, 13299, 13300, 13321, 13330, 13333, 13349, 13350, 13362, 13380, 13383, 13384, 13387, 13390, 13399, 13400, 13423, 13440, 13444, 13449, 13450, 13456, 13470, 13475, 13480, 13485, 13488, 13489, 13490, 13493, 13495, 13498, 13499, 13500, 13520, 13530, 13548, 13550, 13555, 13560, 13590, 13599, 13600, 13620, 13650, 13666, 13680, 13690, 13699, 13700, 13730, 13749, 13750, 13755, 13777, 13780, 13790, 13798, 13799, 13800, 13830, 13849, 13850, 13870, 13875, 13879, 13880, 13885, 13888, 13890, 13899, 13900, 13911, 13930, 13940, 13949, 13950, 13955, 13960, 13970, 13975, 13978, 13980, 13985, 13986, 13988, 13989, 13990, 13995, 13998, 13999, 14000, 14001, 14010, 14050, 14099, 14100, 14111, 14114, 14140, 14150, 14180, 14190, 14199, 14200, 14220, 14222, 14227, 14230, 14240, 14249, 14250, 14260, 14270, 14275, 14280, 14290, 14295, 14299, 14300, 14320, 14321, 14333, 14337, 14341, 14349, 14350, 14386, 14390, 14398, 14399, 14400]\n"
     ]
    }
   ],
   "source": [
    "# Verificar valores en la columna 'Price'\n",
    "print(sorted(df['Price'].unique()))"
   ]
  },
  {
   "cell_type": "code",
   "execution_count": 210,
   "metadata": {
    "lang": "in"
   },
   "outputs": [
    {
     "data": {
      "text/plain": [
       "Price\n",
       "0     6292\n",
       "1      675\n",
       "2        7\n",
       "3        6\n",
       "5       13\n",
       "7        1\n",
       "9        5\n",
       "10      36\n",
       "11       2\n",
       "12       3\n",
       "13       4\n",
       "15       2\n",
       "16       1\n",
       "17       2\n",
       "18       1\n",
       "19       2\n",
       "20      13\n",
       "24       1\n",
       "25       8\n",
       "26       1\n",
       "Name: Price, dtype: int64"
      ]
     },
     "execution_count": 210,
     "metadata": {},
     "output_type": "execute_result"
    }
   ],
   "source": [
    "# Comprobar la distribución en los 20 valores más bajos\n",
    "df.groupby(by='Price')['Price'].count().head(20)"
   ]
  },
  {
   "cell_type": "markdown",
   "metadata": {
    "lang": "en"
   },
   "source": [
    "El valor 0 en 'Price' podría indicar un vehículo gratuito o un error en la entrada de datos. Además del valor 0, existen otros valores pequeños que también son igualmente absurdos para el precio del vehículo.\n",
    "\n",
    "Eliminar el valor 0 debería implicar eliminar también estos valores inusualmente pequeños. En este caso, se ha decidido eliminar únicamente las filas de datos donde los valores de 'Price' en el DataFrame 'df' sean inferiores a 100."
   ]
  },
  {
   "cell_type": "code",
   "execution_count": 211,
   "metadata": {
    "lang": "in"
   },
   "outputs": [
    {
     "data": {
      "text/plain": [
       "(290807, 11)"
      ]
     },
     "execution_count": 211,
     "metadata": {},
     "output_type": "execute_result"
    }
   ],
   "source": [
    "# Eliminar los datos de 'Price' que sean menores a 100\n",
    "df = df[df['Price'] > 99].reset_index(drop=True)\n",
    "df.shape"
   ]
  },
  {
   "cell_type": "markdown",
   "metadata": {
    "lang": "en"
   },
   "source": [
    "Los datos han sido eliminados con éxito. Sin embargo, todavía tenemos un número considerable de filas de datos restantes."
   ]
  },
  {
   "cell_type": "markdown",
   "metadata": {
    "lang": "en"
   },
   "source": [
    "**Columna 'Power'**"
   ]
  },
  {
   "cell_type": "code",
   "execution_count": 212,
   "metadata": {
    "lang": "in"
   },
   "outputs": [
    {
     "name": "stdout",
     "output_type": "stream",
     "text": [
      "[0, 1, 2, 3, 4, 5, 6, 7, 8, 9, 10, 11, 12, 13, 14, 15, 16, 17, 18, 19, 20, 21, 22, 23, 24, 25, 26, 27, 28, 29, 30, 31, 32, 33, 34, 35, 36, 37, 38, 39, 40, 41, 42, 43, 44, 45, 46, 47, 48, 49, 50, 51, 52, 53, 54, 55, 56, 57, 58, 59, 60, 61, 62, 63, 64, 65, 66, 67, 68, 69, 70, 71, 72, 73, 74, 75, 76, 77, 78, 79, 80, 81, 82, 83, 84, 85, 86, 87, 88, 89, 90, 91, 92, 93, 94, 95, 96, 97, 98, 99, 100, 101, 102, 103, 104, 105, 106, 107, 108, 109, 110, 111, 112, 113, 114, 115, 116, 117, 118, 119, 120, 121, 122, 123, 124, 125, 126, 127, 128, 129, 130, 131, 132, 133, 134, 135, 136, 137, 138, 139, 140, 141, 142, 143, 144, 145, 146, 147, 148, 149, 150, 151, 152, 153, 154, 155, 156, 157, 158, 159, 160, 161, 162, 163, 164, 165, 166, 167, 168, 169, 170, 171, 172, 173, 174, 175, 176, 177, 178, 179, 180, 181, 182, 183, 184, 185, 186, 187, 188, 189, 190, 191, 192, 193, 194, 195, 196, 197, 198, 199, 200, 201, 202, 203, 204, 205, 206, 207, 208, 209, 210, 211, 212, 213, 214, 215, 216, 217, 218, 219, 220, 221, 222, 223, 224, 225, 226, 227, 228, 229, 230, 231, 232, 233, 234, 235, 236, 237, 238, 239, 240, 241, 242, 243, 244, 245, 246, 247, 249, 250, 251, 252, 253, 254, 255, 256, 257, 258, 259, 260, 261, 262, 264, 265, 266, 267, 268, 269, 270, 271, 272, 273, 274, 275, 276, 277, 278, 279, 280, 281, 283, 284, 285, 286, 287, 288, 289, 290, 292, 293, 294, 295, 296, 298, 299, 300, 301, 303, 304, 305, 306, 307, 308, 309, 310, 311, 313, 314, 315, 316, 318, 320, 321, 322, 323, 324, 325, 326, 328, 329, 330, 331, 333, 334, 335, 336, 338, 339, 340, 341, 343, 344, 345, 346, 347, 348, 349, 350, 353, 354, 355, 356, 357, 358, 360, 362, 363, 364, 365, 367, 370, 374, 379, 380, 381, 382, 385, 386, 387, 388, 390, 392, 394, 396, 398, 399, 400, 401, 405, 408, 411, 420, 431, 435, 442, 445, 449, 450, 454, 475, 476, 500, 504, 505, 507, 520, 521, 540, 541, 544, 550, 551, 553, 580, 600, 601, 602, 603, 604, 606, 607, 610, 620, 645, 650, 651, 671, 678, 682, 685, 696, 700, 702, 703, 732, 750, 776, 800, 808, 850, 851, 871, 900, 901, 902, 903, 907, 909, 923, 950, 952, 953, 998, 999, 1000, 1001, 1002, 1003, 1004, 1005, 1011, 1012, 1016, 1017, 1021, 1024, 1054, 1055, 1062, 1079, 1082, 1090, 1100, 1105, 1115, 1120, 1149, 1151, 1160, 1162, 1164, 1199, 1200, 1202, 1221, 1223, 1230, 1239, 1240, 1241, 1252, 1275, 1299, 1300, 1312, 1317, 1324, 1339, 1351, 1360, 1362, 1363, 1367, 1390, 1394, 1398, 1399, 1400, 1401, 1403, 1405, 1416, 1432, 1436, 1500, 1501, 1502, 1503, 1506, 1521, 1548, 1595, 1596, 1597, 1598, 1600, 1625, 1631, 1653, 1659, 1689, 1700, 1701, 1703, 1704, 1707, 1753, 1771, 1780, 1781, 1783, 1793, 1796, 1799, 1800, 1801, 1870, 1895, 1896, 1900, 1920, 1922, 1933, 1937, 1968, 1986, 1988, 1993, 1995, 1998, 2000, 2004, 2005, 2007, 2009, 2016, 2017, 2018, 2172, 2331, 2340, 2389, 2402, 2461, 2598, 2729, 2789, 2792, 2799, 3199, 3454, 3500, 3750, 4400, 4507, 4700, 5411, 5575, 5809, 5815, 5867, 6006, 6010, 6011, 6012, 6018, 6045, 6062, 6226, 6512, 6920, 7511, 7512, 7515, 7518, 7529, 7544, 8259, 8404, 8500, 9007, 9010, 9011, 9012, 9013, 10110, 10311, 10520, 10710, 10910, 11011, 11025, 11111, 11509, 11530, 11635, 12012, 12510, 12512, 13616, 14009, 15001, 15017, 15020, 15033, 16011, 16051, 16311, 16312, 17011, 17019, 17700, 17932, 19208, 19312, 20000]\n"
     ]
    }
   ],
   "source": [
    "# Comprobar los valores en la columna 'Power'\n",
    "print(sorted(df['Power'].unique()))"
   ]
  },
  {
   "cell_type": "code",
   "execution_count": 213,
   "metadata": {
    "lang": "in"
   },
   "outputs": [
    {
     "data": {
      "text/plain": [
       "Power\n",
       "0     22725\n",
       "1        19\n",
       "2         6\n",
       "3         8\n",
       "4        28\n",
       "5        88\n",
       "6        11\n",
       "7        10\n",
       "8         7\n",
       "9         3\n",
       "10       12\n",
       "11       27\n",
       "12       12\n",
       "13        6\n",
       "14       17\n",
       "15        9\n",
       "16        5\n",
       "17        7\n",
       "18       41\n",
       "19        9\n",
       "Name: Power, dtype: int64"
      ]
     },
     "execution_count": 213,
     "metadata": {},
     "output_type": "execute_result"
    }
   ],
   "source": [
    "# Verificar la distribución en los 20 valores más bajos\n",
    "df.groupby(by='Power')['Power'].count().head(20)"
   ]
  },
  {
   "cell_type": "code",
   "execution_count": 214,
   "metadata": {
    "lang": "in"
   },
   "outputs": [
    {
     "data": {
      "text/plain": [
       "24      245\n",
       "27     1500\n",
       "42      550\n",
       "54      800\n",
       "72     2400\n",
       "77     4290\n",
       "88      350\n",
       "102    8000\n",
       "105    3390\n",
       "117     150\n",
       "Name: Price, dtype: int64"
      ]
     },
     "execution_count": 214,
     "metadata": {},
     "output_type": "execute_result"
    }
   ],
   "source": [
    "# Verificar más a fondo los precios de los autos con 'Power' igual a 0\n",
    "df.query('Power == 0')['Price'].head(10)"
   ]
  },
  {
   "cell_type": "markdown",
   "metadata": {},
   "source": [
    "La situación es similar en la columna 'Price'. Los autos con 0 caballos de fuerza ciertamente no son comunes, pero aquellos con caballos de fuerza bajos también son muy raros. La mayoría de los modelos de autos recientes generalmente no tienen valores de caballos de fuerza por debajo de 50.\n",
    "\n",
    "Sin embargo, es posible que en el conjunto de datos estén incluidos autos más antiguos con caballos de fuerza más bajos. Por lo tanto, no eliminaremos simplemente las filas de datos con valores bajos de caballos de fuerza.\n",
    "\n",
    "Por otro lado, los datos en la columna 'Power' con un valor de 0 no son bastante significativos, ahora intentaremos eliminar todos los valores donde power sea igual a cero."
   ]
  },
  {
   "cell_type": "code",
   "execution_count": 215,
   "metadata": {
    "lang": "in"
   },
   "outputs": [],
   "source": [
    "# Verificar la correlación entre los datos\n",
    "# df.corr()"
   ]
  },
  {
   "cell_type": "code",
   "execution_count": 216,
   "metadata": {},
   "outputs": [
    {
     "data": {
      "text/html": [
       "<div>\n",
       "<style scoped>\n",
       "    .dataframe tbody tr th:only-of-type {\n",
       "        vertical-align: middle;\n",
       "    }\n",
       "\n",
       "    .dataframe tbody tr th {\n",
       "        vertical-align: top;\n",
       "    }\n",
       "\n",
       "    .dataframe thead th {\n",
       "        text-align: right;\n",
       "    }\n",
       "</style>\n",
       "<table border=\"1\" class=\"dataframe\">\n",
       "  <thead>\n",
       "    <tr style=\"text-align: right;\">\n",
       "      <th></th>\n",
       "      <th>Price</th>\n",
       "      <th>VehicleType</th>\n",
       "      <th>RegistrationYear</th>\n",
       "      <th>Gearbox</th>\n",
       "      <th>Power</th>\n",
       "      <th>Model</th>\n",
       "      <th>Mileage</th>\n",
       "      <th>RegistrationMonth</th>\n",
       "      <th>FuelType</th>\n",
       "      <th>Brand</th>\n",
       "      <th>NotRepaired</th>\n",
       "    </tr>\n",
       "  </thead>\n",
       "  <tbody>\n",
       "    <tr>\n",
       "      <th>0</th>\n",
       "      <td>9800</td>\n",
       "      <td>suv</td>\n",
       "      <td>2004</td>\n",
       "      <td>auto</td>\n",
       "      <td>163</td>\n",
       "      <td>grand</td>\n",
       "      <td>125000</td>\n",
       "      <td>8</td>\n",
       "      <td>gasoline</td>\n",
       "      <td>jeep</td>\n",
       "      <td>NaN</td>\n",
       "    </tr>\n",
       "    <tr>\n",
       "      <th>1</th>\n",
       "      <td>1500</td>\n",
       "      <td>small</td>\n",
       "      <td>2001</td>\n",
       "      <td>manual</td>\n",
       "      <td>75</td>\n",
       "      <td>golf</td>\n",
       "      <td>150000</td>\n",
       "      <td>6</td>\n",
       "      <td>petrol</td>\n",
       "      <td>volkswagen</td>\n",
       "      <td>no</td>\n",
       "    </tr>\n",
       "    <tr>\n",
       "      <th>2</th>\n",
       "      <td>3600</td>\n",
       "      <td>small</td>\n",
       "      <td>2008</td>\n",
       "      <td>manual</td>\n",
       "      <td>69</td>\n",
       "      <td>fabia</td>\n",
       "      <td>90000</td>\n",
       "      <td>7</td>\n",
       "      <td>gasoline</td>\n",
       "      <td>skoda</td>\n",
       "      <td>no</td>\n",
       "    </tr>\n",
       "    <tr>\n",
       "      <th>3</th>\n",
       "      <td>650</td>\n",
       "      <td>sedan</td>\n",
       "      <td>1995</td>\n",
       "      <td>manual</td>\n",
       "      <td>102</td>\n",
       "      <td>3er</td>\n",
       "      <td>150000</td>\n",
       "      <td>10</td>\n",
       "      <td>petrol</td>\n",
       "      <td>bmw</td>\n",
       "      <td>yes</td>\n",
       "    </tr>\n",
       "    <tr>\n",
       "      <th>4</th>\n",
       "      <td>2200</td>\n",
       "      <td>convertible</td>\n",
       "      <td>2004</td>\n",
       "      <td>manual</td>\n",
       "      <td>109</td>\n",
       "      <td>2_reihe</td>\n",
       "      <td>150000</td>\n",
       "      <td>8</td>\n",
       "      <td>petrol</td>\n",
       "      <td>peugeot</td>\n",
       "      <td>no</td>\n",
       "    </tr>\n",
       "  </tbody>\n",
       "</table>\n",
       "</div>"
      ],
      "text/plain": [
       "   Price  VehicleType  RegistrationYear Gearbox  Power    Model  Mileage  \\\n",
       "0   9800          suv              2004    auto    163    grand   125000   \n",
       "1   1500        small              2001  manual     75     golf   150000   \n",
       "2   3600        small              2008  manual     69    fabia    90000   \n",
       "3    650        sedan              1995  manual    102      3er   150000   \n",
       "4   2200  convertible              2004  manual    109  2_reihe   150000   \n",
       "\n",
       "   RegistrationMonth  FuelType       Brand NotRepaired  \n",
       "0                  8  gasoline        jeep         NaN  \n",
       "1                  6    petrol  volkswagen          no  \n",
       "2                  7  gasoline       skoda          no  \n",
       "3                 10    petrol         bmw         yes  \n",
       "4                  8    petrol     peugeot          no  "
      ]
     },
     "execution_count": 216,
     "metadata": {},
     "output_type": "execute_result"
    }
   ],
   "source": [
    "# Eliminar los valores donde power sea igual a cero\n",
    "df = df[df['Power'] != 0]\n",
    "df.head()"
   ]
  },
  {
   "cell_type": "code",
   "execution_count": 217,
   "metadata": {
    "lang": "in"
   },
   "outputs": [],
   "source": [
    "# Crear una función para agrupar por precios\n",
    "def price_group(price):\n",
    "    if price <= 500:\n",
    "        return 'cheap'\n",
    "    elif 500 < price <= 2000:\n",
    "        return 'medium'\n",
    "    elif 2000 < price <= 10000:\n",
    "        return 'expensive'\n",
    "    else:\n",
    "        return 'very_expensive'"
   ]
  },
  {
   "cell_type": "code",
   "execution_count": 218,
   "metadata": {
    "lang": "in"
   },
   "outputs": [
    {
     "name": "stdout",
     "output_type": "stream",
     "text": [
      "cheap\n",
      "medium\n",
      "expensive\n",
      "very_expensive\n"
     ]
    }
   ],
   "source": [
    "# Comprobar la función\n",
    "print(price_group(150))\n",
    "print(price_group(1000))\n",
    "print(price_group(5000))\n",
    "print(price_group(12000))"
   ]
  },
  {
   "cell_type": "code",
   "execution_count": 219,
   "metadata": {
    "lang": "in"
   },
   "outputs": [],
   "source": [
    "# Crear una nueva columna basada en la función \n",
    "df['PriceGroup'] = df['Price'].apply(price_group)"
   ]
  },
  {
   "cell_type": "code",
   "execution_count": 220,
   "metadata": {
    "lang": "in",
    "scrolled": true
   },
   "outputs": [
    {
     "data": {
      "text/html": [
       "<div>\n",
       "<style scoped>\n",
       "    .dataframe tbody tr th:only-of-type {\n",
       "        vertical-align: middle;\n",
       "    }\n",
       "\n",
       "    .dataframe tbody tr th {\n",
       "        vertical-align: top;\n",
       "    }\n",
       "\n",
       "    .dataframe thead th {\n",
       "        text-align: right;\n",
       "    }\n",
       "</style>\n",
       "<table border=\"1\" class=\"dataframe\">\n",
       "  <thead>\n",
       "    <tr style=\"text-align: right;\">\n",
       "      <th></th>\n",
       "      <th>Price</th>\n",
       "      <th>VehicleType</th>\n",
       "      <th>RegistrationYear</th>\n",
       "      <th>Gearbox</th>\n",
       "      <th>Power</th>\n",
       "      <th>Model</th>\n",
       "      <th>Mileage</th>\n",
       "      <th>RegistrationMonth</th>\n",
       "      <th>FuelType</th>\n",
       "      <th>Brand</th>\n",
       "      <th>NotRepaired</th>\n",
       "      <th>PriceGroup</th>\n",
       "    </tr>\n",
       "  </thead>\n",
       "  <tbody>\n",
       "    <tr>\n",
       "      <th>0</th>\n",
       "      <td>9800</td>\n",
       "      <td>suv</td>\n",
       "      <td>2004</td>\n",
       "      <td>auto</td>\n",
       "      <td>163</td>\n",
       "      <td>grand</td>\n",
       "      <td>125000</td>\n",
       "      <td>8</td>\n",
       "      <td>gasoline</td>\n",
       "      <td>jeep</td>\n",
       "      <td>NaN</td>\n",
       "      <td>expensive</td>\n",
       "    </tr>\n",
       "    <tr>\n",
       "      <th>1</th>\n",
       "      <td>1500</td>\n",
       "      <td>small</td>\n",
       "      <td>2001</td>\n",
       "      <td>manual</td>\n",
       "      <td>75</td>\n",
       "      <td>golf</td>\n",
       "      <td>150000</td>\n",
       "      <td>6</td>\n",
       "      <td>petrol</td>\n",
       "      <td>volkswagen</td>\n",
       "      <td>no</td>\n",
       "      <td>medium</td>\n",
       "    </tr>\n",
       "    <tr>\n",
       "      <th>2</th>\n",
       "      <td>3600</td>\n",
       "      <td>small</td>\n",
       "      <td>2008</td>\n",
       "      <td>manual</td>\n",
       "      <td>69</td>\n",
       "      <td>fabia</td>\n",
       "      <td>90000</td>\n",
       "      <td>7</td>\n",
       "      <td>gasoline</td>\n",
       "      <td>skoda</td>\n",
       "      <td>no</td>\n",
       "      <td>expensive</td>\n",
       "    </tr>\n",
       "    <tr>\n",
       "      <th>3</th>\n",
       "      <td>650</td>\n",
       "      <td>sedan</td>\n",
       "      <td>1995</td>\n",
       "      <td>manual</td>\n",
       "      <td>102</td>\n",
       "      <td>3er</td>\n",
       "      <td>150000</td>\n",
       "      <td>10</td>\n",
       "      <td>petrol</td>\n",
       "      <td>bmw</td>\n",
       "      <td>yes</td>\n",
       "      <td>medium</td>\n",
       "    </tr>\n",
       "    <tr>\n",
       "      <th>4</th>\n",
       "      <td>2200</td>\n",
       "      <td>convertible</td>\n",
       "      <td>2004</td>\n",
       "      <td>manual</td>\n",
       "      <td>109</td>\n",
       "      <td>2_reihe</td>\n",
       "      <td>150000</td>\n",
       "      <td>8</td>\n",
       "      <td>petrol</td>\n",
       "      <td>peugeot</td>\n",
       "      <td>no</td>\n",
       "      <td>expensive</td>\n",
       "    </tr>\n",
       "  </tbody>\n",
       "</table>\n",
       "</div>"
      ],
      "text/plain": [
       "   Price  VehicleType  RegistrationYear Gearbox  Power    Model  Mileage  \\\n",
       "0   9800          suv              2004    auto    163    grand   125000   \n",
       "1   1500        small              2001  manual     75     golf   150000   \n",
       "2   3600        small              2008  manual     69    fabia    90000   \n",
       "3    650        sedan              1995  manual    102      3er   150000   \n",
       "4   2200  convertible              2004  manual    109  2_reihe   150000   \n",
       "\n",
       "   RegistrationMonth  FuelType       Brand NotRepaired PriceGroup  \n",
       "0                  8  gasoline        jeep         NaN  expensive  \n",
       "1                  6    petrol  volkswagen          no     medium  \n",
       "2                  7  gasoline       skoda          no  expensive  \n",
       "3                 10    petrol         bmw         yes     medium  \n",
       "4                  8    petrol     peugeot          no  expensive  "
      ]
     },
     "execution_count": 220,
     "metadata": {},
     "output_type": "execute_result"
    }
   ],
   "source": [
    "# Verificar los resultados del dataset\n",
    "df.head()"
   ]
  },
  {
   "cell_type": "markdown",
   "metadata": {
    "lang": "en"
   },
   "source": [
    "La función funciona perfectamente; los valores de 0 han sido reemplazados con los valores de mediana apropiados."
   ]
  },
  {
   "cell_type": "markdown",
   "metadata": {
    "lang": "en"
   },
   "source": [
    "#### 2.3.5 Eliminar Duplicados"
   ]
  },
  {
   "cell_type": "markdown",
   "metadata": {
    "lang": "en"
   },
   "source": [
    "Solo hay 262 filas duplicadas, las cuales se pueden eliminar de forma segura."
   ]
  },
  {
   "cell_type": "code",
   "execution_count": 221,
   "metadata": {},
   "outputs": [
    {
     "data": {
      "text/plain": [
       "0"
      ]
     },
     "execution_count": 221,
     "metadata": {},
     "output_type": "execute_result"
    }
   ],
   "source": [
    "# Drop duplicates\n",
    "df = df.drop_duplicates().reset_index(drop=True)\n",
    "df.duplicated().sum()"
   ]
  },
  {
   "cell_type": "code",
   "execution_count": 222,
   "metadata": {},
   "outputs": [
    {
     "data": {
      "text/plain": [
       "(246644, 12)"
      ]
     },
     "execution_count": 222,
     "metadata": {},
     "output_type": "execute_result"
    }
   ],
   "source": [
    "# Revisando nuevamente los datos.\n",
    "df.shape"
   ]
  },
  {
   "cell_type": "markdown",
   "metadata": {
    "lang": "en"
   },
   "source": [
    "#### 2.3.6 Manejo de Valores Ausentes"
   ]
  },
  {
   "cell_type": "markdown",
   "metadata": {
    "lang": "en"
   },
   "source": [
    "Based on the previous checks, there are a considerable number of missing values in this dataset."
   ]
  },
  {
   "cell_type": "code",
   "execution_count": 223,
   "metadata": {
    "lang": "in",
    "scrolled": true
   },
   "outputs": [
    {
     "data": {
      "text/plain": [
       "Price                    0\n",
       "VehicleType          14722\n",
       "RegistrationYear         0\n",
       "Gearbox               3915\n",
       "Power                    0\n",
       "Model                 9048\n",
       "Mileage                  0\n",
       "RegistrationMonth        0\n",
       "FuelType             13753\n",
       "Brand                    0\n",
       "NotRepaired          33988\n",
       "PriceGroup               0\n",
       "dtype: int64"
      ]
     },
     "execution_count": 223,
     "metadata": {},
     "output_type": "execute_result"
    }
   ],
   "source": [
    "# Verificar el total de valores ausentes\n",
    "df.isna().sum()"
   ]
  },
  {
   "cell_type": "code",
   "execution_count": 224,
   "metadata": {
    "lang": "in"
   },
   "outputs": [
    {
     "data": {
      "text/html": [
       "<div>\n",
       "<style scoped>\n",
       "    .dataframe tbody tr th:only-of-type {\n",
       "        vertical-align: middle;\n",
       "    }\n",
       "\n",
       "    .dataframe tbody tr th {\n",
       "        vertical-align: top;\n",
       "    }\n",
       "\n",
       "    .dataframe thead th {\n",
       "        text-align: right;\n",
       "    }\n",
       "</style>\n",
       "<table border=\"1\" class=\"dataframe\">\n",
       "  <thead>\n",
       "    <tr style=\"text-align: right;\">\n",
       "      <th></th>\n",
       "      <th>Price</th>\n",
       "      <th>VehicleType</th>\n",
       "      <th>RegistrationYear</th>\n",
       "      <th>Gearbox</th>\n",
       "      <th>Power</th>\n",
       "      <th>Model</th>\n",
       "      <th>Mileage</th>\n",
       "      <th>RegistrationMonth</th>\n",
       "      <th>FuelType</th>\n",
       "      <th>Brand</th>\n",
       "      <th>NotRepaired</th>\n",
       "      <th>PriceGroup</th>\n",
       "    </tr>\n",
       "  </thead>\n",
       "  <tbody>\n",
       "    <tr>\n",
       "      <th>0</th>\n",
       "      <td>9800</td>\n",
       "      <td>suv</td>\n",
       "      <td>2004</td>\n",
       "      <td>auto</td>\n",
       "      <td>163</td>\n",
       "      <td>grand</td>\n",
       "      <td>125000</td>\n",
       "      <td>8</td>\n",
       "      <td>gasoline</td>\n",
       "      <td>jeep</td>\n",
       "      <td>NaN</td>\n",
       "      <td>expensive</td>\n",
       "    </tr>\n",
       "    <tr>\n",
       "      <th>1</th>\n",
       "      <td>1500</td>\n",
       "      <td>small</td>\n",
       "      <td>2001</td>\n",
       "      <td>manual</td>\n",
       "      <td>75</td>\n",
       "      <td>golf</td>\n",
       "      <td>150000</td>\n",
       "      <td>6</td>\n",
       "      <td>petrol</td>\n",
       "      <td>volkswagen</td>\n",
       "      <td>no</td>\n",
       "      <td>medium</td>\n",
       "    </tr>\n",
       "    <tr>\n",
       "      <th>2</th>\n",
       "      <td>3600</td>\n",
       "      <td>small</td>\n",
       "      <td>2008</td>\n",
       "      <td>manual</td>\n",
       "      <td>69</td>\n",
       "      <td>fabia</td>\n",
       "      <td>90000</td>\n",
       "      <td>7</td>\n",
       "      <td>gasoline</td>\n",
       "      <td>skoda</td>\n",
       "      <td>no</td>\n",
       "      <td>expensive</td>\n",
       "    </tr>\n",
       "  </tbody>\n",
       "</table>\n",
       "</div>"
      ],
      "text/plain": [
       "   Price VehicleType  RegistrationYear Gearbox  Power  Model  Mileage  \\\n",
       "0   9800         suv              2004    auto    163  grand   125000   \n",
       "1   1500       small              2001  manual     75   golf   150000   \n",
       "2   3600       small              2008  manual     69  fabia    90000   \n",
       "\n",
       "   RegistrationMonth  FuelType       Brand NotRepaired PriceGroup  \n",
       "0                  8  gasoline        jeep         NaN  expensive  \n",
       "1                  6    petrol  volkswagen          no     medium  \n",
       "2                  7  gasoline       skoda          no  expensive  "
      ]
     },
     "execution_count": 224,
     "metadata": {},
     "output_type": "execute_result"
    }
   ],
   "source": [
    "# Verificando las características de las columnas con valores faltantes\n",
    "df.head(3)"
   ]
  },
  {
   "cell_type": "code",
   "execution_count": 225,
   "metadata": {},
   "outputs": [
    {
     "data": {
      "text/plain": [
       "Price                 int64\n",
       "VehicleType          object\n",
       "RegistrationYear      int64\n",
       "Gearbox              object\n",
       "Power                 int64\n",
       "Model                object\n",
       "Mileage               int64\n",
       "RegistrationMonth     int64\n",
       "FuelType             object\n",
       "Brand                object\n",
       "NotRepaired          object\n",
       "PriceGroup           object\n",
       "dtype: object"
      ]
     },
     "execution_count": 225,
     "metadata": {},
     "output_type": "execute_result"
    }
   ],
   "source": [
    "# Verificando los tipos de datos\n",
    "df.dtypes"
   ]
  },
  {
   "cell_type": "markdown",
   "metadata": {
    "lang": "en"
   },
   "source": [
    "Se puede observar que todos los datos faltantes están en columnas no numéricas o datos categóricos. Vamos a llenar todos los valores faltantes con 'desconocido'."
   ]
  },
  {
   "cell_type": "code",
   "execution_count": 226,
   "metadata": {},
   "outputs": [
    {
     "data": {
      "text/html": [
       "<div>\n",
       "<style scoped>\n",
       "    .dataframe tbody tr th:only-of-type {\n",
       "        vertical-align: middle;\n",
       "    }\n",
       "\n",
       "    .dataframe tbody tr th {\n",
       "        vertical-align: top;\n",
       "    }\n",
       "\n",
       "    .dataframe thead th {\n",
       "        text-align: right;\n",
       "    }\n",
       "</style>\n",
       "<table border=\"1\" class=\"dataframe\">\n",
       "  <thead>\n",
       "    <tr style=\"text-align: right;\">\n",
       "      <th></th>\n",
       "      <th>Price</th>\n",
       "      <th>VehicleType</th>\n",
       "      <th>RegistrationYear</th>\n",
       "      <th>Gearbox</th>\n",
       "      <th>Power</th>\n",
       "      <th>Model</th>\n",
       "      <th>Mileage</th>\n",
       "      <th>RegistrationMonth</th>\n",
       "      <th>FuelType</th>\n",
       "      <th>Brand</th>\n",
       "      <th>NotRepaired</th>\n",
       "      <th>PriceGroup</th>\n",
       "    </tr>\n",
       "  </thead>\n",
       "  <tbody>\n",
       "    <tr>\n",
       "      <th>0</th>\n",
       "      <td>9800</td>\n",
       "      <td>suv</td>\n",
       "      <td>2004</td>\n",
       "      <td>auto</td>\n",
       "      <td>163</td>\n",
       "      <td>grand</td>\n",
       "      <td>125000</td>\n",
       "      <td>8</td>\n",
       "      <td>gasoline</td>\n",
       "      <td>jeep</td>\n",
       "      <td>unknown</td>\n",
       "      <td>expensive</td>\n",
       "    </tr>\n",
       "    <tr>\n",
       "      <th>1</th>\n",
       "      <td>1500</td>\n",
       "      <td>small</td>\n",
       "      <td>2001</td>\n",
       "      <td>manual</td>\n",
       "      <td>75</td>\n",
       "      <td>golf</td>\n",
       "      <td>150000</td>\n",
       "      <td>6</td>\n",
       "      <td>petrol</td>\n",
       "      <td>volkswagen</td>\n",
       "      <td>no</td>\n",
       "      <td>medium</td>\n",
       "    </tr>\n",
       "    <tr>\n",
       "      <th>2</th>\n",
       "      <td>3600</td>\n",
       "      <td>small</td>\n",
       "      <td>2008</td>\n",
       "      <td>manual</td>\n",
       "      <td>69</td>\n",
       "      <td>fabia</td>\n",
       "      <td>90000</td>\n",
       "      <td>7</td>\n",
       "      <td>gasoline</td>\n",
       "      <td>skoda</td>\n",
       "      <td>no</td>\n",
       "      <td>expensive</td>\n",
       "    </tr>\n",
       "  </tbody>\n",
       "</table>\n",
       "</div>"
      ],
      "text/plain": [
       "   Price VehicleType  RegistrationYear Gearbox  Power  Model  Mileage  \\\n",
       "0   9800         suv              2004    auto    163  grand   125000   \n",
       "1   1500       small              2001  manual     75   golf   150000   \n",
       "2   3600       small              2008  manual     69  fabia    90000   \n",
       "\n",
       "   RegistrationMonth  FuelType       Brand NotRepaired PriceGroup  \n",
       "0                  8  gasoline        jeep     unknown  expensive  \n",
       "1                  6    petrol  volkswagen          no     medium  \n",
       "2                  7  gasoline       skoda          no  expensive  "
      ]
     },
     "execution_count": 226,
     "metadata": {},
     "output_type": "execute_result"
    }
   ],
   "source": [
    "# Rellenar los valores ausentes\n",
    "df.fillna(value='unknown', inplace=True)\n",
    "df.head(3)"
   ]
  },
  {
   "cell_type": "code",
   "execution_count": 227,
   "metadata": {},
   "outputs": [
    {
     "data": {
      "text/plain": [
       "Price                0\n",
       "VehicleType          0\n",
       "RegistrationYear     0\n",
       "Gearbox              0\n",
       "Power                0\n",
       "Model                0\n",
       "Mileage              0\n",
       "RegistrationMonth    0\n",
       "FuelType             0\n",
       "Brand                0\n",
       "NotRepaired          0\n",
       "PriceGroup           0\n",
       "dtype: int64"
      ]
     },
     "execution_count": 227,
     "metadata": {},
     "output_type": "execute_result"
    }
   ],
   "source": [
    "# Comrpbar el resultado\n",
    "df.isna().sum()"
   ]
  },
  {
   "cell_type": "markdown",
   "metadata": {
    "lang": "en"
   },
   "source": [
    "Todos los valores ausentes han sido rellenados."
   ]
  },
  {
   "cell_type": "markdown",
   "metadata": {
    "lang": "en"
   },
   "source": [
    "#### 2.3.7 Reducir el Tamaño del Conjunto de Datos"
   ]
  },
  {
   "cell_type": "markdown",
   "metadata": {
    "lang": "en"
   },
   "source": [
    "El conjunto de datos que obtuvimos es relativamente pequeño, pero veamos si podemos reducir su tamaño cambiando los tipos de datos."
   ]
  },
  {
   "cell_type": "code",
   "execution_count": 228,
   "metadata": {
    "lang": "in"
   },
   "outputs": [],
   "source": [
    "def convert_numeric_to_smaller_type(df):\n",
    "    \"\"\"\n",
    "    Changing the numeric data type in the dataset to take a smaller data type (according to the range of values in the column).\n",
    "    :param df: the dataset to change the data type of the numeric column  \n",
    "    :return: dataset with a smaller numeric data type\n",
    "    \"\"\"\n",
    "    # Obtener una lista de columnas numéricas\n",
    "    numeric_cols = df.select_dtypes(include=np.number).columns.tolist()\n",
    "    \n",
    "    # Calcular la memoria inicial\n",
    "    start_mem = df.memory_usage().sum() / 1024**2\n",
    "    print('Memory usage of dataframe       = {:.2f} MB'.format(start_mem))\n",
    "    \n",
    "    # Cambiar el tipo de datos numérico en cada columna\n",
    "    for col in numeric_cols:\n",
    "        col_min = df[col].min()\n",
    "        col_max = df[col].max()\n",
    "        if col_min >= 0:\n",
    "            if col_max < 256:\n",
    "                df[col] = df[col].astype(np.uint8)\n",
    "            elif col_max < 65536:\n",
    "                df[col] = df[col].astype(np.uint16)\n",
    "            elif col_max < 4294967296:\n",
    "                df[col] = df[col].astype(np.uint32)\n",
    "            else:\n",
    "                df[col] = df[col].astype(np.uint64)\n",
    "        else:\n",
    "            if col_min >= np.iinfo(np.int8).min and col_max <= np.iinfo(np.int8).max:\n",
    "                df[col] = df[col].astype(np.int8)\n",
    "            elif col_min >= np.iinfo(np.int16).min and col_max <= np.iinfo(np.int16).max:\n",
    "                df[col] = df[col].astype(np.int16)\n",
    "            elif col_min >= np.iinfo(np.int32).min and col_max <= np.iinfo(np.int32).max:\n",
    "                df[col] = df[col].astype(np.int32)\n",
    "            else:\n",
    "                df[col] = df[col].astype(np.int64)\n",
    "                \n",
    "    end_mem = df.memory_usage().sum() / 1024**2\n",
    "    print('Memory usage after optimization = {:.2f} MB'.format(end_mem))\n",
    "    print('Decreased by {:.1f}%'.format(100 * (start_mem - end_mem) / start_mem))\n",
    "    \n",
    "    return df"
   ]
  },
  {
   "cell_type": "code",
   "execution_count": 229,
   "metadata": {
    "scrolled": true
   },
   "outputs": [
    {
     "name": "stdout",
     "output_type": "stream",
     "text": [
      "Memory usage of dataframe       = 22.58 MB\n",
      "Memory usage after optimization = 15.76 MB\n",
      "Decreased by 30.2%\n"
     ]
    }
   ],
   "source": [
    "# Implementar la función\n",
    "df = convert_numeric_to_smaller_type(df)"
   ]
  },
  {
   "cell_type": "code",
   "execution_count": 230,
   "metadata": {},
   "outputs": [
    {
     "data": {
      "text/plain": [
       "Price                uint16\n",
       "VehicleType          object\n",
       "RegistrationYear     uint16\n",
       "Gearbox              object\n",
       "Power                uint16\n",
       "Model                object\n",
       "Mileage              uint32\n",
       "RegistrationMonth     uint8\n",
       "FuelType             object\n",
       "Brand                object\n",
       "NotRepaired          object\n",
       "PriceGroup           object\n",
       "dtype: object"
      ]
     },
     "execution_count": 230,
     "metadata": {},
     "output_type": "execute_result"
    }
   ],
   "source": [
    "# Comprobar los resultados\n",
    "df.dtypes"
   ]
  },
  {
   "cell_type": "markdown",
   "metadata": {
    "lang": "en"
   },
   "source": [
    "Se ha completado todo el preprocesamiento de datos."
   ]
  },
  {
   "cell_type": "markdown",
   "metadata": {
    "lang": "en"
   },
   "source": [
    "### 2.4 Preparando los Datasets"
   ]
  },
  {
   "cell_type": "markdown",
   "metadata": {},
   "source": [
    "Vamos a entrenar varios modelos y comparar los resultados. Mientras que algunos modelos pueden manejar características categóricas, otros no pueden. Por lo tanto, necesitamos preparar dos conjuntos de datos separados para las necesidades de entrenamiento de estos modelos.\n",
    "\n",
    "- 'df' será el conjunto de datos principal que contiene las características categóricas sin cambios. Este conjunto de datos se utilizará para los modelos capaces de manejar características categóricas.\n",
    "- 'df_new' se utilizará para los modelos que no pueden manejar características categóricas. Por lo tanto, en este conjunto de datos convertiremos sus características categóricas en características numéricas mediante codificación."
   ]
  },
  {
   "cell_type": "markdown",
   "metadata": {
    "lang": "en"
   },
   "source": [
    "#### 2.4.1 Dataset 'df_new'"
   ]
  },
  {
   "cell_type": "markdown",
   "metadata": {
    "lang": "en"
   },
   "source": [
    "Para preparar este nuevo conjunto de datos, seguiremos varios pasos:\n",
    "\n",
    "- Eliminaremos las características 'Model' y 'Brand' ya que contienen demasiados valores únicos.\n",
    "- Eliminaremos la característica 'PriceGroup' ya que solo se usó para ayudar a completar valores faltantes.\n",
    "- Crearemos un nuevo conjunto de datos 'df_new' copiando el conjunto de datos 'df' y eliminando las características mencionadas.\n",
    "- Dado que consideramos que las características categóricas en nuestro conjunto de datos son nominales, no podemos usar OrdinalEncoder. En su lugar, utilizaremos la función 'get_dummies' de Pandas para realizar codificación one-hot (OHE)."
   ]
  },
  {
   "cell_type": "code",
   "execution_count": 231,
   "metadata": {
    "lang": "in"
   },
   "outputs": [
    {
     "data": {
      "text/html": [
       "<div>\n",
       "<style scoped>\n",
       "    .dataframe tbody tr th:only-of-type {\n",
       "        vertical-align: middle;\n",
       "    }\n",
       "\n",
       "    .dataframe tbody tr th {\n",
       "        vertical-align: top;\n",
       "    }\n",
       "\n",
       "    .dataframe thead th {\n",
       "        text-align: right;\n",
       "    }\n",
       "</style>\n",
       "<table border=\"1\" class=\"dataframe\">\n",
       "  <thead>\n",
       "    <tr style=\"text-align: right;\">\n",
       "      <th></th>\n",
       "      <th>Price</th>\n",
       "      <th>VehicleType</th>\n",
       "      <th>RegistrationYear</th>\n",
       "      <th>Gearbox</th>\n",
       "      <th>Power</th>\n",
       "      <th>Mileage</th>\n",
       "      <th>RegistrationMonth</th>\n",
       "      <th>FuelType</th>\n",
       "      <th>NotRepaired</th>\n",
       "    </tr>\n",
       "  </thead>\n",
       "  <tbody>\n",
       "    <tr>\n",
       "      <th>0</th>\n",
       "      <td>9800</td>\n",
       "      <td>suv</td>\n",
       "      <td>2004</td>\n",
       "      <td>auto</td>\n",
       "      <td>163</td>\n",
       "      <td>125000</td>\n",
       "      <td>8</td>\n",
       "      <td>gasoline</td>\n",
       "      <td>unknown</td>\n",
       "    </tr>\n",
       "    <tr>\n",
       "      <th>1</th>\n",
       "      <td>1500</td>\n",
       "      <td>small</td>\n",
       "      <td>2001</td>\n",
       "      <td>manual</td>\n",
       "      <td>75</td>\n",
       "      <td>150000</td>\n",
       "      <td>6</td>\n",
       "      <td>petrol</td>\n",
       "      <td>no</td>\n",
       "    </tr>\n",
       "    <tr>\n",
       "      <th>2</th>\n",
       "      <td>3600</td>\n",
       "      <td>small</td>\n",
       "      <td>2008</td>\n",
       "      <td>manual</td>\n",
       "      <td>69</td>\n",
       "      <td>90000</td>\n",
       "      <td>7</td>\n",
       "      <td>gasoline</td>\n",
       "      <td>no</td>\n",
       "    </tr>\n",
       "    <tr>\n",
       "      <th>3</th>\n",
       "      <td>650</td>\n",
       "      <td>sedan</td>\n",
       "      <td>1995</td>\n",
       "      <td>manual</td>\n",
       "      <td>102</td>\n",
       "      <td>150000</td>\n",
       "      <td>10</td>\n",
       "      <td>petrol</td>\n",
       "      <td>yes</td>\n",
       "    </tr>\n",
       "    <tr>\n",
       "      <th>4</th>\n",
       "      <td>2200</td>\n",
       "      <td>convertible</td>\n",
       "      <td>2004</td>\n",
       "      <td>manual</td>\n",
       "      <td>109</td>\n",
       "      <td>150000</td>\n",
       "      <td>8</td>\n",
       "      <td>petrol</td>\n",
       "      <td>no</td>\n",
       "    </tr>\n",
       "  </tbody>\n",
       "</table>\n",
       "</div>"
      ],
      "text/plain": [
       "   Price  VehicleType  RegistrationYear Gearbox  Power  Mileage  \\\n",
       "0   9800          suv              2004    auto    163   125000   \n",
       "1   1500        small              2001  manual     75   150000   \n",
       "2   3600        small              2008  manual     69    90000   \n",
       "3    650        sedan              1995  manual    102   150000   \n",
       "4   2200  convertible              2004  manual    109   150000   \n",
       "\n",
       "   RegistrationMonth  FuelType NotRepaired  \n",
       "0                  8  gasoline     unknown  \n",
       "1                  6    petrol          no  \n",
       "2                  7  gasoline          no  \n",
       "3                 10    petrol         yes  \n",
       "4                  8    petrol          no  "
      ]
     },
     "execution_count": 231,
     "metadata": {},
     "output_type": "execute_result"
    }
   ],
   "source": [
    "# Preparar los dataset alernativos\n",
    "df_new = df.copy().drop(['Model', 'Brand', 'PriceGroup'], axis=1)\n",
    "df_new.head()"
   ]
  },
  {
   "cell_type": "code",
   "execution_count": 232,
   "metadata": {
    "lang": "in"
   },
   "outputs": [],
   "source": [
    "# Realizar la codificación\n",
    "df_new = pd.get_dummies(df_new, drop_first=True)"
   ]
  },
  {
   "cell_type": "code",
   "execution_count": 233,
   "metadata": {},
   "outputs": [
    {
     "data": {
      "text/plain": [
       "(246644, 24)"
      ]
     },
     "execution_count": 233,
     "metadata": {},
     "output_type": "execute_result"
    }
   ],
   "source": [
    "# Comprobar el nuevo dataset\n",
    "df_new.shape"
   ]
  },
  {
   "cell_type": "code",
   "execution_count": 234,
   "metadata": {
    "scrolled": true
   },
   "outputs": [
    {
     "data": {
      "text/plain": [
       "Index(['Price', 'RegistrationYear', 'Power', 'Mileage', 'RegistrationMonth',\n",
       "       'VehicleType_convertible', 'VehicleType_coupe', 'VehicleType_other',\n",
       "       'VehicleType_sedan', 'VehicleType_small', 'VehicleType_suv',\n",
       "       'VehicleType_unknown', 'VehicleType_wagon', 'Gearbox_manual',\n",
       "       'Gearbox_unknown', 'FuelType_electric', 'FuelType_gasoline',\n",
       "       'FuelType_hybrid', 'FuelType_lpg', 'FuelType_other', 'FuelType_petrol',\n",
       "       'FuelType_unknown', 'NotRepaired_unknown', 'NotRepaired_yes'],\n",
       "      dtype='object')"
      ]
     },
     "execution_count": 234,
     "metadata": {},
     "output_type": "execute_result"
    }
   ],
   "source": [
    "# Verificar las columnas del nuevo dataset\n",
    "df_new.columns"
   ]
  },
  {
   "cell_type": "markdown",
   "metadata": {
    "lang": "en"
   },
   "source": [
    "#### 2.4.2 Dividir el Conjunto de Datos en Características y Objetivos "
   ]
  },
  {
   "cell_type": "code",
   "execution_count": 235,
   "metadata": {},
   "outputs": [],
   "source": [
    "# Eliminar columna PriceGroup\n",
    "df = df.drop(['PriceGroup'], axis=1)"
   ]
  },
  {
   "cell_type": "code",
   "execution_count": 236,
   "metadata": {},
   "outputs": [
    {
     "data": {
      "text/html": [
       "<div>\n",
       "<style scoped>\n",
       "    .dataframe tbody tr th:only-of-type {\n",
       "        vertical-align: middle;\n",
       "    }\n",
       "\n",
       "    .dataframe tbody tr th {\n",
       "        vertical-align: top;\n",
       "    }\n",
       "\n",
       "    .dataframe thead th {\n",
       "        text-align: right;\n",
       "    }\n",
       "</style>\n",
       "<table border=\"1\" class=\"dataframe\">\n",
       "  <thead>\n",
       "    <tr style=\"text-align: right;\">\n",
       "      <th></th>\n",
       "      <th>Price</th>\n",
       "      <th>VehicleType</th>\n",
       "      <th>RegistrationYear</th>\n",
       "      <th>Gearbox</th>\n",
       "      <th>Power</th>\n",
       "      <th>Model</th>\n",
       "      <th>Mileage</th>\n",
       "      <th>RegistrationMonth</th>\n",
       "      <th>FuelType</th>\n",
       "      <th>Brand</th>\n",
       "      <th>NotRepaired</th>\n",
       "    </tr>\n",
       "  </thead>\n",
       "  <tbody>\n",
       "    <tr>\n",
       "      <th>0</th>\n",
       "      <td>9800</td>\n",
       "      <td>suv</td>\n",
       "      <td>2004</td>\n",
       "      <td>auto</td>\n",
       "      <td>163</td>\n",
       "      <td>grand</td>\n",
       "      <td>125000</td>\n",
       "      <td>8</td>\n",
       "      <td>gasoline</td>\n",
       "      <td>jeep</td>\n",
       "      <td>unknown</td>\n",
       "    </tr>\n",
       "    <tr>\n",
       "      <th>1</th>\n",
       "      <td>1500</td>\n",
       "      <td>small</td>\n",
       "      <td>2001</td>\n",
       "      <td>manual</td>\n",
       "      <td>75</td>\n",
       "      <td>golf</td>\n",
       "      <td>150000</td>\n",
       "      <td>6</td>\n",
       "      <td>petrol</td>\n",
       "      <td>volkswagen</td>\n",
       "      <td>no</td>\n",
       "    </tr>\n",
       "    <tr>\n",
       "      <th>2</th>\n",
       "      <td>3600</td>\n",
       "      <td>small</td>\n",
       "      <td>2008</td>\n",
       "      <td>manual</td>\n",
       "      <td>69</td>\n",
       "      <td>fabia</td>\n",
       "      <td>90000</td>\n",
       "      <td>7</td>\n",
       "      <td>gasoline</td>\n",
       "      <td>skoda</td>\n",
       "      <td>no</td>\n",
       "    </tr>\n",
       "    <tr>\n",
       "      <th>3</th>\n",
       "      <td>650</td>\n",
       "      <td>sedan</td>\n",
       "      <td>1995</td>\n",
       "      <td>manual</td>\n",
       "      <td>102</td>\n",
       "      <td>3er</td>\n",
       "      <td>150000</td>\n",
       "      <td>10</td>\n",
       "      <td>petrol</td>\n",
       "      <td>bmw</td>\n",
       "      <td>yes</td>\n",
       "    </tr>\n",
       "    <tr>\n",
       "      <th>4</th>\n",
       "      <td>2200</td>\n",
       "      <td>convertible</td>\n",
       "      <td>2004</td>\n",
       "      <td>manual</td>\n",
       "      <td>109</td>\n",
       "      <td>2_reihe</td>\n",
       "      <td>150000</td>\n",
       "      <td>8</td>\n",
       "      <td>petrol</td>\n",
       "      <td>peugeot</td>\n",
       "      <td>no</td>\n",
       "    </tr>\n",
       "    <tr>\n",
       "      <th>5</th>\n",
       "      <td>2000</td>\n",
       "      <td>sedan</td>\n",
       "      <td>2004</td>\n",
       "      <td>manual</td>\n",
       "      <td>105</td>\n",
       "      <td>3_reihe</td>\n",
       "      <td>150000</td>\n",
       "      <td>12</td>\n",
       "      <td>petrol</td>\n",
       "      <td>mazda</td>\n",
       "      <td>no</td>\n",
       "    </tr>\n",
       "    <tr>\n",
       "      <th>6</th>\n",
       "      <td>2799</td>\n",
       "      <td>wagon</td>\n",
       "      <td>2005</td>\n",
       "      <td>manual</td>\n",
       "      <td>140</td>\n",
       "      <td>passat</td>\n",
       "      <td>150000</td>\n",
       "      <td>12</td>\n",
       "      <td>gasoline</td>\n",
       "      <td>volkswagen</td>\n",
       "      <td>yes</td>\n",
       "    </tr>\n",
       "    <tr>\n",
       "      <th>7</th>\n",
       "      <td>999</td>\n",
       "      <td>wagon</td>\n",
       "      <td>1995</td>\n",
       "      <td>manual</td>\n",
       "      <td>115</td>\n",
       "      <td>passat</td>\n",
       "      <td>150000</td>\n",
       "      <td>11</td>\n",
       "      <td>petrol</td>\n",
       "      <td>volkswagen</td>\n",
       "      <td>unknown</td>\n",
       "    </tr>\n",
       "    <tr>\n",
       "      <th>8</th>\n",
       "      <td>2500</td>\n",
       "      <td>wagon</td>\n",
       "      <td>2004</td>\n",
       "      <td>manual</td>\n",
       "      <td>131</td>\n",
       "      <td>passat</td>\n",
       "      <td>150000</td>\n",
       "      <td>2</td>\n",
       "      <td>unknown</td>\n",
       "      <td>volkswagen</td>\n",
       "      <td>no</td>\n",
       "    </tr>\n",
       "    <tr>\n",
       "      <th>9</th>\n",
       "      <td>1750</td>\n",
       "      <td>small</td>\n",
       "      <td>2004</td>\n",
       "      <td>auto</td>\n",
       "      <td>75</td>\n",
       "      <td>twingo</td>\n",
       "      <td>150000</td>\n",
       "      <td>2</td>\n",
       "      <td>petrol</td>\n",
       "      <td>renault</td>\n",
       "      <td>no</td>\n",
       "    </tr>\n",
       "  </tbody>\n",
       "</table>\n",
       "</div>"
      ],
      "text/plain": [
       "   Price  VehicleType  RegistrationYear Gearbox  Power    Model  Mileage  \\\n",
       "0   9800          suv              2004    auto    163    grand   125000   \n",
       "1   1500        small              2001  manual     75     golf   150000   \n",
       "2   3600        small              2008  manual     69    fabia    90000   \n",
       "3    650        sedan              1995  manual    102      3er   150000   \n",
       "4   2200  convertible              2004  manual    109  2_reihe   150000   \n",
       "5   2000        sedan              2004  manual    105  3_reihe   150000   \n",
       "6   2799        wagon              2005  manual    140   passat   150000   \n",
       "7    999        wagon              1995  manual    115   passat   150000   \n",
       "8   2500        wagon              2004  manual    131   passat   150000   \n",
       "9   1750        small              2004    auto     75   twingo   150000   \n",
       "\n",
       "   RegistrationMonth  FuelType       Brand NotRepaired  \n",
       "0                  8  gasoline        jeep     unknown  \n",
       "1                  6    petrol  volkswagen          no  \n",
       "2                  7  gasoline       skoda          no  \n",
       "3                 10    petrol         bmw         yes  \n",
       "4                  8    petrol     peugeot          no  \n",
       "5                 12    petrol       mazda          no  \n",
       "6                 12  gasoline  volkswagen         yes  \n",
       "7                 11    petrol  volkswagen     unknown  \n",
       "8                  2   unknown  volkswagen          no  \n",
       "9                  2    petrol     renault          no  "
      ]
     },
     "execution_count": 236,
     "metadata": {},
     "output_type": "execute_result"
    }
   ],
   "source": [
    "df.head(10)"
   ]
  },
  {
   "cell_type": "code",
   "execution_count": 237,
   "metadata": {
    "lang": "in"
   },
   "outputs": [],
   "source": [
    "# Dataset principal\n",
    "features = df.drop('Price', axis=1)\n",
    "target = df['Price']\n",
    "features_train, features_test, target_train, target_test = train_test_split(features, target, test_size=0.2,\n",
    "                                                                 random_state=2023)"
   ]
  },
  {
   "cell_type": "code",
   "execution_count": 238,
   "metadata": {
    "lang": "in"
   },
   "outputs": [
    {
     "name": "stdout",
     "output_type": "stream",
     "text": [
      "(197315, 10)\n",
      "(49329, 10)\n",
      "(197315,)\n",
      "(49329,)\n"
     ]
    }
   ],
   "source": [
    "# Comprobar el tamaño del dataset\n",
    "print(features_train.shape)\n",
    "print(features_test.shape)\n",
    "print(target_train.shape)\n",
    "print(target_test.shape)"
   ]
  },
  {
   "cell_type": "code",
   "execution_count": 239,
   "metadata": {
    "lang": "in"
   },
   "outputs": [],
   "source": [
    "# El conjunto de datos codificado\n",
    "features_new = df_new.drop('Price', axis=1)\n",
    "target_new = df_new['Price']\n",
    "features_train_new, features_test_new, target_train_new, target_test_new = train_test_split(features_new, target_new, test_size=0.2,\n",
    "                                                                 random_state=2023)"
   ]
  },
  {
   "cell_type": "code",
   "execution_count": 240,
   "metadata": {},
   "outputs": [
    {
     "name": "stdout",
     "output_type": "stream",
     "text": [
      "(197315, 23)\n",
      "(49329, 23)\n",
      "(197315,)\n",
      "(49329,)\n"
     ]
    }
   ],
   "source": [
    "# Comprobar el tamaño del dataset\n",
    "print(features_train_new.shape)\n",
    "print(features_test_new.shape)\n",
    "print(target_train_new.shape)\n",
    "print(target_test_new.shape)"
   ]
  },
  {
   "cell_type": "markdown",
   "metadata": {
    "lang": "en"
   },
   "source": [
    "#### 2.4.3 Escalado de Características (Scaling)"
   ]
  },
  {
   "cell_type": "markdown",
   "metadata": {
    "lang": "en"
   },
   "source": [
    "Para asegurarnos de que las características numéricas en el conjunto de datos sean tratadas de manera equitativa y no estén influenciadas por rangos variables de valores, realizaremos un escalado de características en el conjunto de datos existente. Esto ayudará a evitar que el modelo interprete características con un rango alto de valores como más importantes que otras."
   ]
  },
  {
   "cell_type": "code",
   "execution_count": 241,
   "metadata": {},
   "outputs": [
    {
     "data": {
      "text/html": [
       "<div>\n",
       "<style scoped>\n",
       "    .dataframe tbody tr th:only-of-type {\n",
       "        vertical-align: middle;\n",
       "    }\n",
       "\n",
       "    .dataframe tbody tr th {\n",
       "        vertical-align: top;\n",
       "    }\n",
       "\n",
       "    .dataframe thead th {\n",
       "        text-align: right;\n",
       "    }\n",
       "</style>\n",
       "<table border=\"1\" class=\"dataframe\">\n",
       "  <thead>\n",
       "    <tr style=\"text-align: right;\">\n",
       "      <th></th>\n",
       "      <th>VehicleType</th>\n",
       "      <th>RegistrationYear</th>\n",
       "      <th>Gearbox</th>\n",
       "      <th>Power</th>\n",
       "      <th>Model</th>\n",
       "      <th>Mileage</th>\n",
       "      <th>RegistrationMonth</th>\n",
       "      <th>FuelType</th>\n",
       "      <th>Brand</th>\n",
       "      <th>NotRepaired</th>\n",
       "    </tr>\n",
       "  </thead>\n",
       "  <tbody>\n",
       "    <tr>\n",
       "      <th>182043</th>\n",
       "      <td>sedan</td>\n",
       "      <td>-1.051633</td>\n",
       "      <td>auto</td>\n",
       "      <td>-0.024528</td>\n",
       "      <td>vectra</td>\n",
       "      <td>0.564781</td>\n",
       "      <td>1</td>\n",
       "      <td>petrol</td>\n",
       "      <td>opel</td>\n",
       "      <td>no</td>\n",
       "    </tr>\n",
       "    <tr>\n",
       "      <th>39939</th>\n",
       "      <td>small</td>\n",
       "      <td>-0.751366</td>\n",
       "      <td>manual</td>\n",
       "      <td>-0.235325</td>\n",
       "      <td>other</td>\n",
       "      <td>0.564781</td>\n",
       "      <td>10</td>\n",
       "      <td>petrol</td>\n",
       "      <td>rover</td>\n",
       "      <td>no</td>\n",
       "    </tr>\n",
       "    <tr>\n",
       "      <th>59158</th>\n",
       "      <td>wagon</td>\n",
       "      <td>0.599832</td>\n",
       "      <td>manual</td>\n",
       "      <td>0.098866</td>\n",
       "      <td>golf</td>\n",
       "      <td>-0.869059</td>\n",
       "      <td>10</td>\n",
       "      <td>gasoline</td>\n",
       "      <td>volkswagen</td>\n",
       "      <td>no</td>\n",
       "    </tr>\n",
       "    <tr>\n",
       "      <th>101925</th>\n",
       "      <td>bus</td>\n",
       "      <td>0.149432</td>\n",
       "      <td>manual</td>\n",
       "      <td>-0.173628</td>\n",
       "      <td>meriva</td>\n",
       "      <td>-0.152139</td>\n",
       "      <td>2</td>\n",
       "      <td>petrol</td>\n",
       "      <td>opel</td>\n",
       "      <td>no</td>\n",
       "    </tr>\n",
       "    <tr>\n",
       "      <th>94345</th>\n",
       "      <td>wagon</td>\n",
       "      <td>0.299565</td>\n",
       "      <td>manual</td>\n",
       "      <td>0.217118</td>\n",
       "      <td>a4</td>\n",
       "      <td>0.564781</td>\n",
       "      <td>7</td>\n",
       "      <td>gasoline</td>\n",
       "      <td>audi</td>\n",
       "      <td>no</td>\n",
       "    </tr>\n",
       "  </tbody>\n",
       "</table>\n",
       "</div>"
      ],
      "text/plain": [
       "       VehicleType  RegistrationYear Gearbox     Power   Model   Mileage  \\\n",
       "182043       sedan         -1.051633    auto -0.024528  vectra  0.564781   \n",
       "39939        small         -0.751366  manual -0.235325   other  0.564781   \n",
       "59158        wagon          0.599832  manual  0.098866    golf -0.869059   \n",
       "101925         bus          0.149432  manual -0.173628  meriva -0.152139   \n",
       "94345        wagon          0.299565  manual  0.217118      a4  0.564781   \n",
       "\n",
       "        RegistrationMonth  FuelType       Brand NotRepaired  \n",
       "182043                  1    petrol        opel          no  \n",
       "39939                  10    petrol       rover          no  \n",
       "59158                  10  gasoline  volkswagen          no  \n",
       "101925                  2    petrol        opel          no  \n",
       "94345                   7  gasoline        audi          no  "
      ]
     },
     "execution_count": 241,
     "metadata": {},
     "output_type": "execute_result"
    }
   ],
   "source": [
    "# Realizando el escalado de características\n",
    "numeric = features_train.select_dtypes(include=['uint16', 'uint32']).columns\n",
    "scaler = StandardScaler()\n",
    "features_train[numeric] = scaler.fit_transform(features_train[numeric])\n",
    "features_train.head()"
   ]
  },
  {
   "cell_type": "code",
   "execution_count": 242,
   "metadata": {},
   "outputs": [
    {
     "data": {
      "text/html": [
       "<div>\n",
       "<style scoped>\n",
       "    .dataframe tbody tr th:only-of-type {\n",
       "        vertical-align: middle;\n",
       "    }\n",
       "\n",
       "    .dataframe tbody tr th {\n",
       "        vertical-align: top;\n",
       "    }\n",
       "\n",
       "    .dataframe thead th {\n",
       "        text-align: right;\n",
       "    }\n",
       "</style>\n",
       "<table border=\"1\" class=\"dataframe\">\n",
       "  <thead>\n",
       "    <tr style=\"text-align: right;\">\n",
       "      <th></th>\n",
       "      <th>VehicleType</th>\n",
       "      <th>RegistrationYear</th>\n",
       "      <th>Gearbox</th>\n",
       "      <th>Power</th>\n",
       "      <th>Model</th>\n",
       "      <th>Mileage</th>\n",
       "      <th>RegistrationMonth</th>\n",
       "      <th>FuelType</th>\n",
       "      <th>Brand</th>\n",
       "      <th>NotRepaired</th>\n",
       "    </tr>\n",
       "  </thead>\n",
       "  <tbody>\n",
       "    <tr>\n",
       "      <th>138671</th>\n",
       "      <td>small</td>\n",
       "      <td>-0.451100</td>\n",
       "      <td>manual</td>\n",
       "      <td>-0.158204</td>\n",
       "      <td>corsa</td>\n",
       "      <td>0.564781</td>\n",
       "      <td>10</td>\n",
       "      <td>petrol</td>\n",
       "      <td>opel</td>\n",
       "      <td>no</td>\n",
       "    </tr>\n",
       "    <tr>\n",
       "      <th>38505</th>\n",
       "      <td>small</td>\n",
       "      <td>-1.051633</td>\n",
       "      <td>manual</td>\n",
       "      <td>-0.235325</td>\n",
       "      <td>golf</td>\n",
       "      <td>0.564781</td>\n",
       "      <td>3</td>\n",
       "      <td>unknown</td>\n",
       "      <td>volkswagen</td>\n",
       "      <td>unknown</td>\n",
       "    </tr>\n",
       "    <tr>\n",
       "      <th>207333</th>\n",
       "      <td>coupe</td>\n",
       "      <td>0.449699</td>\n",
       "      <td>manual</td>\n",
       "      <td>0.114290</td>\n",
       "      <td>c_klasse</td>\n",
       "      <td>0.564781</td>\n",
       "      <td>6</td>\n",
       "      <td>petrol</td>\n",
       "      <td>mercedes_benz</td>\n",
       "      <td>unknown</td>\n",
       "    </tr>\n",
       "    <tr>\n",
       "      <th>21110</th>\n",
       "      <td>sedan</td>\n",
       "      <td>-0.150834</td>\n",
       "      <td>manual</td>\n",
       "      <td>0.114290</td>\n",
       "      <td>3er</td>\n",
       "      <td>-0.152139</td>\n",
       "      <td>12</td>\n",
       "      <td>petrol</td>\n",
       "      <td>bmw</td>\n",
       "      <td>no</td>\n",
       "    </tr>\n",
       "    <tr>\n",
       "      <th>29769</th>\n",
       "      <td>bus</td>\n",
       "      <td>-0.601233</td>\n",
       "      <td>manual</td>\n",
       "      <td>-0.404991</td>\n",
       "      <td>move</td>\n",
       "      <td>0.564781</td>\n",
       "      <td>3</td>\n",
       "      <td>petrol</td>\n",
       "      <td>daihatsu</td>\n",
       "      <td>unknown</td>\n",
       "    </tr>\n",
       "  </tbody>\n",
       "</table>\n",
       "</div>"
      ],
      "text/plain": [
       "       VehicleType  RegistrationYear Gearbox     Power     Model   Mileage  \\\n",
       "138671       small         -0.451100  manual -0.158204     corsa  0.564781   \n",
       "38505        small         -1.051633  manual -0.235325      golf  0.564781   \n",
       "207333       coupe          0.449699  manual  0.114290  c_klasse  0.564781   \n",
       "21110        sedan         -0.150834  manual  0.114290       3er -0.152139   \n",
       "29769          bus         -0.601233  manual -0.404991      move  0.564781   \n",
       "\n",
       "        RegistrationMonth FuelType          Brand NotRepaired  \n",
       "138671                 10   petrol           opel          no  \n",
       "38505                   3  unknown     volkswagen     unknown  \n",
       "207333                  6   petrol  mercedes_benz     unknown  \n",
       "21110                  12   petrol            bmw          no  \n",
       "29769                   3   petrol       daihatsu     unknown  "
      ]
     },
     "execution_count": 242,
     "metadata": {},
     "output_type": "execute_result"
    }
   ],
   "source": [
    "features_test[numeric] = scaler.transform(features_test[numeric])\n",
    "features_test.head()"
   ]
  },
  {
   "cell_type": "code",
   "execution_count": 243,
   "metadata": {
    "scrolled": true
   },
   "outputs": [
    {
     "data": {
      "text/html": [
       "<div>\n",
       "<style scoped>\n",
       "    .dataframe tbody tr th:only-of-type {\n",
       "        vertical-align: middle;\n",
       "    }\n",
       "\n",
       "    .dataframe tbody tr th {\n",
       "        vertical-align: top;\n",
       "    }\n",
       "\n",
       "    .dataframe thead th {\n",
       "        text-align: right;\n",
       "    }\n",
       "</style>\n",
       "<table border=\"1\" class=\"dataframe\">\n",
       "  <thead>\n",
       "    <tr style=\"text-align: right;\">\n",
       "      <th></th>\n",
       "      <th>RegistrationYear</th>\n",
       "      <th>Power</th>\n",
       "      <th>Mileage</th>\n",
       "      <th>RegistrationMonth</th>\n",
       "      <th>VehicleType_convertible</th>\n",
       "      <th>VehicleType_coupe</th>\n",
       "      <th>VehicleType_other</th>\n",
       "      <th>VehicleType_sedan</th>\n",
       "      <th>VehicleType_small</th>\n",
       "      <th>VehicleType_suv</th>\n",
       "      <th>...</th>\n",
       "      <th>Gearbox_unknown</th>\n",
       "      <th>FuelType_electric</th>\n",
       "      <th>FuelType_gasoline</th>\n",
       "      <th>FuelType_hybrid</th>\n",
       "      <th>FuelType_lpg</th>\n",
       "      <th>FuelType_other</th>\n",
       "      <th>FuelType_petrol</th>\n",
       "      <th>FuelType_unknown</th>\n",
       "      <th>NotRepaired_unknown</th>\n",
       "      <th>NotRepaired_yes</th>\n",
       "    </tr>\n",
       "  </thead>\n",
       "  <tbody>\n",
       "    <tr>\n",
       "      <th>182043</th>\n",
       "      <td>-1.051633</td>\n",
       "      <td>-0.024528</td>\n",
       "      <td>0.564781</td>\n",
       "      <td>1</td>\n",
       "      <td>False</td>\n",
       "      <td>False</td>\n",
       "      <td>False</td>\n",
       "      <td>True</td>\n",
       "      <td>False</td>\n",
       "      <td>False</td>\n",
       "      <td>...</td>\n",
       "      <td>False</td>\n",
       "      <td>False</td>\n",
       "      <td>False</td>\n",
       "      <td>False</td>\n",
       "      <td>False</td>\n",
       "      <td>False</td>\n",
       "      <td>True</td>\n",
       "      <td>False</td>\n",
       "      <td>False</td>\n",
       "      <td>False</td>\n",
       "    </tr>\n",
       "    <tr>\n",
       "      <th>39939</th>\n",
       "      <td>-0.751366</td>\n",
       "      <td>-0.235325</td>\n",
       "      <td>0.564781</td>\n",
       "      <td>10</td>\n",
       "      <td>False</td>\n",
       "      <td>False</td>\n",
       "      <td>False</td>\n",
       "      <td>False</td>\n",
       "      <td>True</td>\n",
       "      <td>False</td>\n",
       "      <td>...</td>\n",
       "      <td>False</td>\n",
       "      <td>False</td>\n",
       "      <td>False</td>\n",
       "      <td>False</td>\n",
       "      <td>False</td>\n",
       "      <td>False</td>\n",
       "      <td>True</td>\n",
       "      <td>False</td>\n",
       "      <td>False</td>\n",
       "      <td>False</td>\n",
       "    </tr>\n",
       "    <tr>\n",
       "      <th>59158</th>\n",
       "      <td>0.599832</td>\n",
       "      <td>0.098866</td>\n",
       "      <td>-0.869059</td>\n",
       "      <td>10</td>\n",
       "      <td>False</td>\n",
       "      <td>False</td>\n",
       "      <td>False</td>\n",
       "      <td>False</td>\n",
       "      <td>False</td>\n",
       "      <td>False</td>\n",
       "      <td>...</td>\n",
       "      <td>False</td>\n",
       "      <td>False</td>\n",
       "      <td>True</td>\n",
       "      <td>False</td>\n",
       "      <td>False</td>\n",
       "      <td>False</td>\n",
       "      <td>False</td>\n",
       "      <td>False</td>\n",
       "      <td>False</td>\n",
       "      <td>False</td>\n",
       "    </tr>\n",
       "    <tr>\n",
       "      <th>101925</th>\n",
       "      <td>0.149432</td>\n",
       "      <td>-0.173628</td>\n",
       "      <td>-0.152139</td>\n",
       "      <td>2</td>\n",
       "      <td>False</td>\n",
       "      <td>False</td>\n",
       "      <td>False</td>\n",
       "      <td>False</td>\n",
       "      <td>False</td>\n",
       "      <td>False</td>\n",
       "      <td>...</td>\n",
       "      <td>False</td>\n",
       "      <td>False</td>\n",
       "      <td>False</td>\n",
       "      <td>False</td>\n",
       "      <td>False</td>\n",
       "      <td>False</td>\n",
       "      <td>True</td>\n",
       "      <td>False</td>\n",
       "      <td>False</td>\n",
       "      <td>False</td>\n",
       "    </tr>\n",
       "    <tr>\n",
       "      <th>94345</th>\n",
       "      <td>0.299565</td>\n",
       "      <td>0.217118</td>\n",
       "      <td>0.564781</td>\n",
       "      <td>7</td>\n",
       "      <td>False</td>\n",
       "      <td>False</td>\n",
       "      <td>False</td>\n",
       "      <td>False</td>\n",
       "      <td>False</td>\n",
       "      <td>False</td>\n",
       "      <td>...</td>\n",
       "      <td>False</td>\n",
       "      <td>False</td>\n",
       "      <td>True</td>\n",
       "      <td>False</td>\n",
       "      <td>False</td>\n",
       "      <td>False</td>\n",
       "      <td>False</td>\n",
       "      <td>False</td>\n",
       "      <td>False</td>\n",
       "      <td>False</td>\n",
       "    </tr>\n",
       "  </tbody>\n",
       "</table>\n",
       "<p>5 rows × 23 columns</p>\n",
       "</div>"
      ],
      "text/plain": [
       "        RegistrationYear     Power   Mileage  RegistrationMonth  \\\n",
       "182043         -1.051633 -0.024528  0.564781                  1   \n",
       "39939          -0.751366 -0.235325  0.564781                 10   \n",
       "59158           0.599832  0.098866 -0.869059                 10   \n",
       "101925          0.149432 -0.173628 -0.152139                  2   \n",
       "94345           0.299565  0.217118  0.564781                  7   \n",
       "\n",
       "        VehicleType_convertible  VehicleType_coupe  VehicleType_other  \\\n",
       "182043                    False              False              False   \n",
       "39939                     False              False              False   \n",
       "59158                     False              False              False   \n",
       "101925                    False              False              False   \n",
       "94345                     False              False              False   \n",
       "\n",
       "        VehicleType_sedan  VehicleType_small  VehicleType_suv  ...  \\\n",
       "182043               True              False            False  ...   \n",
       "39939               False               True            False  ...   \n",
       "59158               False              False            False  ...   \n",
       "101925              False              False            False  ...   \n",
       "94345               False              False            False  ...   \n",
       "\n",
       "        Gearbox_unknown  FuelType_electric  FuelType_gasoline  \\\n",
       "182043            False              False              False   \n",
       "39939             False              False              False   \n",
       "59158             False              False               True   \n",
       "101925            False              False              False   \n",
       "94345             False              False               True   \n",
       "\n",
       "        FuelType_hybrid  FuelType_lpg  FuelType_other  FuelType_petrol  \\\n",
       "182043            False         False           False             True   \n",
       "39939             False         False           False             True   \n",
       "59158             False         False           False            False   \n",
       "101925            False         False           False             True   \n",
       "94345             False         False           False            False   \n",
       "\n",
       "        FuelType_unknown  NotRepaired_unknown  NotRepaired_yes  \n",
       "182043             False                False            False  \n",
       "39939              False                False            False  \n",
       "59158              False                False            False  \n",
       "101925             False                False            False  \n",
       "94345              False                False            False  \n",
       "\n",
       "[5 rows x 23 columns]"
      ]
     },
     "execution_count": 243,
     "metadata": {},
     "output_type": "execute_result"
    }
   ],
   "source": [
    "features_train_new[numeric] = scaler.transform(features_train_new[numeric])\n",
    "features_train_new.head()"
   ]
  },
  {
   "cell_type": "code",
   "execution_count": 244,
   "metadata": {
    "scrolled": true
   },
   "outputs": [
    {
     "data": {
      "text/html": [
       "<div>\n",
       "<style scoped>\n",
       "    .dataframe tbody tr th:only-of-type {\n",
       "        vertical-align: middle;\n",
       "    }\n",
       "\n",
       "    .dataframe tbody tr th {\n",
       "        vertical-align: top;\n",
       "    }\n",
       "\n",
       "    .dataframe thead th {\n",
       "        text-align: right;\n",
       "    }\n",
       "</style>\n",
       "<table border=\"1\" class=\"dataframe\">\n",
       "  <thead>\n",
       "    <tr style=\"text-align: right;\">\n",
       "      <th></th>\n",
       "      <th>RegistrationYear</th>\n",
       "      <th>Power</th>\n",
       "      <th>Mileage</th>\n",
       "      <th>RegistrationMonth</th>\n",
       "      <th>VehicleType_convertible</th>\n",
       "      <th>VehicleType_coupe</th>\n",
       "      <th>VehicleType_other</th>\n",
       "      <th>VehicleType_sedan</th>\n",
       "      <th>VehicleType_small</th>\n",
       "      <th>VehicleType_suv</th>\n",
       "      <th>...</th>\n",
       "      <th>Gearbox_unknown</th>\n",
       "      <th>FuelType_electric</th>\n",
       "      <th>FuelType_gasoline</th>\n",
       "      <th>FuelType_hybrid</th>\n",
       "      <th>FuelType_lpg</th>\n",
       "      <th>FuelType_other</th>\n",
       "      <th>FuelType_petrol</th>\n",
       "      <th>FuelType_unknown</th>\n",
       "      <th>NotRepaired_unknown</th>\n",
       "      <th>NotRepaired_yes</th>\n",
       "    </tr>\n",
       "  </thead>\n",
       "  <tbody>\n",
       "    <tr>\n",
       "      <th>138671</th>\n",
       "      <td>-0.451100</td>\n",
       "      <td>-0.158204</td>\n",
       "      <td>0.564781</td>\n",
       "      <td>10</td>\n",
       "      <td>False</td>\n",
       "      <td>False</td>\n",
       "      <td>False</td>\n",
       "      <td>False</td>\n",
       "      <td>True</td>\n",
       "      <td>False</td>\n",
       "      <td>...</td>\n",
       "      <td>False</td>\n",
       "      <td>False</td>\n",
       "      <td>False</td>\n",
       "      <td>False</td>\n",
       "      <td>False</td>\n",
       "      <td>False</td>\n",
       "      <td>True</td>\n",
       "      <td>False</td>\n",
       "      <td>False</td>\n",
       "      <td>False</td>\n",
       "    </tr>\n",
       "    <tr>\n",
       "      <th>38505</th>\n",
       "      <td>-1.051633</td>\n",
       "      <td>-0.235325</td>\n",
       "      <td>0.564781</td>\n",
       "      <td>3</td>\n",
       "      <td>False</td>\n",
       "      <td>False</td>\n",
       "      <td>False</td>\n",
       "      <td>False</td>\n",
       "      <td>True</td>\n",
       "      <td>False</td>\n",
       "      <td>...</td>\n",
       "      <td>False</td>\n",
       "      <td>False</td>\n",
       "      <td>False</td>\n",
       "      <td>False</td>\n",
       "      <td>False</td>\n",
       "      <td>False</td>\n",
       "      <td>False</td>\n",
       "      <td>True</td>\n",
       "      <td>True</td>\n",
       "      <td>False</td>\n",
       "    </tr>\n",
       "    <tr>\n",
       "      <th>207333</th>\n",
       "      <td>0.449699</td>\n",
       "      <td>0.114290</td>\n",
       "      <td>0.564781</td>\n",
       "      <td>6</td>\n",
       "      <td>False</td>\n",
       "      <td>True</td>\n",
       "      <td>False</td>\n",
       "      <td>False</td>\n",
       "      <td>False</td>\n",
       "      <td>False</td>\n",
       "      <td>...</td>\n",
       "      <td>False</td>\n",
       "      <td>False</td>\n",
       "      <td>False</td>\n",
       "      <td>False</td>\n",
       "      <td>False</td>\n",
       "      <td>False</td>\n",
       "      <td>True</td>\n",
       "      <td>False</td>\n",
       "      <td>True</td>\n",
       "      <td>False</td>\n",
       "    </tr>\n",
       "    <tr>\n",
       "      <th>21110</th>\n",
       "      <td>-0.150834</td>\n",
       "      <td>0.114290</td>\n",
       "      <td>-0.152139</td>\n",
       "      <td>12</td>\n",
       "      <td>False</td>\n",
       "      <td>False</td>\n",
       "      <td>False</td>\n",
       "      <td>True</td>\n",
       "      <td>False</td>\n",
       "      <td>False</td>\n",
       "      <td>...</td>\n",
       "      <td>False</td>\n",
       "      <td>False</td>\n",
       "      <td>False</td>\n",
       "      <td>False</td>\n",
       "      <td>False</td>\n",
       "      <td>False</td>\n",
       "      <td>True</td>\n",
       "      <td>False</td>\n",
       "      <td>False</td>\n",
       "      <td>False</td>\n",
       "    </tr>\n",
       "    <tr>\n",
       "      <th>29769</th>\n",
       "      <td>-0.601233</td>\n",
       "      <td>-0.404991</td>\n",
       "      <td>0.564781</td>\n",
       "      <td>3</td>\n",
       "      <td>False</td>\n",
       "      <td>False</td>\n",
       "      <td>False</td>\n",
       "      <td>False</td>\n",
       "      <td>False</td>\n",
       "      <td>False</td>\n",
       "      <td>...</td>\n",
       "      <td>False</td>\n",
       "      <td>False</td>\n",
       "      <td>False</td>\n",
       "      <td>False</td>\n",
       "      <td>False</td>\n",
       "      <td>False</td>\n",
       "      <td>True</td>\n",
       "      <td>False</td>\n",
       "      <td>True</td>\n",
       "      <td>False</td>\n",
       "    </tr>\n",
       "  </tbody>\n",
       "</table>\n",
       "<p>5 rows × 23 columns</p>\n",
       "</div>"
      ],
      "text/plain": [
       "        RegistrationYear     Power   Mileage  RegistrationMonth  \\\n",
       "138671         -0.451100 -0.158204  0.564781                 10   \n",
       "38505          -1.051633 -0.235325  0.564781                  3   \n",
       "207333          0.449699  0.114290  0.564781                  6   \n",
       "21110          -0.150834  0.114290 -0.152139                 12   \n",
       "29769          -0.601233 -0.404991  0.564781                  3   \n",
       "\n",
       "        VehicleType_convertible  VehicleType_coupe  VehicleType_other  \\\n",
       "138671                    False              False              False   \n",
       "38505                     False              False              False   \n",
       "207333                    False               True              False   \n",
       "21110                     False              False              False   \n",
       "29769                     False              False              False   \n",
       "\n",
       "        VehicleType_sedan  VehicleType_small  VehicleType_suv  ...  \\\n",
       "138671              False               True            False  ...   \n",
       "38505               False               True            False  ...   \n",
       "207333              False              False            False  ...   \n",
       "21110                True              False            False  ...   \n",
       "29769               False              False            False  ...   \n",
       "\n",
       "        Gearbox_unknown  FuelType_electric  FuelType_gasoline  \\\n",
       "138671            False              False              False   \n",
       "38505             False              False              False   \n",
       "207333            False              False              False   \n",
       "21110             False              False              False   \n",
       "29769             False              False              False   \n",
       "\n",
       "        FuelType_hybrid  FuelType_lpg  FuelType_other  FuelType_petrol  \\\n",
       "138671            False         False           False             True   \n",
       "38505             False         False           False            False   \n",
       "207333            False         False           False             True   \n",
       "21110             False         False           False             True   \n",
       "29769             False         False           False             True   \n",
       "\n",
       "        FuelType_unknown  NotRepaired_unknown  NotRepaired_yes  \n",
       "138671             False                False            False  \n",
       "38505               True                 True            False  \n",
       "207333             False                 True            False  \n",
       "21110              False                False            False  \n",
       "29769              False                 True            False  \n",
       "\n",
       "[5 rows x 23 columns]"
      ]
     },
     "execution_count": 244,
     "metadata": {},
     "output_type": "execute_result"
    }
   ],
   "source": [
    "features_test_new[numeric] = scaler.transform(features_test_new[numeric])\n",
    "features_test_new.head()"
   ]
  },
  {
   "cell_type": "markdown",
   "metadata": {
    "lang": "en"
   },
   "source": [
    "## 3 Entrenamiento del Modelo"
   ]
  },
  {
   "cell_type": "markdown",
   "metadata": {
    "lang": "en"
   },
   "source": [
    "Los principales intereses de Rusty Bargain radican en la calidad de la predicción, la velocidad de predicción y el tiempo de entrenamiento del modelo. Por lo tanto, evaluaremos cuidadosamente el modelo en función de estos tres aspectos.\n",
    "\n",
    "Para evaluar el rendimiento del modelo, utilizaremos la métrica de Error Cuadrático Medio (RMSE). Por lo tanto, definiremos una función para calcular esta métrica.\n",
    "\n",
    "Como no tenemos un conjunto de datos de validación separado, utilizaremos la técnica de validación cruzada para la evaluación."
   ]
  },
  {
   "cell_type": "code",
   "execution_count": 245,
   "metadata": {
    "lang": "in"
   },
   "outputs": [],
   "source": [
    "# Función para calcular RMSE\n",
    "def rmse(y_true, y_pred):\n",
    "    \"\"\"\n",
    "    Fungsi untuk menghitung nilai Root Mean Squared Error (RMSE).\n",
    "    :param y_true: array dengan nilai sebenarnya\n",
    "    :param y_pred: array dengan nilai prediksi\n",
    "    :return: nilai RMSE\n",
    "    \"\"\"\n",
    "        \n",
    "    return np.sqrt(np.mean((y_true - y_pred) ** 2))\n",
    "\n",
    "# Haciendo de la métrica RMSE un evaluador para el modelo\n",
    "rmse_scorer = make_scorer(rmse)"
   ]
  },
  {
   "cell_type": "markdown",
   "metadata": {
    "lang": "en"
   },
   "source": [
    "Se nos ha indicado utilizar el modelo de Regresión Lineal como el modelo base. Este modelo servirá como una verificación básica para otros modelos más sofisticados. Se espera que estos modelos avanzados superen al modelo de Regresión Lineal, resultando en mejores valores de RMSE."
   ]
  },
  {
   "cell_type": "markdown",
   "metadata": {},
   "source": [
    "### 3.1 Regresión Lineal (Base Model)"
   ]
  },
  {
   "cell_type": "code",
   "execution_count": 246,
   "metadata": {
    "lang": "in"
   },
   "outputs": [
    {
     "name": "stdout",
     "output_type": "stream",
     "text": [
      "CPU times: total: 391 ms\n",
      "Wall time: 468 ms\n"
     ]
    },
    {
     "data": {
      "text/plain": [
       "2541.3952592352216"
      ]
     },
     "execution_count": 246,
     "metadata": {},
     "output_type": "execute_result"
    }
   ],
   "source": [
    "%%time\n",
    "\n",
    "# Calcular las puntuaciones para los modelos de Regresión Lineal\n",
    "LR = LinearRegression() \n",
    "LR_score = cross_val_score(LR, features_train_new, target_train_new, scoring=rmse_scorer, cv=5)\n",
    "LR_score.mean()"
   ]
  },
  {
   "cell_type": "code",
   "execution_count": 247,
   "metadata": {
    "lang": "in"
   },
   "outputs": [
    {
     "name": "stdout",
     "output_type": "stream",
     "text": [
      "CPU times: total: 109 ms\n",
      "Wall time: 108 ms\n"
     ]
    },
    {
     "data": {
      "text/plain": [
       "2530.6685642941547"
      ]
     },
     "execution_count": 247,
     "metadata": {},
     "output_type": "execute_result"
    }
   ],
   "source": [
    "%%time\n",
    "\n",
    "# Pruebas en un conjunto de datos de prueba\n",
    "LR = LinearRegression().fit(features_train_new, target_train_new)\n",
    "LR_pred = LR.predict(features_test_new)\n",
    "LR_rmse = rmse(target_test_new, LR_pred)\n",
    "LR_rmse"
   ]
  },
  {
   "cell_type": "markdown",
   "metadata": {
    "lang": "en"
   },
   "source": [
    "Obtuvimos dos valores de RMSE como puntos de referencia, a saber, 2597.5 para entrenamiento y validación, y 2622.86 para pruebas. Además, los tiempos de entrenamiento y prueba también son relativamente cortos."
   ]
  },
  {
   "cell_type": "markdown",
   "metadata": {},
   "source": [
    "### 3.2 Árbol de Decisión"
   ]
  },
  {
   "cell_type": "markdown",
   "metadata": {
    "lang": "en"
   },
   "source": [
    "Después de obtener el valor de referencia de RMSE del modelo de Regresión Lineal, ahora probaremos varios otros modelos para encontrar uno que pueda proporcionar una mejor puntuación.\n",
    "\n",
    "El primer modelo que probaremos es el Regresor de Árbol de Decisión. Estableceremos los hiperparámetros en este modelo, específicamente para la profundidad máxima del árbol ('max_depth')."
   ]
  },
  {
   "cell_type": "code",
   "execution_count": 248,
   "metadata": {
    "lang": "in"
   },
   "outputs": [
    {
     "name": "stdout",
     "output_type": "stream",
     "text": [
      "CPU times: total: 2.11 s\n",
      "Wall time: 3.04 s\n"
     ]
    },
    {
     "data": {
      "text/plain": [
       "1985.4872454438985"
      ]
     },
     "execution_count": 248,
     "metadata": {},
     "output_type": "execute_result"
    }
   ],
   "source": [
    "%%time\n",
    "\n",
    "# Entrenamiento sin ajustar los hiperparámetros\n",
    "DT = DecisionTreeRegressor(random_state=2023)\n",
    "scores = cross_val_score(DT, features_train_new, target_train_new, scoring=rmse_scorer, cv=5).mean()\n",
    "scores"
   ]
  },
  {
   "cell_type": "code",
   "execution_count": 249,
   "metadata": {
    "lang": "in"
   },
   "outputs": [
    {
     "name": "stdout",
     "output_type": "stream",
     "text": [
      "Best n_estimators: 12\n",
      "Best score: 1682.533419308326\n",
      "CPU times: total: 12.8 s\n",
      "Wall time: 17.1 s\n"
     ]
    }
   ],
   "source": [
    "%%time\n",
    "\n",
    "# Entrenamiento con ajuste de hiperparámetros\n",
    "# Crear una lista para almacenar la puntuación\n",
    "depth_scores = []\n",
    "\n",
    "# Realizar validación cruzada para cada nivel de profundidad del árbol de 1 a 15\n",
    "for depth in range(1, 16):\n",
    "    DTR = DecisionTreeRegressor(max_depth=depth, random_state=2023)\n",
    "    scores = cross_val_score(DTR, features_train_new, target_train_new, scoring=rmse_scorer, cv=5)\n",
    "    depth_scores.append(scores.mean())\n",
    "\n",
    "# Verificar la mejor profundidad con la mejor puntuación\n",
    "best_depth_score_index = np.argmin(depth_scores)\n",
    "best_depth_score = best_depth_score_index + 1\n",
    "best_score = depth_scores[best_depth_score_index]\n",
    "\n",
    "print(\"Best n_estimators:\", best_depth_score)\n",
    "print(\"Best score:\", best_score)"
   ]
  },
  {
   "cell_type": "markdown",
   "metadata": {
    "lang": "en"
   },
   "source": [
    "Obtuvimos la puntuación más baja en el nivel de profundidad del árbol 13, que es 1682.05. Este valor es mejor que el modelo base o el modelo de Regresor de Árbol de Decisión sin ajuste de hiperparámetros."
   ]
  },
  {
   "cell_type": "code",
   "execution_count": 250,
   "metadata": {
    "lang": "in"
   },
   "outputs": [
    {
     "name": "stdout",
     "output_type": "stream",
     "text": [
      "CPU times: total: 266 ms\n",
      "Wall time: 426 ms\n"
     ]
    },
    {
     "data": {
      "text/plain": [
       "1666.1285824307954"
      ]
     },
     "execution_count": 250,
     "metadata": {},
     "output_type": "execute_result"
    }
   ],
   "source": [
    "%%time\n",
    "\n",
    "# Prueba en un conjunto de datos de prueba\n",
    "DT = DecisionTreeRegressor(max_depth=13, random_state=2023).fit(features_train_new, target_train_new)\n",
    "DT_pred = DT.predict(features_test_new)\n",
    "DT_rmse = rmse(target_test_new, DT_pred)\n",
    "DT_rmse"
   ]
  },
  {
   "cell_type": "markdown",
   "metadata": {
    "lang": "en"
   },
   "source": [
    "Obtenemos una puntuación de 1663.68 con un tiempo de prueba corto."
   ]
  },
  {
   "cell_type": "markdown",
   "metadata": {},
   "source": [
    "### 3.3 Bosque Aleatorio"
   ]
  },
  {
   "cell_type": "markdown",
   "metadata": {
    "lang": "en"
   },
   "source": [
    "Ahora utilizaremos el modelo de Regresión de Bosque Aleatorio. Primero entrenaremos el modelo sin ajustar los hiperparámetros. Luego, en el siguiente entrenamiento, intentaremos ajustar el hiperparámetro para el número de árboles, manteniendo 'max_depth' configurado en la mejor opción del modelo anterior, que es 13."
   ]
  },
  {
   "cell_type": "code",
   "execution_count": 251,
   "metadata": {},
   "outputs": [
    {
     "name": "stdout",
     "output_type": "stream",
     "text": [
      "CPU times: total: 2min 37s\n",
      "Wall time: 2min 57s\n"
     ]
    },
    {
     "data": {
      "text/plain": [
       "1595.7636210002072"
      ]
     },
     "execution_count": 251,
     "metadata": {},
     "output_type": "execute_result"
    }
   ],
   "source": [
    "%%time\n",
    "\n",
    "# Entrenamiento sin ajustar los hiperparámetros\n",
    "RF = RandomForestRegressor(random_state=2023)\n",
    "RF_score = cross_val_score(RF, features_train_new, target_train_new, scoring=rmse_scorer, cv=5).mean()\n",
    "RF_score"
   ]
  },
  {
   "cell_type": "markdown",
   "metadata": {
    "lang": "en"
   },
   "source": [
    "Incluso sin ajuste de hiperparámetros, hemos obtenido una mejor puntuación que el modelo anterior. Sin embargo, el tiempo de entrenamiento es bastante largo, lo cual Rusty Bargain no apreció.\n",
    "\n",
    "Ahora procedamos con el ajuste de hiperparámetros."
   ]
  },
  {
   "cell_type": "code",
   "execution_count": 252,
   "metadata": {
    "lang": "in"
   },
   "outputs": [
    {
     "name": "stdout",
     "output_type": "stream",
     "text": [
      "n_estimators: 10 score: 1590.5162071749414\n",
      "n_estimators: 30 score: 1578.1314460151284\n",
      "n_estimators: 50 score: 1576.132461834371\n",
      "n_estimators: 70 score: 1574.7923708316291\n",
      "n_estimators: 90 score: 1574.2450457150676\n",
      "Best n_estimators: 90\n",
      "Best score: 1574.2450457150676\n",
      "CPU times: total: 3min 44s\n",
      "Wall time: 4min 28s\n"
     ]
    }
   ],
   "source": [
    "%%time\n",
    "\n",
    "# Entrenamiento con ajuste de hiperparámetros\n",
    "# Inicializar la variable para almacenar el mejor valor de RMSE\n",
    "best_rmse = np.inf\n",
    "best_n_estimators = None\n",
    "estimator_scores = []\n",
    "\n",
    "# Bucle para encontrar el mejor valor de 'n_estimators'\n",
    "for n_estimators in range(10, 101, 20):\n",
    "    # Iniciar el modelo de Bosque Aleatorio\n",
    "    RFR = RandomForestRegressor(n_estimators=n_estimators, max_depth=13, random_state=2023)\n",
    "\n",
    "    # Calcular la puntuación de validación cruzada con RMSE como métrica\n",
    "    scores = cross_val_score(RFR, features_train_new, target_train_new, scoring=rmse_scorer, cv=5)\n",
    "    estimator_scores.append(scores.mean())\n",
    "    \n",
    "    # Calcular el promedio de los mejores puntajes de RMSE y puntajes\n",
    "    avg_rmse = np.mean(scores)\n",
    "    if avg_rmse < best_rmse:\n",
    "        best_rmse = avg_rmse\n",
    "        best_n_estimators = n_estimators\n",
    "    \n",
    "    # Mostrar los resultados de puntuación para cada valor de 'n_estimators'\n",
    "    print(\"n_estimators:\", n_estimators, \"score:\", scores.mean())\n",
    "\n",
    "best_n_estimators_index = np.argmin(estimator_scores)\n",
    "best_score = estimator_scores[best_n_estimators_index]\n",
    "\n",
    "# Mostrar el valor de 'n_estimators' y la mejor puntuación obtenida\n",
    "print('Best n_estimators:', best_n_estimators)\n",
    "print(\"Best score:\", best_score)"
   ]
  },
  {
   "cell_type": "markdown",
   "metadata": {
    "lang": "en"
   },
   "source": [
    "Nuestra puntuación sigue mejorando significativamente con un número creciente de árboles o 'n_estimators'. Por lo tanto, sospechamos que la puntuación probablemente seguirá mejorando si aumentamos aún más el número de árboles. Para probar esta hipótesis, evaluaremos el rendimiento del modelo en un conjunto de datos de prueba para tres escenarios de 'n_estimators': 50, 100 y 500."
   ]
  },
  {
   "cell_type": "code",
   "execution_count": 253,
   "metadata": {
    "lang": "in"
   },
   "outputs": [
    {
     "name": "stdout",
     "output_type": "stream",
     "text": [
      "CPU times: total: 10 s\n",
      "Wall time: 14 s\n"
     ]
    },
    {
     "data": {
      "text/plain": [
       "1571.083055345509"
      ]
     },
     "execution_count": 253,
     "metadata": {},
     "output_type": "execute_result"
    }
   ],
   "source": [
    "%%time\n",
    "\n",
    "# Pruebas en el conjunto de datos de prueba\n",
    "RFR = RandomForestRegressor(n_estimators=50, max_depth=13, random_state=2023).fit(features_train_new, target_train_new)\n",
    "RFR_pred = RFR.predict(features_test_new)\n",
    "RFR_rmse = rmse(target_test_new, RFR_pred)\n",
    "RFR_rmse"
   ]
  },
  {
   "cell_type": "code",
   "execution_count": 254,
   "metadata": {},
   "outputs": [
    {
     "name": "stdout",
     "output_type": "stream",
     "text": [
      "CPU times: total: 19.2 s\n",
      "Wall time: 28 s\n"
     ]
    },
    {
     "data": {
      "text/plain": [
       "1569.0928986914312"
      ]
     },
     "execution_count": 254,
     "metadata": {},
     "output_type": "execute_result"
    }
   ],
   "source": [
    "%%time\n",
    "\n",
    "# Pruebas en el conjunto de datos de prueba\n",
    "RFR = RandomForestRegressor(n_estimators=100, max_depth=13, random_state=2023).fit(features_train_new, target_train_new)\n",
    "RFR_pred = RFR.predict(features_test_new)\n",
    "RFR_rmse = rmse(target_test_new, RFR_pred)\n",
    "RFR_rmse"
   ]
  },
  {
   "cell_type": "code",
   "execution_count": 255,
   "metadata": {},
   "outputs": [
    {
     "name": "stdout",
     "output_type": "stream",
     "text": [
      "CPU times: total: 1min 38s\n",
      "Wall time: 2min 20s\n"
     ]
    },
    {
     "data": {
      "text/plain": [
       "1566.9758423612914"
      ]
     },
     "execution_count": 255,
     "metadata": {},
     "output_type": "execute_result"
    }
   ],
   "source": [
    "%%time\n",
    "\n",
    "# Pruebas en el conjunto de datos de prueba\n",
    "RFR = RandomForestRegressor(n_estimators=500, max_depth=13, random_state=2023).fit(features_train_new, target_train_new)\n",
    "RFR_pred = RFR.predict(features_test_new)\n",
    "RFR_rmse = rmse(target_test_new, RFR_pred)\n",
    "RFR_rmse"
   ]
  },
  {
   "cell_type": "markdown",
   "metadata": {
    "lang": "en"
   },
   "source": [
    "A medida que aumenta el número de árboles, el puntaje de error disminuye, pero el tiempo de prueba también aumenta significativamente, lo cual no le agrada a Rusty Bargain.\n",
    "\n",
    "Observamos que la tasa de disminución en el puntaje de error se vuelve más modesta a medida que aumenta rápidamente el número de árboles. Considerando que el tiempo de prueba es uno de los parámetros que le preocupa a Rusty Bargain, parece que establecer el número de árboles en 50 es más ideal. Aunque tiene un puntaje de error ligeramente más alto en comparación con el modelo con 500 árboles, ya supera significativamente a los dos modelos anteriores."
   ]
  },
  {
   "cell_type": "markdown",
   "metadata": {},
   "source": [
    "### 3.4 XGBoost Regressor"
   ]
  },
  {
   "cell_type": "markdown",
   "metadata": {
    "lang": "en"
   },
   "source": [
    "Ahora es el momento de utilizar el modelo de Gradient Boosting. Antes de realizar el ajuste de hiperparámetros con técnicas de validación cruzada utilizando RandomizedSearchCV, probamos el modelo sin ningún ajuste de hiperparámetros."
   ]
  },
  {
   "cell_type": "code",
   "execution_count": 256,
   "metadata": {},
   "outputs": [
    {
     "name": "stdout",
     "output_type": "stream",
     "text": [
      "CPU times: total: 4.62 s\n",
      "Wall time: 1.77 s\n"
     ]
    },
    {
     "data": {
      "text/plain": [
       "1553.8070068359375"
      ]
     },
     "execution_count": 256,
     "metadata": {},
     "output_type": "execute_result"
    }
   ],
   "source": [
    "%%time\n",
    "\n",
    "# Entrenamiento sin ajuste de hiperparámetros\n",
    "XGB = XGBRegressor()\n",
    "XGB_scores = cross_val_score(XGB, features_train_new, target_train_new, scoring=rmse_scorer, cv=5).mean()\n",
    "XGB_scores"
   ]
  },
  {
   "cell_type": "markdown",
   "metadata": {},
   "source": [
    "Logramos una puntuación superior en comparación con el modelo de Random Forest con 500 árboles.\n",
    "\n",
    "Ahora, procedamos con el ajuste de hiperparámetros.\n",
    "\n",
    "Para asegurarnos de que estamos utilizando la función de pérdida y buscando el puntaje más bajo, necesitamos agregar el parámetro 'greater_is_better=False' a la función 'make_scorer'. De esta manera, el mejor parámetro elegido no resultará en el puntaje más alto, sino en el más bajo.\n",
    "\n",
    "Realizaremos varias variaciones de la prueba."
   ]
  },
  {
   "cell_type": "markdown",
   "metadata": {
    "lang": "en"
   },
   "source": [
    "#### 3.4.1 Utilizar Números de Parámetros Definidos"
   ]
  },
  {
   "cell_type": "code",
   "execution_count": 257,
   "metadata": {
    "lang": "in",
    "scrolled": true
   },
   "outputs": [
    {
     "name": "stdout",
     "output_type": "stream",
     "text": [
      "Best Estimator: XGBRegressor(base_score=None, booster=None, callbacks=None,\n",
      "             colsample_bylevel=None, colsample_bynode=None,\n",
      "             colsample_bytree=None, device=None, early_stopping_rounds=None,\n",
      "             enable_categorical=False, eval_metric=None, feature_types=None,\n",
      "             gamma=None, grow_policy=None, importance_type=None,\n",
      "             interaction_constraints=None, learning_rate=None, max_bin=None,\n",
      "             max_cat_threshold=None, max_cat_to_onehot=None,\n",
      "             max_delta_step=None, max_depth=10, max_leaves=None,\n",
      "             min_child_weight=None, missing=nan, monotone_constraints=None,\n",
      "             multi_strategy=None, n_estimators=50, n_jobs=None,\n",
      "             num_parallel_tree=None, random_state=None, ...)\n",
      "Best Parameters: {'subsample': 1, 'n_estimators': 50, 'max_depth': 10}\n",
      "Best RMSE: 1537.531689453125\n",
      "CPU times: total: 2.77 s\n",
      "Wall time: 11 s\n"
     ]
    }
   ],
   "source": [
    "%%time\n",
    "\n",
    "# Entrenamiento con ajuste de hiperparámetros\n",
    "# Definir un modelo de Regresor XGBoost\n",
    "xgb_model = XGBRegressor()\n",
    "\n",
    "# Definir el espacio de hiperparámetros\n",
    "param_distributions = {\n",
    "    'max_depth': [5, 10],\n",
    "    'n_estimators': [25, 50],\n",
    "    'subsample': [0.5, 1]\n",
    "}\n",
    "\n",
    "# Crear un evaluador utilizando la función de RMSE\n",
    "scorer = make_scorer(rmse, greater_is_better=False)\n",
    "\n",
    "# Definir un objeto RandomizedSearchCV\n",
    "random_search = RandomizedSearchCV(\n",
    "    xgb_model, param_distributions=param_distributions, \n",
    "    scoring=scorer, n_iter=10, cv=5, n_jobs=-1\n",
    ")\n",
    "\n",
    "# Ajustar el modelo con los datos\n",
    "random_search.fit(features_train_new, target_train_new)\n",
    "\n",
    "# Imprimir los mejores parámetros y el valor de RMSE\n",
    "print(\"Best Estimator:\", random_search.best_estimator_)\n",
    "print(\"Best Parameters:\", random_search.best_params_)\n",
    "print(\"Best RMSE:\", -1 * random_search.best_score_)"
   ]
  },
  {
   "cell_type": "markdown",
   "metadata": {
    "lang": "en"
   },
   "source": [
    "#### 3.4.2 Utilizar Números de Parámetros Aleatorios"
   ]
  },
  {
   "cell_type": "code",
   "execution_count": 258,
   "metadata": {
    "lang": "in"
   },
   "outputs": [
    {
     "name": "stdout",
     "output_type": "stream",
     "text": [
      "Best Estimator: XGBRegressor(base_score=None, booster=None, callbacks=None,\n",
      "             colsample_bylevel=None, colsample_bynode=None,\n",
      "             colsample_bytree=None, device=None, early_stopping_rounds=None,\n",
      "             enable_categorical=False, eval_metric=None, feature_types=None,\n",
      "             gamma=None, grow_policy=None, importance_type=None,\n",
      "             interaction_constraints=None, learning_rate=0.17343537366272677,\n",
      "             max_bin=None, max_cat_threshold=None, max_cat_to_onehot=None,\n",
      "             max_delta_step=None, max_depth=7, max_leaves=None,\n",
      "             min_child_weight=None, missing=nan, monotone_constraints=None,\n",
      "             multi_strategy=None, n_estimators=96, n_jobs=None,\n",
      "             num_parallel_tree=None, random_state=None, ...)\n",
      "Best Parameters: {'learning_rate': 0.17343537366272677, 'max_depth': 7, 'n_estimators': 96, 'subsample': 0.8918424703184189}\n",
      "Best RMSE: 1549.6936279296874\n",
      "CPU times: total: 3.14 s\n",
      "Wall time: 14.4 s\n"
     ]
    }
   ],
   "source": [
    "%%time\n",
    "\n",
    "# Entrenamiento con ajuste de hiperparámetros\n",
    "# Definir un modelo de Regresor XGBoost\n",
    "xgb_model = XGBRegressor()\n",
    "\n",
    "# Definir el espacio de hiperparámetros\n",
    "param_distributions = {\n",
    "    'max_depth'    : sp_randInt(5, 10),\n",
    "    'n_estimators' : sp_randInt(50, 100),\n",
    "    'learning_rate': sp_randFloat(),\n",
    "    'subsample'    : sp_randFloat()\n",
    "}\n",
    "\n",
    "# Crear un evaluador utilizando la función de RMSE\n",
    "scorer = make_scorer(rmse, greater_is_better=False)\n",
    "\n",
    "# Definir un objeto RandomizedSearchCV\n",
    "random_search = RandomizedSearchCV(\n",
    "    xgb_model, param_distributions=param_distributions, \n",
    "    scoring=scorer, n_iter=10, cv=5, n_jobs=-1\n",
    ")\n",
    "\n",
    "# Ajustar el modelo con los datos\n",
    "random_search.fit(features_train_new, target_train_new)\n",
    "\n",
    "# Imprimir los mejores parámetros y el valor de RMSE\n",
    "print(\"Best Estimator:\", random_search.best_estimator_)\n",
    "print(\"Best Parameters:\", random_search.best_params_)\n",
    "print(\"Best RMSE:\", -1 * random_search.best_score_)"
   ]
  },
  {
   "cell_type": "markdown",
   "metadata": {
    "lang": "en"
   },
   "source": [
    "**Hallazgos**\n",
    "\n",
    "- Ajustar los hiperparámetros resulta en un puntaje de error más bajo, pero aumenta significativamente el tiempo de entrenamiento del modelo.\n",
    "- El RMSE obtenido al entrenar con números de parámetros definitivos bien elegidos es mejor que con números aleatorios.\n",
    "- Por lo tanto, proporcionar hiperparámetros aleatorios para que la máquina los analice no necesariamente produce mejores resultados en comparación con hacer elecciones informadas de parámetros desde el principio. De hecho, puede aumentar significativamente el tiempo de entrenamiento del modelo."
   ]
  },
  {
   "cell_type": "markdown",
   "metadata": {
    "lang": "en"
   },
   "source": [
    "#### 3.4.3 Pruebas en el Conjunto de Datos de Prueba"
   ]
  },
  {
   "cell_type": "markdown",
   "metadata": {
    "lang": "en"
   },
   "source": [
    "Utilizaremos todos los hiperparámetros obtenidos del entrenamiento con los mejores puntajes en el modelo de Regresor XGBoost para evaluar el conjunto de datos de prueba."
   ]
  },
  {
   "cell_type": "code",
   "execution_count": 259,
   "metadata": {},
   "outputs": [
    {
     "name": "stdout",
     "output_type": "stream",
     "text": [
      "CPU times: total: 11.3 s\n",
      "Wall time: 4.37 s\n"
     ]
    },
    {
     "data": {
      "text/plain": [
       "1507.7063"
      ]
     },
     "execution_count": 259,
     "metadata": {},
     "output_type": "execute_result"
    }
   ],
   "source": [
    "%%time\n",
    "\n",
    "# Pruebas en el conjunto de datos de prueba\n",
    "XGBR = XGBRegressor(base_score=0.5, booster='gbtree', colsample_bylevel=1,\n",
    "             colsample_bynode=1, colsample_bytree=1, enable_categorical=False,\n",
    "             gamma=0, gpu_id=-1, importance_type=None,\n",
    "             interaction_constraints='', learning_rate=0.300000012,\n",
    "             max_delta_step=0, max_depth=10, min_child_weight=1, \n",
    "             monotone_constraints='()', n_estimators=50, n_jobs=4,\n",
    "             num_parallel_tree=1, predictor='auto', random_state=0, reg_alpha=0,\n",
    "             reg_lambda=1, scale_pos_weight=1, subsample=1, tree_method='exact',\n",
    "             validate_parameters=1, verbosity=None).fit(features_train_new, target_train_new)\n",
    "XGBR_pred = XGBR.predict(features_test_new)\n",
    "XGBR_rmse = rmse(target_test_new, XGBR_pred)\n",
    "XGBR_rmse"
   ]
  },
  {
   "cell_type": "markdown",
   "metadata": {
    "lang": "en"
   },
   "source": [
    "El puntaje de error que obtuvimos es cada vez más pequeño, y el tiempo de ejecución del modelo también es relativamente corto."
   ]
  },
  {
   "cell_type": "markdown",
   "metadata": {},
   "source": [
    "### 3.5 LightGBM Regressor"
   ]
  },
  {
   "cell_type": "markdown",
   "metadata": {
    "lang": "en"
   },
   "source": [
    "Vamos a repetir el mismo proceso para el Regresor LightGBM."
   ]
  },
  {
   "cell_type": "code",
   "execution_count": 260,
   "metadata": {},
   "outputs": [
    {
     "name": "stdout",
     "output_type": "stream",
     "text": [
      "[LightGBM] [Info] Auto-choosing row-wise multi-threading, the overhead of testing was 0.002852 seconds.\n",
      "You can set `force_row_wise=true` to remove the overhead.\n",
      "And if memory is not enough, you can set `force_col_wise=true`.\n",
      "[LightGBM] [Info] Total Bins 392\n",
      "[LightGBM] [Info] Number of data points in the train set: 157852, number of used features: 23\n",
      "[LightGBM] [Info] Start training from score 4168.843980\n",
      "[LightGBM] [Info] Auto-choosing row-wise multi-threading, the overhead of testing was 0.002935 seconds.\n",
      "You can set `force_row_wise=true` to remove the overhead.\n",
      "And if memory is not enough, you can set `force_col_wise=true`.\n",
      "[LightGBM] [Info] Total Bins 393\n",
      "[LightGBM] [Info] Number of data points in the train set: 157852, number of used features: 23\n",
      "[LightGBM] [Info] Start training from score 4164.557947\n",
      "[LightGBM] [Info] Auto-choosing row-wise multi-threading, the overhead of testing was 0.002610 seconds.\n",
      "You can set `force_row_wise=true` to remove the overhead.\n",
      "And if memory is not enough, you can set `force_col_wise=true`.\n",
      "[LightGBM] [Info] Total Bins 393\n",
      "[LightGBM] [Info] Number of data points in the train set: 157852, number of used features: 23\n",
      "[LightGBM] [Info] Start training from score 4167.286921\n",
      "[LightGBM] [Info] Auto-choosing row-wise multi-threading, the overhead of testing was 0.002902 seconds.\n",
      "You can set `force_row_wise=true` to remove the overhead.\n",
      "And if memory is not enough, you can set `force_col_wise=true`.\n",
      "[LightGBM] [Info] Total Bins 393\n",
      "[LightGBM] [Info] Number of data points in the train set: 157852, number of used features: 23\n",
      "[LightGBM] [Info] Start training from score 4155.445443\n",
      "[LightGBM] [Info] Auto-choosing row-wise multi-threading, the overhead of testing was 0.002807 seconds.\n",
      "You can set `force_row_wise=true` to remove the overhead.\n",
      "And if memory is not enough, you can set `force_col_wise=true`.\n",
      "[LightGBM] [Info] Total Bins 391\n",
      "[LightGBM] [Info] Number of data points in the train set: 157852, number of used features: 23\n",
      "[LightGBM] [Info] Start training from score 4161.627436\n",
      "CPU times: total: 4.12 s\n",
      "Wall time: 1.54 s\n"
     ]
    },
    {
     "data": {
      "text/plain": [
       "1578.4193937170608"
      ]
     },
     "execution_count": 260,
     "metadata": {},
     "output_type": "execute_result"
    }
   ],
   "source": [
    "%%time\n",
    "\n",
    "# Entrenamiento sin ajuste de hiperparámetros\n",
    "LGBM = LGBMRegressor()\n",
    "LGBM_scores = cross_val_score(LGBM, features_train_new, target_train_new, scoring=rmse_scorer, cv=5).mean()\n",
    "LGBM_scores"
   ]
  },
  {
   "cell_type": "markdown",
   "metadata": {
    "lang": "en"
   },
   "source": [
    "El tiempo de ejecución del modelo es mucho más rápido que el del modelo de Regresor XGBoost sin ajuste de hiperparámetros, pero el puntaje de error no es mejor. El resultado de prueba sin ajuste de hiperparámetros en el Regresor XGBoost es de 1552.72, pero el tiempo es mucho más largo.\n",
    "\n",
    "Ahora entrenaremos el modelo con ajuste de hiperparámetros."
   ]
  },
  {
   "cell_type": "markdown",
   "metadata": {
    "lang": "en"
   },
   "source": [
    "#### 3.5.1 Utilizar Números de Parámetros Definidos"
   ]
  },
  {
   "cell_type": "code",
   "execution_count": 261,
   "metadata": {
    "lang": "in"
   },
   "outputs": [
    {
     "name": "stdout",
     "output_type": "stream",
     "text": [
      "[LightGBM] [Info] Auto-choosing row-wise multi-threading, the overhead of testing was 0.003927 seconds.\n",
      "You can set `force_row_wise=true` to remove the overhead.\n",
      "And if memory is not enough, you can set `force_col_wise=true`.\n",
      "[LightGBM] [Info] Total Bins 394\n",
      "[LightGBM] [Info] Number of data points in the train set: 197315, number of used features: 23\n",
      "[LightGBM] [Info] Start training from score 4163.552345\n",
      "Best Estimator: LGBMRegressor(max_depth=10, n_estimators=50, subsample=0.5)\n",
      "Best Parameters: {'subsample': 0.5, 'n_estimators': 50, 'max_depth': 10}\n",
      "Best RMSE: 1617.4659027315606\n",
      "CPU times: total: 1.08 s\n",
      "Wall time: 7.17 s\n"
     ]
    }
   ],
   "source": [
    "%%time\n",
    "\n",
    "# Entrenamiento con ajuste de hiperparámetros\n",
    "# Definir un modelo de Regresor LightGBM\n",
    "LGBM_model = LGBMRegressor()\n",
    "\n",
    "# Definir el espacio de hiperparámetros\n",
    "param_distributions = {\n",
    "    'max_depth': [5, 10],\n",
    "    'n_estimators': [25, 50],\n",
    "    'subsample': [0.5, 1]\n",
    "}\n",
    "\n",
    "# Crear un evaluador utilizando la función de RMSE\n",
    "scorer = make_scorer(rmse, greater_is_better=False)\n",
    "\n",
    "# Definir un objeto RandomizedSearchCV\n",
    "random_search = RandomizedSearchCV(\n",
    "    LGBM_model, param_distributions=param_distributions, \n",
    "    scoring=scorer, n_iter=10, cv=5, n_jobs=-1\n",
    ")\n",
    "\n",
    "# Ajustar el modelo con los datos\n",
    "random_search.fit(features_train_new, target_train_new)\n",
    "\n",
    "# Imprimir los mejores parámetros y el valor de RMSE\n",
    "print(\"Best Estimator:\", random_search.best_estimator_)\n",
    "print(\"Best Parameters:\", random_search.best_params_)\n",
    "print(\"Best RMSE:\", -1 * random_search.best_score_)"
   ]
  },
  {
   "cell_type": "markdown",
   "metadata": {
    "lang": "en"
   },
   "source": [
    "#### 3.5.2 Utilizar Números de Parámetros Aleatorios"
   ]
  },
  {
   "cell_type": "code",
   "execution_count": 262,
   "metadata": {
    "lang": "in"
   },
   "outputs": [
    {
     "name": "stdout",
     "output_type": "stream",
     "text": [
      "[LightGBM] [Info] Auto-choosing row-wise multi-threading, the overhead of testing was 0.003659 seconds.\n",
      "You can set `force_row_wise=true` to remove the overhead.\n",
      "And if memory is not enough, you can set `force_col_wise=true`.\n",
      "[LightGBM] [Info] Total Bins 394\n",
      "[LightGBM] [Info] Number of data points in the train set: 197315, number of used features: 23\n",
      "[LightGBM] [Info] Start training from score 4163.552345\n",
      "[LightGBM] [Warning] No further splits with positive gain, best gain: -inf\n",
      "[LightGBM] [Warning] No further splits with positive gain, best gain: -inf\n",
      "[LightGBM] [Warning] No further splits with positive gain, best gain: -inf\n",
      "[LightGBM] [Warning] No further splits with positive gain, best gain: -inf\n",
      "[LightGBM] [Warning] No further splits with positive gain, best gain: -inf\n",
      "Best Estimator: LGBMRegressor(learning_rate=0.3021071912771637, max_depth=7, n_estimators=98,\n",
      "              subsample=0.9712547673100633)\n",
      "Best Parameters: {'learning_rate': 0.3021071912771637, 'max_depth': 7, 'n_estimators': 98, 'subsample': 0.9712547673100633}\n",
      "Best RMSE: 1547.990377336737\n",
      "CPU times: total: 1.48 s\n",
      "Wall time: 11.5 s\n"
     ]
    }
   ],
   "source": [
    "%%time\n",
    "\n",
    "# Entrenamiento con ajuste de hiperparámetros\n",
    "# Definir un modelo de Regresor XGBoost\n",
    "LGBM_model = LGBMRegressor()\n",
    "\n",
    "# Definir el espacio de hiperparámetros\n",
    "param_distributions = {\n",
    "    'max_depth'    : sp_randInt(5, 10),\n",
    "    'n_estimators' : sp_randInt(50, 100),\n",
    "    'learning_rate': sp_randFloat(),\n",
    "    'subsample'    : sp_randFloat()\n",
    "}\n",
    "\n",
    "# Crear un evaluador utilizando la función de RMSE\n",
    "scorer = make_scorer(rmse, greater_is_better=False)\n",
    "\n",
    "# Definir un objeto RandomizedSearchCV\n",
    "random_search = RandomizedSearchCV(\n",
    "    LGBM_model, param_distributions=param_distributions, \n",
    "    scoring=scorer, n_iter=10, cv=5, n_jobs=-1\n",
    ")\n",
    "\n",
    "# Ajustar el modelo con los datos\n",
    "random_search.fit(features_train_new, target_train_new)\n",
    "\n",
    "# Imprimir los mejores parámetros y el valor de RMSE\n",
    "print(\"Best Estimator:\", random_search.best_estimator_)\n",
    "print(\"Best Parameters:\", random_search.best_params_)\n",
    "print(\"Best RMSE:\", -1 * random_search.best_score_)"
   ]
  },
  {
   "cell_type": "markdown",
   "metadata": {
    "lang": "en"
   },
   "source": [
    "**Hallazgos**\n",
    "\n",
    "- Ambos modelos, el Regresor XGBoost y el Regresor LightGBM, fueron entrenados con el mismo tratamiento.\n",
    "- El modelo de Regresor XGBoost tiene un puntaje de error mejor en comparación con el modelo de Regresor LightGBM.\n",
    "- Sin embargo, el tiempo de entrenamiento y el proceso de selección de hiperparámetros para el modelo de Regresor XGBoost son mucho más largos que los del modelo de Regresor LightGBM.\n",
    "- Curiosamente, en el proceso de selección de hiperparámetros del Regresor LightGBM, los resultados son mejores cuando los números de parámetros se proporcionan de manera aleatoria, a diferencia del Regresor XGBoost.\n",
    "- A pesar de tener un mejor puntaje de error, el Regresor LightGBM supera al Regresor XGBoost en cuanto al tiempo de ejecución. Esto indica que podemos permitirnos probar más combinaciones de hiperparámetros en el Regresor LightGBM sin consumir tiempo excesivo. Es posible que el puntaje de error del Regresor LightGBM pueda mejorarse significativamente explorando más combinaciones de hiperparámetros."
   ]
  },
  {
   "cell_type": "markdown",
   "metadata": {
    "lang": "en"
   },
   "source": [
    "#### 3.5.3 Pruebas en el Conjunto de Datos de Prueba"
   ]
  },
  {
   "cell_type": "code",
   "execution_count": 263,
   "metadata": {},
   "outputs": [
    {
     "name": "stdout",
     "output_type": "stream",
     "text": [
      "[LightGBM] [Info] Auto-choosing row-wise multi-threading, the overhead of testing was 0.003567 seconds.\n",
      "You can set `force_row_wise=true` to remove the overhead.\n",
      "And if memory is not enough, you can set `force_col_wise=true`.\n",
      "[LightGBM] [Info] Total Bins 394\n",
      "[LightGBM] [Info] Number of data points in the train set: 197315, number of used features: 23\n",
      "[LightGBM] [Info] Start training from score 4163.552345\n",
      "[LightGBM] [Warning] No further splits with positive gain, best gain: -inf\n",
      "[LightGBM] [Warning] No further splits with positive gain, best gain: -inf\n",
      "[LightGBM] [Warning] No further splits with positive gain, best gain: -inf\n",
      "[LightGBM] [Warning] No further splits with positive gain, best gain: -inf\n",
      "CPU times: total: 484 ms\n",
      "Wall time: 307 ms\n"
     ]
    },
    {
     "data": {
      "text/plain": [
       "1554.4582873727936"
      ]
     },
     "execution_count": 263,
     "metadata": {},
     "output_type": "execute_result"
    }
   ],
   "source": [
    "%%time\n",
    "\n",
    "# Pruebas en el conjunto de datos de prueba\n",
    "LGBMR = LGBMRegressor(learning_rate=0.33082012267946914, max_depth=7, n_estimators=91,\n",
    "              subsample=0.7630499399086512).fit(features_train_new, target_train_new)\n",
    "LGBMR_pred = LGBMR.predict(features_test_new)\n",
    "LGBMR_rmse = rmse(target_test_new, LGBMR_pred)\n",
    "LGBMR_rmse"
   ]
  },
  {
   "cell_type": "markdown",
   "metadata": {
    "lang": "en"
   },
   "source": [
    "**Hallazgos**\n",
    "\n",
    "- El modelo LightGBM Regressor muestra un tiempo de ejecución excepcionalmente rápido, completándose en menos de 1 segundo.\n",
    "- El puntaje de error logrado por el LightGBM Regressor es significativamente mejor que el del modelo base (Regresión Lineal), los modelos de Árbol de Decisión y Bosque Aleatorio.\n",
    "- Sin embargo, el puntaje de error del LightGBM Regressor aún es ligeramente inferior en comparación con el modelo Regresor XGBoost, que sigue siendo el mejor modelo en esta comparación. A pesar de esto, la combinación del LightGBM Regressor de un tiempo de ejecución más rápido y un bajo puntaje de error lo convierte en un candidato prometedor para la implementación práctica, especialmente cuando las predicciones en tiempo real y la velocidad son consideraciones cruciales."
   ]
  },
  {
   "cell_type": "markdown",
   "metadata": {},
   "source": [
    "### 3.6 CatBoost Regressor"
   ]
  },
  {
   "cell_type": "markdown",
   "metadata": {},
   "source": [
    "Ahora es momento de proceder con el último modelo de aumento de gradiente, el Regresor CatBoost. A diferencia de los modelos anteriores, este puede manejar características categóricas sin necesidad de especificar explícitamente la variable 'cat_features'.\n",
    "\n",
    "Conjuntos de datos:\n",
    "- features_train\n",
    "- features_test\n",
    "- target_train\n",
    "- target_test\n",
    "\n",
    "Características categóricas:\n",
    "- VehicleType\n",
    "- Gearbox\n",
    "- Model\n",
    "- FuelType\n",
    "- Brand\n",
    "- NotRepaired\n",
    "- PriceGroup"
   ]
  },
  {
   "cell_type": "code",
   "execution_count": 264,
   "metadata": {},
   "outputs": [
    {
     "name": "stdout",
     "output_type": "stream",
     "text": [
      "Learning rate set to 0.091097\n",
      "0:\tlearn: 3339.0520396\ttotal: 81.4ms\tremaining: 1m 21s\n",
      "100:\tlearn: 1471.7817197\ttotal: 8s\tremaining: 1m 11s\n",
      "200:\tlearn: 1406.6369895\ttotal: 15.9s\tremaining: 1m 3s\n",
      "300:\tlearn: 1373.5335267\ttotal: 23.8s\tremaining: 55.2s\n",
      "400:\tlearn: 1354.1068783\ttotal: 31.7s\tremaining: 47.3s\n",
      "500:\tlearn: 1339.2872948\ttotal: 39.5s\tremaining: 39.4s\n",
      "600:\tlearn: 1327.0783763\ttotal: 47.4s\tremaining: 31.5s\n",
      "700:\tlearn: 1316.5290423\ttotal: 55.2s\tremaining: 23.6s\n",
      "800:\tlearn: 1308.1031640\ttotal: 1m 3s\tremaining: 15.7s\n",
      "900:\tlearn: 1299.3835268\ttotal: 1m 11s\tremaining: 7.9s\n",
      "999:\tlearn: 1292.2306627\ttotal: 1m 20s\tremaining: 0us\n",
      "Learning rate set to 0.091097\n",
      "0:\tlearn: 3333.0033501\ttotal: 84.5ms\tremaining: 1m 24s\n",
      "100:\tlearn: 1466.1756782\ttotal: 7.92s\tremaining: 1m 10s\n",
      "200:\tlearn: 1402.2792934\ttotal: 16.1s\tremaining: 1m 4s\n",
      "300:\tlearn: 1368.8377514\ttotal: 24.3s\tremaining: 56.3s\n",
      "400:\tlearn: 1347.0541302\ttotal: 32.4s\tremaining: 48.4s\n",
      "500:\tlearn: 1331.7747313\ttotal: 40.7s\tremaining: 40.5s\n",
      "600:\tlearn: 1319.9122531\ttotal: 49.1s\tremaining: 32.6s\n",
      "700:\tlearn: 1310.1421743\ttotal: 57.3s\tremaining: 24.5s\n",
      "800:\tlearn: 1300.7773257\ttotal: 1m 5s\tremaining: 16.3s\n",
      "900:\tlearn: 1292.8314970\ttotal: 1m 13s\tremaining: 8.11s\n",
      "999:\tlearn: 1285.7225071\ttotal: 1m 21s\tremaining: 0us\n",
      "Learning rate set to 0.091097\n",
      "0:\tlearn: 3333.5980102\ttotal: 81.4ms\tremaining: 1m 21s\n",
      "100:\tlearn: 1465.9502121\ttotal: 7.96s\tremaining: 1m 10s\n",
      "200:\tlearn: 1399.5727344\ttotal: 15.8s\tremaining: 1m 2s\n",
      "300:\tlearn: 1370.4140344\ttotal: 23.5s\tremaining: 54.5s\n",
      "400:\tlearn: 1350.8690395\ttotal: 31.9s\tremaining: 47.6s\n",
      "500:\tlearn: 1334.9215002\ttotal: 39.7s\tremaining: 39.6s\n",
      "600:\tlearn: 1323.6371636\ttotal: 47.6s\tremaining: 31.6s\n",
      "700:\tlearn: 1313.1822573\ttotal: 55.7s\tremaining: 23.8s\n",
      "800:\tlearn: 1305.2843275\ttotal: 1m 4s\tremaining: 15.9s\n",
      "900:\tlearn: 1297.7798029\ttotal: 1m 12s\tremaining: 7.95s\n",
      "999:\tlearn: 1291.4733135\ttotal: 1m 20s\tremaining: 0us\n",
      "Learning rate set to 0.091097\n",
      "0:\tlearn: 3329.7928999\ttotal: 76.8ms\tremaining: 1m 16s\n",
      "100:\tlearn: 1464.3469400\ttotal: 7.99s\tremaining: 1m 11s\n",
      "200:\tlearn: 1402.5115173\ttotal: 16s\tremaining: 1m 3s\n",
      "300:\tlearn: 1370.9571329\ttotal: 23.9s\tremaining: 55.6s\n",
      "400:\tlearn: 1353.4318090\ttotal: 31.8s\tremaining: 47.6s\n",
      "500:\tlearn: 1339.9568095\ttotal: 40s\tremaining: 39.9s\n",
      "600:\tlearn: 1327.5808582\ttotal: 48.1s\tremaining: 31.9s\n",
      "700:\tlearn: 1317.6561377\ttotal: 57.1s\tremaining: 24.3s\n",
      "800:\tlearn: 1308.3944223\ttotal: 1m 5s\tremaining: 16.2s\n",
      "900:\tlearn: 1299.9536971\ttotal: 1m 13s\tremaining: 8.04s\n",
      "999:\tlearn: 1292.5730234\ttotal: 1m 21s\tremaining: 0us\n",
      "Learning rate set to 0.091097\n",
      "0:\tlearn: 3331.3284797\ttotal: 78.8ms\tremaining: 1m 18s\n",
      "100:\tlearn: 1467.4418622\ttotal: 7.82s\tremaining: 1m 9s\n",
      "200:\tlearn: 1403.1976169\ttotal: 15.9s\tremaining: 1m 3s\n",
      "300:\tlearn: 1375.8653382\ttotal: 23.8s\tremaining: 55.4s\n",
      "400:\tlearn: 1354.6020636\ttotal: 32.1s\tremaining: 47.9s\n",
      "500:\tlearn: 1338.2449859\ttotal: 40.1s\tremaining: 40s\n",
      "600:\tlearn: 1326.3337667\ttotal: 48.2s\tremaining: 32s\n",
      "700:\tlearn: 1315.3125501\ttotal: 56.5s\tremaining: 24.1s\n",
      "800:\tlearn: 1306.5634452\ttotal: 1m 4s\tremaining: 16.1s\n",
      "900:\tlearn: 1297.4970750\ttotal: 1m 12s\tremaining: 8s\n",
      "999:\tlearn: 1291.0000788\ttotal: 1m 21s\tremaining: 0us\n",
      "CPU times: total: 3min 13s\n",
      "Wall time: 6min 51s\n"
     ]
    },
    {
     "data": {
      "text/plain": [
       "1342.4901809738874"
      ]
     },
     "execution_count": 264,
     "metadata": {},
     "output_type": "execute_result"
    }
   ],
   "source": [
    "%%time\n",
    "\n",
    "# Entrenamiento sin ajuste de hiperparámetros\n",
    "cat_features = ['VehicleType', 'Gearbox', 'Model', 'FuelType', 'Brand', 'NotRepaired']\n",
    "cat_model = CatBoostRegressor(cat_features=cat_features, verbose=100)\n",
    "cat_scores = cross_val_score(cat_model, features_train, target_train, scoring=rmse_scorer, cv=5).mean()\n",
    "cat_scores"
   ]
  },
  {
   "cell_type": "markdown",
   "metadata": {
    "lang": "en"
   },
   "source": [
    "**Hallazgos**\n",
    "\n",
    "- El modelo Regresor CatBoost muestra puntajes significativamente mejorados, incluso sin ajuste de hiperparámetros, superando a los modelos anteriores.\n",
    "- Sin embargo, el tiempo de entrenamiento del modelo CatBoost es considerablemente más largo que el de otros modelos sin ajuste de hiperparámetros.\n",
    "- A pesar del tiempo de entrenamiento más largo, el modelo CatBoost demuestra un rendimiento excepcional en términos de puntaje de error, lo que lo convierte en una opción convincente cuando la precisión de la predicción es de suma importancia y se puede tolerar un tiempo de entrenamiento más prolongado."
   ]
  },
  {
   "cell_type": "markdown",
   "metadata": {
    "lang": "en"
   },
   "source": [
    "Ahora entrenaremos el modelo con ajuste de hiperparámetros."
   ]
  },
  {
   "cell_type": "markdown",
   "metadata": {
    "lang": "en"
   },
   "source": [
    "#### 3.6.1 Utilizar Números de Parámetros Definitivos"
   ]
  },
  {
   "cell_type": "code",
   "execution_count": 265,
   "metadata": {
    "lang": "in"
   },
   "outputs": [
    {
     "name": "stdout",
     "output_type": "stream",
     "text": [
      "Learning rate set to 0.5\n",
      "0:\tlearn: 2456.5569595\ttotal: 126ms\tremaining: 6.17s\n",
      "49:\tlearn: 1286.2158303\ttotal: 6.13s\tremaining: 0us\n",
      "Best Estimator: <catboost.core.CatBoostRegressor object at 0x000001E8721C1430>\n",
      "Best Parameters: {'subsample': 1, 'n_estimators': 50, 'max_depth': 10}\n",
      "Best RMSE: 1365.1350349278357\n",
      "CPU times: total: 6.03 s\n",
      "Wall time: 46.9 s\n"
     ]
    }
   ],
   "source": [
    "%%time\n",
    "\n",
    "# Entrenamiento con ajuste de hiperparámetros\n",
    "# Definir un modelo de Regresor CatBoost\n",
    "CBR_model = CatBoostRegressor(verbose=500)\n",
    "\n",
    "# Definir espacio de hiperparámetros\n",
    "param_distributions = {\n",
    "    'max_depth': [5, 10],\n",
    "    'n_estimators': [25, 50],\n",
    "    'subsample': [0.5, 1]\n",
    "}\n",
    "\n",
    "# Lista de características categóricas\n",
    "cat_feat = ['VehicleType', 'Gearbox', 'Model', 'FuelType', 'Brand', 'NotRepaired']\n",
    "\n",
    "# Crear un evaluador usando la función de RMSE\n",
    "scorer = make_scorer(rmse, greater_is_better=False)\n",
    "\n",
    "# Definir un objeto RandomizedSearchCV\n",
    "random_search = RandomizedSearchCV(\n",
    "    CBR_model, param_distributions=param_distributions, \n",
    "    scoring=scorer, n_iter=10, cv=5, n_jobs=-1\n",
    ")\n",
    "\n",
    "# Ajustar el modelo con los datos\n",
    "random_search.fit(features_train, target_train, cat_features=cat_feat)\n",
    "\n",
    "# Imprimir los mejores parámetros y el RMSE\n",
    "print(\"Best Estimator:\", random_search.best_estimator_)\n",
    "print(\"Best Parameters:\", random_search.best_params_)\n",
    "print(\"Best RMSE:\", -1 * random_search.best_score_)"
   ]
  },
  {
   "cell_type": "markdown",
   "metadata": {
    "lang": "en"
   },
   "source": [
    "#### 3.6.2 Usar Números de Parámetros Aleatorios"
   ]
  },
  {
   "cell_type": "code",
   "execution_count": 266,
   "metadata": {
    "lang": "in"
   },
   "outputs": [
    {
     "name": "stdout",
     "output_type": "stream",
     "text": [
      "0:\tlearn: 2836.3990565\ttotal: 75.2ms\tremaining: 7.22s\n",
      "96:\tlearn: 1322.2605386\ttotal: 7.36s\tremaining: 0us\n",
      "Best Estimator: <catboost.core.CatBoostRegressor object at 0x000001E8721B3B30>\n",
      "Best Parameters: {'learning_rate': 0.31824025633369035, 'max_depth': 8, 'n_estimators': 97, 'subsample': 0.7382257588284145}\n",
      "Best RMSE: 1367.0866398320463\n",
      "CPU times: total: 7.97 s\n",
      "Wall time: 1min 15s\n"
     ]
    }
   ],
   "source": [
    "%%time\n",
    "\n",
    "# Entrenamiento con ajuste de hiperparámetros\n",
    "# Definir un modelo de Regresor CatBoost\n",
    "CBR_model = CatBoostRegressor(verbose=500)\n",
    "\n",
    "# Definir espacio de hiperparámetros\n",
    "param_distributions = {\n",
    "    'max_depth'    : sp_randInt(5, 10),\n",
    "    'n_estimators' : sp_randInt(50, 100),\n",
    "    'learning_rate': sp_randFloat(),\n",
    "    'subsample'    : sp_randFloat()\n",
    "}\n",
    "\n",
    "# Lista de características categóricas\n",
    "cat_feat = ['VehicleType', 'Gearbox', 'Model', 'FuelType', 'Brand', 'NotRepaired']\n",
    "\n",
    "# Crear un evaluador usando la función de RMSE\n",
    "scorer = make_scorer(rmse, greater_is_better=False)\n",
    "\n",
    "# Definir un objeto RandomizedSearchCV\n",
    "random_search = RandomizedSearchCV(\n",
    "    CBR_model, param_distributions=param_distributions, \n",
    "    scoring=scorer, n_iter=10, cv=5, n_jobs=-1\n",
    ")\n",
    "\n",
    "# Ajustar el modelo con los datos\n",
    "random_search.fit(features_train, target_train, cat_features=cat_feat)\n",
    "\n",
    "# Imprimir los mejores parámetros y el RMSE\n",
    "print(\"Best Estimator:\", random_search.best_estimator_)\n",
    "print(\"Best Parameters:\", random_search.best_params_)\n",
    "print(\"Best RMSE:\", -1 * random_search.best_score_)"
   ]
  },
  {
   "cell_type": "markdown",
   "metadata": {
    "lang": "en"
   },
   "source": [
    "**Hallazgos**\n",
    "\n",
    "- El tiempo de entrenamiento del modelo se reduce significativamente después del ajuste de hiperparámetros, lo que lo hace más eficiente.\n",
    "- Sin embargo, el puntaje de error del modelo ajustado es más alto que el del modelo sin ajuste de hiperparámetros, lo que indica que algunas combinaciones de hiperparámetros podrían no ser óptimas para este conjunto de datos.\n",
    "- Los resultados muestran que establecer los valores de hiperparámetros de antemano y ajustarlos sistemáticamente produce resultados mejores y más rápidos que probar valores de hiperparámetros al azar.\n",
    "- Considerando las prioridades de Rusty Bargain para obtener buenos puntajes y tiempos de entrenamiento cortos, el modelo con ajuste de hiperparámetros usando números definitivos es la mejor opción. Logra un buen equilibrio entre precisión y eficiencia, cumpliendo con los requisitos de la empresa."
   ]
  },
  {
   "cell_type": "markdown",
   "metadata": {
    "lang": "en"
   },
   "source": [
    "#### 3.6.3 Prueba en el Conjunto de Datos de Prueba"
   ]
  },
  {
   "cell_type": "code",
   "execution_count": 267,
   "metadata": {},
   "outputs": [
    {
     "name": "stdout",
     "output_type": "stream",
     "text": [
      "Learning rate set to 0.5\n",
      "0:\tlearn: 2456.5569595\ttotal: 121ms\tremaining: 5.95s\n",
      "10:\tlearn: 1447.4276827\ttotal: 1.35s\tremaining: 4.78s\n",
      "20:\tlearn: 1374.4051931\ttotal: 2.52s\tremaining: 3.49s\n",
      "30:\tlearn: 1333.4396552\ttotal: 3.7s\tremaining: 2.27s\n",
      "40:\tlearn: 1303.5525805\ttotal: 4.91s\tremaining: 1.08s\n",
      "49:\tlearn: 1286.2158303\ttotal: 5.99s\tremaining: 0us\n",
      "CPU times: total: 3.61 s\n",
      "Wall time: 6.65 s\n"
     ]
    },
    {
     "data": {
      "text/plain": [
       "1363.4681558897246"
      ]
     },
     "execution_count": 267,
     "metadata": {},
     "output_type": "execute_result"
    }
   ],
   "source": [
    "%%time\n",
    "\n",
    "# Probando en el conjunto de datos de prueba con ajuste de hiperparámetros\n",
    "cat_features = ['VehicleType', 'Gearbox', 'Model', 'FuelType', 'Brand', 'NotRepaired']\n",
    "CBR = CatBoostRegressor(subsample=1, n_estimators=50, \n",
    "                        max_depth=10).fit(features_train, target_train, cat_features=cat_features, verbose=10)\n",
    "\n",
    "CBR_pred = CBR.predict(features_test)\n",
    "CBR_rmse = rmse(target_test, CBR_pred)\n",
    "CBR_rmse"
   ]
  },
  {
   "cell_type": "markdown",
   "metadata": {
    "lang": "en"
   },
   "source": [
    "Vamos a probar el modelo sin ajuste de hiperparámetros y ver el resultado."
   ]
  },
  {
   "cell_type": "code",
   "execution_count": 268,
   "metadata": {},
   "outputs": [
    {
     "name": "stdout",
     "output_type": "stream",
     "text": [
      "Learning rate set to 0.094366\n",
      "0:\tlearn: 3326.6421952\ttotal: 104ms\tremaining: 1m 44s\n",
      "999:\tlearn: 1289.6252080\ttotal: 1m 34s\tremaining: 0us\n",
      "CPU times: total: 47.4 s\n",
      "Wall time: 1min 35s\n"
     ]
    },
    {
     "data": {
      "text/plain": [
       "1342.6181950968942"
      ]
     },
     "execution_count": 268,
     "metadata": {},
     "output_type": "execute_result"
    }
   ],
   "source": [
    "%%time\n",
    "\n",
    "# Probando en el conjunto de datos de prueba sin ajuste de hiperparámetros\n",
    "cat_features = ['VehicleType', 'Gearbox', 'Model', 'FuelType', 'Brand', 'NotRepaired']\n",
    "CBR_test = CatBoostRegressor().fit(features_train, target_train, cat_features=cat_features, verbose=5000)\n",
    "\n",
    "CBR_pred = CBR_test.predict(features_test)\n",
    "CBR_rmse = rmse(target_test, CBR_pred)\n",
    "CBR_rmse"
   ]
  },
  {
   "cell_type": "markdown",
   "metadata": {
    "lang": "en"
   },
   "source": [
    "El modelo sin ajuste de hiperparámetros dio como resultado una puntuación ligeramente mejor, pero el tiempo de prueba fue significativamente más largo."
   ]
  },
  {
   "cell_type": "markdown",
   "metadata": {
    "lang": "en"
   },
   "source": [
    "CatBoost no es tan rápido como LightGBM, que puede generar resultados en menos de 5 segundos. Sin embargo, CatBoost logra el puntaje de error más bajo entre todos los modelos probados. El proceso de entrenamiento también es más rápido que XGBoost, lo que lo convierte en una opción favorable considerando el equilibrio entre velocidad y precisión."
   ]
  },
  {
   "cell_type": "markdown",
   "metadata": {
    "lang": "en"
   },
   "source": [
    "## 4 Análisis de Modelos"
   ]
  },
  {
   "cell_type": "markdown",
   "metadata": {},
   "source": [
    "Hemos realizado modelado con varios tipos de algoritmos de aprendizaje automático. Con base en estos resultados, CatBoost Regressor con ajuste de hiperparámetros logró el puntaje RMSE más bajo y aún mantuvo un tiempo de entrenamiento razonable, convirtiéndolo en la mejor opción para las necesidades de Rusty Bargain. A continuación se muestra un resumen de los resultados, incluido el tiempo de entrenamiento para modelos sin ajuste de hiperparámetros utilizando el tiempo\n"
   ]
  },
  {
   "cell_type": "code",
   "execution_count": 269,
   "metadata": {},
   "outputs": [
    {
     "data": {
      "text/html": [
       "<div>\n",
       "<style scoped>\n",
       "    .dataframe tbody tr th:only-of-type {\n",
       "        vertical-align: middle;\n",
       "    }\n",
       "\n",
       "    .dataframe tbody tr th {\n",
       "        vertical-align: top;\n",
       "    }\n",
       "\n",
       "    .dataframe thead th {\n",
       "        text-align: right;\n",
       "    }\n",
       "</style>\n",
       "<table border=\"1\" class=\"dataframe\">\n",
       "  <thead>\n",
       "    <tr style=\"text-align: right;\">\n",
       "      <th></th>\n",
       "      <th>Waktu_Pelatihan</th>\n",
       "      <th>Waktu_Pengujian</th>\n",
       "      <th>RMSE</th>\n",
       "    </tr>\n",
       "  </thead>\n",
       "  <tbody>\n",
       "    <tr>\n",
       "      <th>Linear Regression</th>\n",
       "      <td>1.15 s</td>\n",
       "      <td>209 ms</td>\n",
       "      <td>2622.86</td>\n",
       "    </tr>\n",
       "    <tr>\n",
       "      <th>Decision Tree Regressor</th>\n",
       "      <td>4.32 s</td>\n",
       "      <td>854 ms</td>\n",
       "      <td>1663.68</td>\n",
       "    </tr>\n",
       "    <tr>\n",
       "      <th>Random Forest Regressor</th>\n",
       "      <td>5 min 11 s</td>\n",
       "      <td>24.5 s</td>\n",
       "      <td>1575.53</td>\n",
       "    </tr>\n",
       "    <tr>\n",
       "      <th>XGBoost Regressor</th>\n",
       "      <td>23.9 s</td>\n",
       "      <td>9.39 s</td>\n",
       "      <td>1518.81</td>\n",
       "    </tr>\n",
       "    <tr>\n",
       "      <th>LightGBM Regressor</th>\n",
       "      <td>2.48 s</td>\n",
       "      <td>455 ms</td>\n",
       "      <td>1562.26</td>\n",
       "    </tr>\n",
       "    <tr>\n",
       "      <th>CatBoost Regressor</th>\n",
       "      <td>18 min 13 s</td>\n",
       "      <td>12.4 s</td>\n",
       "      <td>984.33</td>\n",
       "    </tr>\n",
       "  </tbody>\n",
       "</table>\n",
       "</div>"
      ],
      "text/plain": [
       "                        Waktu_Pelatihan Waktu_Pengujian     RMSE\n",
       "Linear Regression                1.15 s          209 ms  2622.86\n",
       "Decision Tree Regressor          4.32 s          854 ms  1663.68\n",
       "Random Forest Regressor      5 min 11 s          24.5 s  1575.53\n",
       "XGBoost Regressor                23.9 s          9.39 s  1518.81\n",
       "LightGBM Regressor               2.48 s          455 ms  1562.26\n",
       "CatBoost Regressor          18 min 13 s          12.4 s   984.33"
      ]
     },
     "execution_count": 269,
     "metadata": {},
     "output_type": "execute_result"
    }
   ],
   "source": [
    "index = ['Linear Regression', 'Decision Tree Regressor', 'Random Forest Regressor', \n",
    "       'XGBoost Regressor', 'LightGBM Regressor', 'CatBoost Regressor']\n",
    "Rangkuman = pd.DataFrame(data={'Waktu_Pelatihan': ['1.15 s', '4.32 s', '5 min 11 s', '23.9 s', '2.48 s', '18 min 13 s'],\n",
    "                             'Waktu_Pengujian': ['209 ms', '854 ms', '24.5 s', '9.39 s', '455 ms', '12.4 s'],\n",
    "                             'RMSE': [2622.86, 1663.68, 1575.53, 1518.81, 1562.26, 984.33]},\n",
    "                    index=index)\n",
    "Rangkuman"
   ]
  },
  {
   "cell_type": "markdown",
   "metadata": {},
   "source": [
    "**Conclusión**\n",
    "\n",
    "En resumen, el análisis de varios modelos de aprendizaje automático para predecir los precios de autos usados reveló las siguientes conclusiones:\n",
    "\n",
    "- Los modelos simples como la Regresión Lineal y el Árbol de Decisión tienen tiempos de entrenamiento y prueba rápidos, pero obtienen puntajes de error altos.\n",
    "- Modelos más complejos, como el Random Forest Regressor, proporcionan puntajes de error más bajos pero requieren tiempos de entrenamiento considerablemente más largos.\n",
    "- Los modelos de aumento de gradiente generalmente superan a los modelos regulares en términos de precisión de predicción.\n",
    "- Entre los modelos de aumento de gradiente, el LightGBM Regressor destaca por sus tiempos rápidos de entrenamiento y prueba. Sin embargo, produce un puntaje de error ligeramente mayor en comparación con otros modelos.\n",
    "- El modelo CatBoost Regressor muestra el mejor rendimiento general con el puntaje de error más bajo. Aunque tiene un tiempo de entrenamiento más largo, su precisión predictiva excepcional lo convierte en la elección ideal para las necesidades de Rusty Bargain.\n",
    "\n",
    "Considerando las prioridades de Rusty Bargain en cuanto a calidad de predicción, velocidad de predicción y tiempo de entrenamiento del modelo, el modelo de aprendizaje automático CatBoost Regressor es la opción más adecuada para determinar con precisión el valor de mercado de los autos usados y atraer nuevos compradores a su plataforma."
   ]
  }
 ],
 "metadata": {
  "kernelspec": {
   "display_name": "Python 3 (ipykernel)",
   "language": "python",
   "name": "python3"
  },
  "language_info": {
   "codemirror_mode": {
    "name": "ipython",
    "version": 3
   },
   "file_extension": ".py",
   "mimetype": "text/x-python",
   "name": "python",
   "nbconvert_exporter": "python",
   "pygments_lexer": "ipython3",
   "version": "3.12.2"
  },
  "nbTranslate": {
   "displayLangs": [
    "en",
    "in"
   ],
   "hotkey": "alt-t",
   "langInMainMenu": true,
   "sourceLang": "in",
   "targetLang": "en",
   "useGoogleTranslate": true
  },
  "toc": {
   "base_numbering": 1,
   "nav_menu": {},
   "number_sections": false,
   "sideBar": true,
   "skip_h1_title": true,
   "title_cell": "Table of Contents",
   "title_sidebar": "Contents",
   "toc_cell": true,
   "toc_position": {
    "height": "calc(100% - 180px)",
    "left": "10px",
    "top": "150px",
    "width": "434.225px"
   },
   "toc_section_display": true,
   "toc_window_display": true
  }
 },
 "nbformat": 4,
 "nbformat_minor": 2
}
