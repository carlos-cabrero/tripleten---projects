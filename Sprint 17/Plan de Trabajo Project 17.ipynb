{
 "cells": [
  {
   "cell_type": "markdown",
   "metadata": {},
   "source": [
    "# PLAN DE TRABAJO - FINAL PROJECT"
   ]
  },
  {
   "cell_type": "markdown",
   "metadata": {},
   "source": [
    "## 1. Objetivo"
   ]
  },
  {
   "cell_type": "markdown",
   "metadata": {},
   "source": [
    "1. `Deberás realizar un análisis exploratorio de datos.`\n",
    "\n",
    "    - Una lista de preguntas aclaratorias.\n",
    "    - Un plan aproximado para resolver la tarea, que especifica de 3 a 5 pasos básicos y los explica en uno o dos enunciados.\n"
   ]
  },
  {
   "cell_type": "markdown",
   "metadata": {},
   "source": [
    "## 2. Descripción de los Datos"
   ]
  },
  {
   "cell_type": "markdown",
   "metadata": {},
   "source": [
    "Los datos consisten en cuatro archivos obtenidos de diferentes fuentes:\n",
    "\n",
    "- `contract.csv` — información del contrato;\n",
    "- `personal.csv` — datos personales del cliente;\n",
    "- `internet.csv` — información sobre los servicios de Internet;\n",
    "- `phone.csv` — información sobre los servicios telefónicos.\n",
    "\n",
    "En cada archivo, la columna `customerID` (ID de cliente) contiene un código único asignado a cada cliente. La información del contrato es válida a partir del 1 de febrero de 2020."
   ]
  },
  {
   "cell_type": "markdown",
   "metadata": {},
   "source": [
    "## 3. Preguntas Aclaratorias\n",
    "\n",
    "1. ¿Qué métricas específicas utiliza Interconnect actualmente para medir la satisfacción del cliente y qué tan accesibles son esos datos?\n",
    "\n",
    "2. ¿Se ha identificado algún patrón estacional o tendencias en la tasa de cancelación ('churn') en los últimos años?\n",
    "\n",
    "3. ¿Cuáles son las características demográficas más comunes de los clientes que cancelan, y cómo se distribuyen estas características en la base de datos?\n",
    "\n",
    "4. ¿Qué tipo de incentivos anteriores ha ofrecido Interconnect a los clientes en riesgo de cancelación, y cuál ha sido su efectividad?\n",
    "\n",
    "5. ¿Cómo se manejan los datos sobre las interacciones del servicio al cliente, como llamadas al soporte técnico o quejas, y cómo se relacionan con las cancelaciones?\n",
    "\n",
    "6. ¿Existe algún plan para expandir o modificar los servicios de Interconnect en el futuro cercano que pueda influir en la tasa de cancelación?"
   ]
  },
  {
   "cell_type": "markdown",
   "metadata": {},
   "source": [
    "## 4. Plan de Trabajo"
   ]
  },
  {
   "cell_type": "markdown",
   "metadata": {},
   "source": [
    "1. **Recolección y Exploración de Datos**: Reunir todos los datos disponibles, como el uso de servicios y contratos. Realizar un análisis exploratorio de datos para identificar patrones y correlaciones iniciales.\n",
    "\n",
    "2. **Preprocesamiento de Datos**: Limpiar y preparar los datos para el análisis. Esto incluye manejar valores faltantes, modificar variables categóricas, y estandarizar datos según sea necesario.\n",
    "\n",
    "3. **Desarrollo de Modelos Predictivos**: Construir y entrenar modelos de machine learning (como regresión logística, árboles de decisión o redes neuronales) para predecir la probabilidad de cancelación de clientes. Evaluar la precisión y efectividad de cada modelo utilizando métricas de rendimiento.\n",
    "\n",
    "4. **Validación y Ajuste del Modelo**: Realizar pruebas con datos de validación y ajustar los modelos para mejorar su precisión. Esto puede incluir la selección de características, ajuste de hiperparámetros, y la prueba de diferentes enfoques de modelado.\n",
    "\n",
    "5. **Implementación y Monitoreo**: Implementar el modelo predictivo en el sistema de Interconnect y establecer un proceso de monitoreo continuo para ajustar el modelo según sea necesario y garantizar que se mantenga su efectividad a lo largo del tiempo."
   ]
  },
  {
   "cell_type": "code",
   "execution_count": null,
   "metadata": {},
   "outputs": [],
   "source": []
  }
 ],
 "metadata": {
  "kernelspec": {
   "display_name": "Python 3",
   "language": "python",
   "name": "python3"
  },
  "language_info": {
   "codemirror_mode": {
    "name": "ipython",
    "version": 3
   },
   "file_extension": ".py",
   "mimetype": "text/x-python",
   "name": "python",
   "nbconvert_exporter": "python",
   "pygments_lexer": "ipython3",
   "version": "3.12.2"
  }
 },
 "nbformat": 4,
 "nbformat_minor": 2
}
